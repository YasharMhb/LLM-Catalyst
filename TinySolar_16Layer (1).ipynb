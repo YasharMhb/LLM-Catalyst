{
  "nbformat": 4,
  "nbformat_minor": 0,
  "metadata": {
    "colab": {
      "provenance": [],
      "gpuType": "T4",
      "collapsed_sections": [
        "jtjfwmRvdEEV",
        "QPQg3wfF8YZ5",
        "v6hs8Hh45j27",
        "9PQGpOZXDC6a",
        "psYuChXGGZoM"
      ]
    },
    "kernelspec": {
      "name": "python3",
      "display_name": "Python 3"
    },
    "language_info": {
      "name": "python"
    },
    "widgets": {
      "application/vnd.jupyter.widget-state+json": {
        "af23ab1bff284578bc748ed16e539555": {
          "model_module": "@jupyter-widgets/controls",
          "model_name": "HBoxModel",
          "model_module_version": "1.5.0",
          "state": {
            "_dom_classes": [],
            "_model_module": "@jupyter-widgets/controls",
            "_model_module_version": "1.5.0",
            "_model_name": "HBoxModel",
            "_view_count": null,
            "_view_module": "@jupyter-widgets/controls",
            "_view_module_version": "1.5.0",
            "_view_name": "HBoxView",
            "box_style": "",
            "children": [
              "IPY_MODEL_0aca6dcc6a824965a221ac77c97a4e97",
              "IPY_MODEL_ada7ecec35794e239a4ca7d4f07a68a9",
              "IPY_MODEL_4fcfb7bdf5144f3ea6de25e320de8e9e"
            ],
            "layout": "IPY_MODEL_61877d1a0b08489383698062b40f7ab3"
          }
        },
        "0aca6dcc6a824965a221ac77c97a4e97": {
          "model_module": "@jupyter-widgets/controls",
          "model_name": "HTMLModel",
          "model_module_version": "1.5.0",
          "state": {
            "_dom_classes": [],
            "_model_module": "@jupyter-widgets/controls",
            "_model_module_version": "1.5.0",
            "_model_name": "HTMLModel",
            "_view_count": null,
            "_view_module": "@jupyter-widgets/controls",
            "_view_module_version": "1.5.0",
            "_view_name": "HTMLView",
            "description": "",
            "description_tooltip": null,
            "layout": "IPY_MODEL_be45fb369c4f46e6a85a05c86474f7e6",
            "placeholder": "​",
            "style": "IPY_MODEL_ac9b90d45daa43e098dca6b80a35c056",
            "value": "pretraining_dataset.parquet: 100%"
          }
        },
        "ada7ecec35794e239a4ca7d4f07a68a9": {
          "model_module": "@jupyter-widgets/controls",
          "model_name": "FloatProgressModel",
          "model_module_version": "1.5.0",
          "state": {
            "_dom_classes": [],
            "_model_module": "@jupyter-widgets/controls",
            "_model_module_version": "1.5.0",
            "_model_name": "FloatProgressModel",
            "_view_count": null,
            "_view_module": "@jupyter-widgets/controls",
            "_view_module_version": "1.5.0",
            "_view_name": "ProgressView",
            "bar_style": "success",
            "description": "",
            "description_tooltip": null,
            "layout": "IPY_MODEL_701230bf5cc544a69063b98bbce2371b",
            "max": 150058575,
            "min": 0,
            "orientation": "horizontal",
            "style": "IPY_MODEL_78feddfff7704ed388eb2952e6c9dc70",
            "value": 150058575
          }
        },
        "4fcfb7bdf5144f3ea6de25e320de8e9e": {
          "model_module": "@jupyter-widgets/controls",
          "model_name": "HTMLModel",
          "model_module_version": "1.5.0",
          "state": {
            "_dom_classes": [],
            "_model_module": "@jupyter-widgets/controls",
            "_model_module_version": "1.5.0",
            "_model_name": "HTMLModel",
            "_view_count": null,
            "_view_module": "@jupyter-widgets/controls",
            "_view_module_version": "1.5.0",
            "_view_name": "HTMLView",
            "description": "",
            "description_tooltip": null,
            "layout": "IPY_MODEL_3d47bf58e6154bd18e5dbf043a3b0e61",
            "placeholder": "​",
            "style": "IPY_MODEL_fff4587fd2a94757a82871960e268ebd",
            "value": " 150M/150M [00:01&lt;00:00, 84.4MB/s]"
          }
        },
        "61877d1a0b08489383698062b40f7ab3": {
          "model_module": "@jupyter-widgets/base",
          "model_name": "LayoutModel",
          "model_module_version": "1.2.0",
          "state": {
            "_model_module": "@jupyter-widgets/base",
            "_model_module_version": "1.2.0",
            "_model_name": "LayoutModel",
            "_view_count": null,
            "_view_module": "@jupyter-widgets/base",
            "_view_module_version": "1.2.0",
            "_view_name": "LayoutView",
            "align_content": null,
            "align_items": null,
            "align_self": null,
            "border": null,
            "bottom": null,
            "display": null,
            "flex": null,
            "flex_flow": null,
            "grid_area": null,
            "grid_auto_columns": null,
            "grid_auto_flow": null,
            "grid_auto_rows": null,
            "grid_column": null,
            "grid_gap": null,
            "grid_row": null,
            "grid_template_areas": null,
            "grid_template_columns": null,
            "grid_template_rows": null,
            "height": null,
            "justify_content": null,
            "justify_items": null,
            "left": null,
            "margin": null,
            "max_height": null,
            "max_width": null,
            "min_height": null,
            "min_width": null,
            "object_fit": null,
            "object_position": null,
            "order": null,
            "overflow": null,
            "overflow_x": null,
            "overflow_y": null,
            "padding": null,
            "right": null,
            "top": null,
            "visibility": null,
            "width": null
          }
        },
        "be45fb369c4f46e6a85a05c86474f7e6": {
          "model_module": "@jupyter-widgets/base",
          "model_name": "LayoutModel",
          "model_module_version": "1.2.0",
          "state": {
            "_model_module": "@jupyter-widgets/base",
            "_model_module_version": "1.2.0",
            "_model_name": "LayoutModel",
            "_view_count": null,
            "_view_module": "@jupyter-widgets/base",
            "_view_module_version": "1.2.0",
            "_view_name": "LayoutView",
            "align_content": null,
            "align_items": null,
            "align_self": null,
            "border": null,
            "bottom": null,
            "display": null,
            "flex": null,
            "flex_flow": null,
            "grid_area": null,
            "grid_auto_columns": null,
            "grid_auto_flow": null,
            "grid_auto_rows": null,
            "grid_column": null,
            "grid_gap": null,
            "grid_row": null,
            "grid_template_areas": null,
            "grid_template_columns": null,
            "grid_template_rows": null,
            "height": null,
            "justify_content": null,
            "justify_items": null,
            "left": null,
            "margin": null,
            "max_height": null,
            "max_width": null,
            "min_height": null,
            "min_width": null,
            "object_fit": null,
            "object_position": null,
            "order": null,
            "overflow": null,
            "overflow_x": null,
            "overflow_y": null,
            "padding": null,
            "right": null,
            "top": null,
            "visibility": null,
            "width": null
          }
        },
        "ac9b90d45daa43e098dca6b80a35c056": {
          "model_module": "@jupyter-widgets/controls",
          "model_name": "DescriptionStyleModel",
          "model_module_version": "1.5.0",
          "state": {
            "_model_module": "@jupyter-widgets/controls",
            "_model_module_version": "1.5.0",
            "_model_name": "DescriptionStyleModel",
            "_view_count": null,
            "_view_module": "@jupyter-widgets/base",
            "_view_module_version": "1.2.0",
            "_view_name": "StyleView",
            "description_width": ""
          }
        },
        "701230bf5cc544a69063b98bbce2371b": {
          "model_module": "@jupyter-widgets/base",
          "model_name": "LayoutModel",
          "model_module_version": "1.2.0",
          "state": {
            "_model_module": "@jupyter-widgets/base",
            "_model_module_version": "1.2.0",
            "_model_name": "LayoutModel",
            "_view_count": null,
            "_view_module": "@jupyter-widgets/base",
            "_view_module_version": "1.2.0",
            "_view_name": "LayoutView",
            "align_content": null,
            "align_items": null,
            "align_self": null,
            "border": null,
            "bottom": null,
            "display": null,
            "flex": null,
            "flex_flow": null,
            "grid_area": null,
            "grid_auto_columns": null,
            "grid_auto_flow": null,
            "grid_auto_rows": null,
            "grid_column": null,
            "grid_gap": null,
            "grid_row": null,
            "grid_template_areas": null,
            "grid_template_columns": null,
            "grid_template_rows": null,
            "height": null,
            "justify_content": null,
            "justify_items": null,
            "left": null,
            "margin": null,
            "max_height": null,
            "max_width": null,
            "min_height": null,
            "min_width": null,
            "object_fit": null,
            "object_position": null,
            "order": null,
            "overflow": null,
            "overflow_x": null,
            "overflow_y": null,
            "padding": null,
            "right": null,
            "top": null,
            "visibility": null,
            "width": null
          }
        },
        "78feddfff7704ed388eb2952e6c9dc70": {
          "model_module": "@jupyter-widgets/controls",
          "model_name": "ProgressStyleModel",
          "model_module_version": "1.5.0",
          "state": {
            "_model_module": "@jupyter-widgets/controls",
            "_model_module_version": "1.5.0",
            "_model_name": "ProgressStyleModel",
            "_view_count": null,
            "_view_module": "@jupyter-widgets/base",
            "_view_module_version": "1.2.0",
            "_view_name": "StyleView",
            "bar_color": null,
            "description_width": ""
          }
        },
        "3d47bf58e6154bd18e5dbf043a3b0e61": {
          "model_module": "@jupyter-widgets/base",
          "model_name": "LayoutModel",
          "model_module_version": "1.2.0",
          "state": {
            "_model_module": "@jupyter-widgets/base",
            "_model_module_version": "1.2.0",
            "_model_name": "LayoutModel",
            "_view_count": null,
            "_view_module": "@jupyter-widgets/base",
            "_view_module_version": "1.2.0",
            "_view_name": "LayoutView",
            "align_content": null,
            "align_items": null,
            "align_self": null,
            "border": null,
            "bottom": null,
            "display": null,
            "flex": null,
            "flex_flow": null,
            "grid_area": null,
            "grid_auto_columns": null,
            "grid_auto_flow": null,
            "grid_auto_rows": null,
            "grid_column": null,
            "grid_gap": null,
            "grid_row": null,
            "grid_template_areas": null,
            "grid_template_columns": null,
            "grid_template_rows": null,
            "height": null,
            "justify_content": null,
            "justify_items": null,
            "left": null,
            "margin": null,
            "max_height": null,
            "max_width": null,
            "min_height": null,
            "min_width": null,
            "object_fit": null,
            "object_position": null,
            "order": null,
            "overflow": null,
            "overflow_x": null,
            "overflow_y": null,
            "padding": null,
            "right": null,
            "top": null,
            "visibility": null,
            "width": null
          }
        },
        "fff4587fd2a94757a82871960e268ebd": {
          "model_module": "@jupyter-widgets/controls",
          "model_name": "DescriptionStyleModel",
          "model_module_version": "1.5.0",
          "state": {
            "_model_module": "@jupyter-widgets/controls",
            "_model_module_version": "1.5.0",
            "_model_name": "DescriptionStyleModel",
            "_view_count": null,
            "_view_module": "@jupyter-widgets/base",
            "_view_module_version": "1.2.0",
            "_view_name": "StyleView",
            "description_width": ""
          }
        },
        "fe8384d5fb024d5c8ea4cffda2103667": {
          "model_module": "@jupyter-widgets/controls",
          "model_name": "HBoxModel",
          "model_module_version": "1.5.0",
          "state": {
            "_dom_classes": [],
            "_model_module": "@jupyter-widgets/controls",
            "_model_module_version": "1.5.0",
            "_model_name": "HBoxModel",
            "_view_count": null,
            "_view_module": "@jupyter-widgets/controls",
            "_view_module_version": "1.5.0",
            "_view_name": "HBoxView",
            "box_style": "",
            "children": [
              "IPY_MODEL_016d787d420942a49f53b11caf49968e",
              "IPY_MODEL_a13587e3bfd14c8d9b98f1cbbcf789c4",
              "IPY_MODEL_6c208ed918f64a728f215dcae235963b"
            ],
            "layout": "IPY_MODEL_7c9cbed2a7464585aa1ca37aa9ba3d12"
          }
        },
        "016d787d420942a49f53b11caf49968e": {
          "model_module": "@jupyter-widgets/controls",
          "model_name": "HTMLModel",
          "model_module_version": "1.5.0",
          "state": {
            "_dom_classes": [],
            "_model_module": "@jupyter-widgets/controls",
            "_model_module_version": "1.5.0",
            "_model_name": "HTMLModel",
            "_view_count": null,
            "_view_module": "@jupyter-widgets/controls",
            "_view_module_version": "1.5.0",
            "_view_name": "HTMLView",
            "description": "",
            "description_tooltip": null,
            "layout": "IPY_MODEL_8980236c68e24ab68fd1bc33a38cd330",
            "placeholder": "​",
            "style": "IPY_MODEL_3322d8280f394fd6b7a86c0757250d81",
            "value": "Generating train split: 100%"
          }
        },
        "a13587e3bfd14c8d9b98f1cbbcf789c4": {
          "model_module": "@jupyter-widgets/controls",
          "model_name": "FloatProgressModel",
          "model_module_version": "1.5.0",
          "state": {
            "_dom_classes": [],
            "_model_module": "@jupyter-widgets/controls",
            "_model_module_version": "1.5.0",
            "_model_name": "FloatProgressModel",
            "_view_count": null,
            "_view_module": "@jupyter-widgets/controls",
            "_view_module_version": "1.5.0",
            "_view_name": "ProgressView",
            "bar_style": "success",
            "description": "",
            "description_tooltip": null,
            "layout": "IPY_MODEL_1678c9b37a39438ead351598df2e7f22",
            "max": 60000,
            "min": 0,
            "orientation": "horizontal",
            "style": "IPY_MODEL_f89229b83cd84661b3a7334a027dc124",
            "value": 60000
          }
        },
        "6c208ed918f64a728f215dcae235963b": {
          "model_module": "@jupyter-widgets/controls",
          "model_name": "HTMLModel",
          "model_module_version": "1.5.0",
          "state": {
            "_dom_classes": [],
            "_model_module": "@jupyter-widgets/controls",
            "_model_module_version": "1.5.0",
            "_model_name": "HTMLModel",
            "_view_count": null,
            "_view_module": "@jupyter-widgets/controls",
            "_view_module_version": "1.5.0",
            "_view_name": "HTMLView",
            "description": "",
            "description_tooltip": null,
            "layout": "IPY_MODEL_c68c7bb248f14707bd9ffbd1cb1ada0a",
            "placeholder": "​",
            "style": "IPY_MODEL_f3d9e257bcb047a8b263f5c6e0051d22",
            "value": " 60000/60000 [00:05&lt;00:00, 5570.97 examples/s]"
          }
        },
        "7c9cbed2a7464585aa1ca37aa9ba3d12": {
          "model_module": "@jupyter-widgets/base",
          "model_name": "LayoutModel",
          "model_module_version": "1.2.0",
          "state": {
            "_model_module": "@jupyter-widgets/base",
            "_model_module_version": "1.2.0",
            "_model_name": "LayoutModel",
            "_view_count": null,
            "_view_module": "@jupyter-widgets/base",
            "_view_module_version": "1.2.0",
            "_view_name": "LayoutView",
            "align_content": null,
            "align_items": null,
            "align_self": null,
            "border": null,
            "bottom": null,
            "display": null,
            "flex": null,
            "flex_flow": null,
            "grid_area": null,
            "grid_auto_columns": null,
            "grid_auto_flow": null,
            "grid_auto_rows": null,
            "grid_column": null,
            "grid_gap": null,
            "grid_row": null,
            "grid_template_areas": null,
            "grid_template_columns": null,
            "grid_template_rows": null,
            "height": null,
            "justify_content": null,
            "justify_items": null,
            "left": null,
            "margin": null,
            "max_height": null,
            "max_width": null,
            "min_height": null,
            "min_width": null,
            "object_fit": null,
            "object_position": null,
            "order": null,
            "overflow": null,
            "overflow_x": null,
            "overflow_y": null,
            "padding": null,
            "right": null,
            "top": null,
            "visibility": null,
            "width": null
          }
        },
        "8980236c68e24ab68fd1bc33a38cd330": {
          "model_module": "@jupyter-widgets/base",
          "model_name": "LayoutModel",
          "model_module_version": "1.2.0",
          "state": {
            "_model_module": "@jupyter-widgets/base",
            "_model_module_version": "1.2.0",
            "_model_name": "LayoutModel",
            "_view_count": null,
            "_view_module": "@jupyter-widgets/base",
            "_view_module_version": "1.2.0",
            "_view_name": "LayoutView",
            "align_content": null,
            "align_items": null,
            "align_self": null,
            "border": null,
            "bottom": null,
            "display": null,
            "flex": null,
            "flex_flow": null,
            "grid_area": null,
            "grid_auto_columns": null,
            "grid_auto_flow": null,
            "grid_auto_rows": null,
            "grid_column": null,
            "grid_gap": null,
            "grid_row": null,
            "grid_template_areas": null,
            "grid_template_columns": null,
            "grid_template_rows": null,
            "height": null,
            "justify_content": null,
            "justify_items": null,
            "left": null,
            "margin": null,
            "max_height": null,
            "max_width": null,
            "min_height": null,
            "min_width": null,
            "object_fit": null,
            "object_position": null,
            "order": null,
            "overflow": null,
            "overflow_x": null,
            "overflow_y": null,
            "padding": null,
            "right": null,
            "top": null,
            "visibility": null,
            "width": null
          }
        },
        "3322d8280f394fd6b7a86c0757250d81": {
          "model_module": "@jupyter-widgets/controls",
          "model_name": "DescriptionStyleModel",
          "model_module_version": "1.5.0",
          "state": {
            "_model_module": "@jupyter-widgets/controls",
            "_model_module_version": "1.5.0",
            "_model_name": "DescriptionStyleModel",
            "_view_count": null,
            "_view_module": "@jupyter-widgets/base",
            "_view_module_version": "1.2.0",
            "_view_name": "StyleView",
            "description_width": ""
          }
        },
        "1678c9b37a39438ead351598df2e7f22": {
          "model_module": "@jupyter-widgets/base",
          "model_name": "LayoutModel",
          "model_module_version": "1.2.0",
          "state": {
            "_model_module": "@jupyter-widgets/base",
            "_model_module_version": "1.2.0",
            "_model_name": "LayoutModel",
            "_view_count": null,
            "_view_module": "@jupyter-widgets/base",
            "_view_module_version": "1.2.0",
            "_view_name": "LayoutView",
            "align_content": null,
            "align_items": null,
            "align_self": null,
            "border": null,
            "bottom": null,
            "display": null,
            "flex": null,
            "flex_flow": null,
            "grid_area": null,
            "grid_auto_columns": null,
            "grid_auto_flow": null,
            "grid_auto_rows": null,
            "grid_column": null,
            "grid_gap": null,
            "grid_row": null,
            "grid_template_areas": null,
            "grid_template_columns": null,
            "grid_template_rows": null,
            "height": null,
            "justify_content": null,
            "justify_items": null,
            "left": null,
            "margin": null,
            "max_height": null,
            "max_width": null,
            "min_height": null,
            "min_width": null,
            "object_fit": null,
            "object_position": null,
            "order": null,
            "overflow": null,
            "overflow_x": null,
            "overflow_y": null,
            "padding": null,
            "right": null,
            "top": null,
            "visibility": null,
            "width": null
          }
        },
        "f89229b83cd84661b3a7334a027dc124": {
          "model_module": "@jupyter-widgets/controls",
          "model_name": "ProgressStyleModel",
          "model_module_version": "1.5.0",
          "state": {
            "_model_module": "@jupyter-widgets/controls",
            "_model_module_version": "1.5.0",
            "_model_name": "ProgressStyleModel",
            "_view_count": null,
            "_view_module": "@jupyter-widgets/base",
            "_view_module_version": "1.2.0",
            "_view_name": "StyleView",
            "bar_color": null,
            "description_width": ""
          }
        },
        "c68c7bb248f14707bd9ffbd1cb1ada0a": {
          "model_module": "@jupyter-widgets/base",
          "model_name": "LayoutModel",
          "model_module_version": "1.2.0",
          "state": {
            "_model_module": "@jupyter-widgets/base",
            "_model_module_version": "1.2.0",
            "_model_name": "LayoutModel",
            "_view_count": null,
            "_view_module": "@jupyter-widgets/base",
            "_view_module_version": "1.2.0",
            "_view_name": "LayoutView",
            "align_content": null,
            "align_items": null,
            "align_self": null,
            "border": null,
            "bottom": null,
            "display": null,
            "flex": null,
            "flex_flow": null,
            "grid_area": null,
            "grid_auto_columns": null,
            "grid_auto_flow": null,
            "grid_auto_rows": null,
            "grid_column": null,
            "grid_gap": null,
            "grid_row": null,
            "grid_template_areas": null,
            "grid_template_columns": null,
            "grid_template_rows": null,
            "height": null,
            "justify_content": null,
            "justify_items": null,
            "left": null,
            "margin": null,
            "max_height": null,
            "max_width": null,
            "min_height": null,
            "min_width": null,
            "object_fit": null,
            "object_position": null,
            "order": null,
            "overflow": null,
            "overflow_x": null,
            "overflow_y": null,
            "padding": null,
            "right": null,
            "top": null,
            "visibility": null,
            "width": null
          }
        },
        "f3d9e257bcb047a8b263f5c6e0051d22": {
          "model_module": "@jupyter-widgets/controls",
          "model_name": "DescriptionStyleModel",
          "model_module_version": "1.5.0",
          "state": {
            "_model_module": "@jupyter-widgets/controls",
            "_model_module_version": "1.5.0",
            "_model_name": "DescriptionStyleModel",
            "_view_count": null,
            "_view_module": "@jupyter-widgets/base",
            "_view_module_version": "1.2.0",
            "_view_name": "StyleView",
            "description_width": ""
          }
        },
        "b53645a5ecb048a2871e281997a8fe2a": {
          "model_module": "@jupyter-widgets/controls",
          "model_name": "HBoxModel",
          "model_module_version": "1.5.0",
          "state": {
            "_dom_classes": [],
            "_model_module": "@jupyter-widgets/controls",
            "_model_module_version": "1.5.0",
            "_model_name": "HBoxModel",
            "_view_count": null,
            "_view_module": "@jupyter-widgets/controls",
            "_view_module_version": "1.5.0",
            "_view_name": "HBoxView",
            "box_style": "",
            "children": [
              "IPY_MODEL_ecb14f43c6f44db18054f459460082ff",
              "IPY_MODEL_3b9c2e744a8d4cefb710c4f693067a59",
              "IPY_MODEL_59e9d6dbf322472685f0e4229f6a5b17"
            ],
            "layout": "IPY_MODEL_17260e7724854958a32fd7c08745d4f0"
          }
        },
        "ecb14f43c6f44db18054f459460082ff": {
          "model_module": "@jupyter-widgets/controls",
          "model_name": "HTMLModel",
          "model_module_version": "1.5.0",
          "state": {
            "_dom_classes": [],
            "_model_module": "@jupyter-widgets/controls",
            "_model_module_version": "1.5.0",
            "_model_name": "HTMLModel",
            "_view_count": null,
            "_view_module": "@jupyter-widgets/controls",
            "_view_module_version": "1.5.0",
            "_view_name": "HTMLView",
            "description": "",
            "description_tooltip": null,
            "layout": "IPY_MODEL_96d8e561ae7e4f16a4ebdc3e08418bca",
            "placeholder": "​",
            "style": "IPY_MODEL_2a023705cd8e4d7c938042b0a2cbf2a8",
            "value": "README.md: 100%"
          }
        },
        "3b9c2e744a8d4cefb710c4f693067a59": {
          "model_module": "@jupyter-widgets/controls",
          "model_name": "FloatProgressModel",
          "model_module_version": "1.5.0",
          "state": {
            "_dom_classes": [],
            "_model_module": "@jupyter-widgets/controls",
            "_model_module_version": "1.5.0",
            "_model_name": "FloatProgressModel",
            "_view_count": null,
            "_view_module": "@jupyter-widgets/controls",
            "_view_module_version": "1.5.0",
            "_view_name": "ProgressView",
            "bar_style": "success",
            "description": "",
            "description_tooltip": null,
            "layout": "IPY_MODEL_f4a30d1e380f424fbb2a5b354c1bbf9b",
            "max": 1389,
            "min": 0,
            "orientation": "horizontal",
            "style": "IPY_MODEL_13a50a6d87924afbadd35d8a0753488f",
            "value": 1389
          }
        },
        "59e9d6dbf322472685f0e4229f6a5b17": {
          "model_module": "@jupyter-widgets/controls",
          "model_name": "HTMLModel",
          "model_module_version": "1.5.0",
          "state": {
            "_dom_classes": [],
            "_model_module": "@jupyter-widgets/controls",
            "_model_module_version": "1.5.0",
            "_model_name": "HTMLModel",
            "_view_count": null,
            "_view_module": "@jupyter-widgets/controls",
            "_view_module_version": "1.5.0",
            "_view_name": "HTMLView",
            "description": "",
            "description_tooltip": null,
            "layout": "IPY_MODEL_9869fd0432fc488e9294ed55e8cc4daa",
            "placeholder": "​",
            "style": "IPY_MODEL_5e478804287e41c7a7c3589d155f8337",
            "value": " 1.39k/1.39k [00:00&lt;00:00, 82.3kB/s]"
          }
        },
        "17260e7724854958a32fd7c08745d4f0": {
          "model_module": "@jupyter-widgets/base",
          "model_name": "LayoutModel",
          "model_module_version": "1.2.0",
          "state": {
            "_model_module": "@jupyter-widgets/base",
            "_model_module_version": "1.2.0",
            "_model_name": "LayoutModel",
            "_view_count": null,
            "_view_module": "@jupyter-widgets/base",
            "_view_module_version": "1.2.0",
            "_view_name": "LayoutView",
            "align_content": null,
            "align_items": null,
            "align_self": null,
            "border": null,
            "bottom": null,
            "display": null,
            "flex": null,
            "flex_flow": null,
            "grid_area": null,
            "grid_auto_columns": null,
            "grid_auto_flow": null,
            "grid_auto_rows": null,
            "grid_column": null,
            "grid_gap": null,
            "grid_row": null,
            "grid_template_areas": null,
            "grid_template_columns": null,
            "grid_template_rows": null,
            "height": null,
            "justify_content": null,
            "justify_items": null,
            "left": null,
            "margin": null,
            "max_height": null,
            "max_width": null,
            "min_height": null,
            "min_width": null,
            "object_fit": null,
            "object_position": null,
            "order": null,
            "overflow": null,
            "overflow_x": null,
            "overflow_y": null,
            "padding": null,
            "right": null,
            "top": null,
            "visibility": null,
            "width": null
          }
        },
        "96d8e561ae7e4f16a4ebdc3e08418bca": {
          "model_module": "@jupyter-widgets/base",
          "model_name": "LayoutModel",
          "model_module_version": "1.2.0",
          "state": {
            "_model_module": "@jupyter-widgets/base",
            "_model_module_version": "1.2.0",
            "_model_name": "LayoutModel",
            "_view_count": null,
            "_view_module": "@jupyter-widgets/base",
            "_view_module_version": "1.2.0",
            "_view_name": "LayoutView",
            "align_content": null,
            "align_items": null,
            "align_self": null,
            "border": null,
            "bottom": null,
            "display": null,
            "flex": null,
            "flex_flow": null,
            "grid_area": null,
            "grid_auto_columns": null,
            "grid_auto_flow": null,
            "grid_auto_rows": null,
            "grid_column": null,
            "grid_gap": null,
            "grid_row": null,
            "grid_template_areas": null,
            "grid_template_columns": null,
            "grid_template_rows": null,
            "height": null,
            "justify_content": null,
            "justify_items": null,
            "left": null,
            "margin": null,
            "max_height": null,
            "max_width": null,
            "min_height": null,
            "min_width": null,
            "object_fit": null,
            "object_position": null,
            "order": null,
            "overflow": null,
            "overflow_x": null,
            "overflow_y": null,
            "padding": null,
            "right": null,
            "top": null,
            "visibility": null,
            "width": null
          }
        },
        "2a023705cd8e4d7c938042b0a2cbf2a8": {
          "model_module": "@jupyter-widgets/controls",
          "model_name": "DescriptionStyleModel",
          "model_module_version": "1.5.0",
          "state": {
            "_model_module": "@jupyter-widgets/controls",
            "_model_module_version": "1.5.0",
            "_model_name": "DescriptionStyleModel",
            "_view_count": null,
            "_view_module": "@jupyter-widgets/base",
            "_view_module_version": "1.2.0",
            "_view_name": "StyleView",
            "description_width": ""
          }
        },
        "f4a30d1e380f424fbb2a5b354c1bbf9b": {
          "model_module": "@jupyter-widgets/base",
          "model_name": "LayoutModel",
          "model_module_version": "1.2.0",
          "state": {
            "_model_module": "@jupyter-widgets/base",
            "_model_module_version": "1.2.0",
            "_model_name": "LayoutModel",
            "_view_count": null,
            "_view_module": "@jupyter-widgets/base",
            "_view_module_version": "1.2.0",
            "_view_name": "LayoutView",
            "align_content": null,
            "align_items": null,
            "align_self": null,
            "border": null,
            "bottom": null,
            "display": null,
            "flex": null,
            "flex_flow": null,
            "grid_area": null,
            "grid_auto_columns": null,
            "grid_auto_flow": null,
            "grid_auto_rows": null,
            "grid_column": null,
            "grid_gap": null,
            "grid_row": null,
            "grid_template_areas": null,
            "grid_template_columns": null,
            "grid_template_rows": null,
            "height": null,
            "justify_content": null,
            "justify_items": null,
            "left": null,
            "margin": null,
            "max_height": null,
            "max_width": null,
            "min_height": null,
            "min_width": null,
            "object_fit": null,
            "object_position": null,
            "order": null,
            "overflow": null,
            "overflow_x": null,
            "overflow_y": null,
            "padding": null,
            "right": null,
            "top": null,
            "visibility": null,
            "width": null
          }
        },
        "13a50a6d87924afbadd35d8a0753488f": {
          "model_module": "@jupyter-widgets/controls",
          "model_name": "ProgressStyleModel",
          "model_module_version": "1.5.0",
          "state": {
            "_model_module": "@jupyter-widgets/controls",
            "_model_module_version": "1.5.0",
            "_model_name": "ProgressStyleModel",
            "_view_count": null,
            "_view_module": "@jupyter-widgets/base",
            "_view_module_version": "1.2.0",
            "_view_name": "StyleView",
            "bar_color": null,
            "description_width": ""
          }
        },
        "9869fd0432fc488e9294ed55e8cc4daa": {
          "model_module": "@jupyter-widgets/base",
          "model_name": "LayoutModel",
          "model_module_version": "1.2.0",
          "state": {
            "_model_module": "@jupyter-widgets/base",
            "_model_module_version": "1.2.0",
            "_model_name": "LayoutModel",
            "_view_count": null,
            "_view_module": "@jupyter-widgets/base",
            "_view_module_version": "1.2.0",
            "_view_name": "LayoutView",
            "align_content": null,
            "align_items": null,
            "align_self": null,
            "border": null,
            "bottom": null,
            "display": null,
            "flex": null,
            "flex_flow": null,
            "grid_area": null,
            "grid_auto_columns": null,
            "grid_auto_flow": null,
            "grid_auto_rows": null,
            "grid_column": null,
            "grid_gap": null,
            "grid_row": null,
            "grid_template_areas": null,
            "grid_template_columns": null,
            "grid_template_rows": null,
            "height": null,
            "justify_content": null,
            "justify_items": null,
            "left": null,
            "margin": null,
            "max_height": null,
            "max_width": null,
            "min_height": null,
            "min_width": null,
            "object_fit": null,
            "object_position": null,
            "order": null,
            "overflow": null,
            "overflow_x": null,
            "overflow_y": null,
            "padding": null,
            "right": null,
            "top": null,
            "visibility": null,
            "width": null
          }
        },
        "5e478804287e41c7a7c3589d155f8337": {
          "model_module": "@jupyter-widgets/controls",
          "model_name": "DescriptionStyleModel",
          "model_module_version": "1.5.0",
          "state": {
            "_model_module": "@jupyter-widgets/controls",
            "_model_module_version": "1.5.0",
            "_model_name": "DescriptionStyleModel",
            "_view_count": null,
            "_view_module": "@jupyter-widgets/base",
            "_view_module_version": "1.2.0",
            "_view_name": "StyleView",
            "description_width": ""
          }
        },
        "d155f41a40ea41ea90d1f82201423171": {
          "model_module": "@jupyter-widgets/controls",
          "model_name": "HBoxModel",
          "model_module_version": "1.5.0",
          "state": {
            "_dom_classes": [],
            "_model_module": "@jupyter-widgets/controls",
            "_model_module_version": "1.5.0",
            "_model_name": "HBoxModel",
            "_view_count": null,
            "_view_module": "@jupyter-widgets/controls",
            "_view_module_version": "1.5.0",
            "_view_name": "HBoxView",
            "box_style": "",
            "children": [
              "IPY_MODEL_a62cbdf0aa694650a9008e94d3c50927",
              "IPY_MODEL_53522a2dc4414a8ea9d4acbfbeb727fc",
              "IPY_MODEL_36cebfc86c4b40f1b2f35356762fcd9e"
            ],
            "layout": "IPY_MODEL_0e9e2437da9841b9978ec74cbf9553fc"
          }
        },
        "a62cbdf0aa694650a9008e94d3c50927": {
          "model_module": "@jupyter-widgets/controls",
          "model_name": "HTMLModel",
          "model_module_version": "1.5.0",
          "state": {
            "_dom_classes": [],
            "_model_module": "@jupyter-widgets/controls",
            "_model_module_version": "1.5.0",
            "_model_name": "HTMLModel",
            "_view_count": null,
            "_view_module": "@jupyter-widgets/controls",
            "_view_module_version": "1.5.0",
            "_view_name": "HTMLView",
            "description": "",
            "description_tooltip": null,
            "layout": "IPY_MODEL_9c64335bc14b406ca1e9b696da90d3a7",
            "placeholder": "​",
            "style": "IPY_MODEL_064cfd10b40f416e9b162287c043cbc4",
            "value": "alpaca_gpt4_data.json: 100%"
          }
        },
        "53522a2dc4414a8ea9d4acbfbeb727fc": {
          "model_module": "@jupyter-widgets/controls",
          "model_name": "FloatProgressModel",
          "model_module_version": "1.5.0",
          "state": {
            "_dom_classes": [],
            "_model_module": "@jupyter-widgets/controls",
            "_model_module_version": "1.5.0",
            "_model_name": "FloatProgressModel",
            "_view_count": null,
            "_view_module": "@jupyter-widgets/controls",
            "_view_module_version": "1.5.0",
            "_view_name": "ProgressView",
            "bar_style": "success",
            "description": "",
            "description_tooltip": null,
            "layout": "IPY_MODEL_4dba39cf7c224371adbcc2aea2570155",
            "max": 43379276,
            "min": 0,
            "orientation": "horizontal",
            "style": "IPY_MODEL_59a2307f96bc42dabdeb5e9d450149e4",
            "value": 43379276
          }
        },
        "36cebfc86c4b40f1b2f35356762fcd9e": {
          "model_module": "@jupyter-widgets/controls",
          "model_name": "HTMLModel",
          "model_module_version": "1.5.0",
          "state": {
            "_dom_classes": [],
            "_model_module": "@jupyter-widgets/controls",
            "_model_module_version": "1.5.0",
            "_model_name": "HTMLModel",
            "_view_count": null,
            "_view_module": "@jupyter-widgets/controls",
            "_view_module_version": "1.5.0",
            "_view_name": "HTMLView",
            "description": "",
            "description_tooltip": null,
            "layout": "IPY_MODEL_a728078d74e345e18cc33316220162e8",
            "placeholder": "​",
            "style": "IPY_MODEL_ded228b6a32c4392b6ba43cad9008fd9",
            "value": " 43.4M/43.4M [00:00&lt;00:00, 69.8MB/s]"
          }
        },
        "0e9e2437da9841b9978ec74cbf9553fc": {
          "model_module": "@jupyter-widgets/base",
          "model_name": "LayoutModel",
          "model_module_version": "1.2.0",
          "state": {
            "_model_module": "@jupyter-widgets/base",
            "_model_module_version": "1.2.0",
            "_model_name": "LayoutModel",
            "_view_count": null,
            "_view_module": "@jupyter-widgets/base",
            "_view_module_version": "1.2.0",
            "_view_name": "LayoutView",
            "align_content": null,
            "align_items": null,
            "align_self": null,
            "border": null,
            "bottom": null,
            "display": null,
            "flex": null,
            "flex_flow": null,
            "grid_area": null,
            "grid_auto_columns": null,
            "grid_auto_flow": null,
            "grid_auto_rows": null,
            "grid_column": null,
            "grid_gap": null,
            "grid_row": null,
            "grid_template_areas": null,
            "grid_template_columns": null,
            "grid_template_rows": null,
            "height": null,
            "justify_content": null,
            "justify_items": null,
            "left": null,
            "margin": null,
            "max_height": null,
            "max_width": null,
            "min_height": null,
            "min_width": null,
            "object_fit": null,
            "object_position": null,
            "order": null,
            "overflow": null,
            "overflow_x": null,
            "overflow_y": null,
            "padding": null,
            "right": null,
            "top": null,
            "visibility": null,
            "width": null
          }
        },
        "9c64335bc14b406ca1e9b696da90d3a7": {
          "model_module": "@jupyter-widgets/base",
          "model_name": "LayoutModel",
          "model_module_version": "1.2.0",
          "state": {
            "_model_module": "@jupyter-widgets/base",
            "_model_module_version": "1.2.0",
            "_model_name": "LayoutModel",
            "_view_count": null,
            "_view_module": "@jupyter-widgets/base",
            "_view_module_version": "1.2.0",
            "_view_name": "LayoutView",
            "align_content": null,
            "align_items": null,
            "align_self": null,
            "border": null,
            "bottom": null,
            "display": null,
            "flex": null,
            "flex_flow": null,
            "grid_area": null,
            "grid_auto_columns": null,
            "grid_auto_flow": null,
            "grid_auto_rows": null,
            "grid_column": null,
            "grid_gap": null,
            "grid_row": null,
            "grid_template_areas": null,
            "grid_template_columns": null,
            "grid_template_rows": null,
            "height": null,
            "justify_content": null,
            "justify_items": null,
            "left": null,
            "margin": null,
            "max_height": null,
            "max_width": null,
            "min_height": null,
            "min_width": null,
            "object_fit": null,
            "object_position": null,
            "order": null,
            "overflow": null,
            "overflow_x": null,
            "overflow_y": null,
            "padding": null,
            "right": null,
            "top": null,
            "visibility": null,
            "width": null
          }
        },
        "064cfd10b40f416e9b162287c043cbc4": {
          "model_module": "@jupyter-widgets/controls",
          "model_name": "DescriptionStyleModel",
          "model_module_version": "1.5.0",
          "state": {
            "_model_module": "@jupyter-widgets/controls",
            "_model_module_version": "1.5.0",
            "_model_name": "DescriptionStyleModel",
            "_view_count": null,
            "_view_module": "@jupyter-widgets/base",
            "_view_module_version": "1.2.0",
            "_view_name": "StyleView",
            "description_width": ""
          }
        },
        "4dba39cf7c224371adbcc2aea2570155": {
          "model_module": "@jupyter-widgets/base",
          "model_name": "LayoutModel",
          "model_module_version": "1.2.0",
          "state": {
            "_model_module": "@jupyter-widgets/base",
            "_model_module_version": "1.2.0",
            "_model_name": "LayoutModel",
            "_view_count": null,
            "_view_module": "@jupyter-widgets/base",
            "_view_module_version": "1.2.0",
            "_view_name": "LayoutView",
            "align_content": null,
            "align_items": null,
            "align_self": null,
            "border": null,
            "bottom": null,
            "display": null,
            "flex": null,
            "flex_flow": null,
            "grid_area": null,
            "grid_auto_columns": null,
            "grid_auto_flow": null,
            "grid_auto_rows": null,
            "grid_column": null,
            "grid_gap": null,
            "grid_row": null,
            "grid_template_areas": null,
            "grid_template_columns": null,
            "grid_template_rows": null,
            "height": null,
            "justify_content": null,
            "justify_items": null,
            "left": null,
            "margin": null,
            "max_height": null,
            "max_width": null,
            "min_height": null,
            "min_width": null,
            "object_fit": null,
            "object_position": null,
            "order": null,
            "overflow": null,
            "overflow_x": null,
            "overflow_y": null,
            "padding": null,
            "right": null,
            "top": null,
            "visibility": null,
            "width": null
          }
        },
        "59a2307f96bc42dabdeb5e9d450149e4": {
          "model_module": "@jupyter-widgets/controls",
          "model_name": "ProgressStyleModel",
          "model_module_version": "1.5.0",
          "state": {
            "_model_module": "@jupyter-widgets/controls",
            "_model_module_version": "1.5.0",
            "_model_name": "ProgressStyleModel",
            "_view_count": null,
            "_view_module": "@jupyter-widgets/base",
            "_view_module_version": "1.2.0",
            "_view_name": "StyleView",
            "bar_color": null,
            "description_width": ""
          }
        },
        "a728078d74e345e18cc33316220162e8": {
          "model_module": "@jupyter-widgets/base",
          "model_name": "LayoutModel",
          "model_module_version": "1.2.0",
          "state": {
            "_model_module": "@jupyter-widgets/base",
            "_model_module_version": "1.2.0",
            "_model_name": "LayoutModel",
            "_view_count": null,
            "_view_module": "@jupyter-widgets/base",
            "_view_module_version": "1.2.0",
            "_view_name": "LayoutView",
            "align_content": null,
            "align_items": null,
            "align_self": null,
            "border": null,
            "bottom": null,
            "display": null,
            "flex": null,
            "flex_flow": null,
            "grid_area": null,
            "grid_auto_columns": null,
            "grid_auto_flow": null,
            "grid_auto_rows": null,
            "grid_column": null,
            "grid_gap": null,
            "grid_row": null,
            "grid_template_areas": null,
            "grid_template_columns": null,
            "grid_template_rows": null,
            "height": null,
            "justify_content": null,
            "justify_items": null,
            "left": null,
            "margin": null,
            "max_height": null,
            "max_width": null,
            "min_height": null,
            "min_width": null,
            "object_fit": null,
            "object_position": null,
            "order": null,
            "overflow": null,
            "overflow_x": null,
            "overflow_y": null,
            "padding": null,
            "right": null,
            "top": null,
            "visibility": null,
            "width": null
          }
        },
        "ded228b6a32c4392b6ba43cad9008fd9": {
          "model_module": "@jupyter-widgets/controls",
          "model_name": "DescriptionStyleModel",
          "model_module_version": "1.5.0",
          "state": {
            "_model_module": "@jupyter-widgets/controls",
            "_model_module_version": "1.5.0",
            "_model_name": "DescriptionStyleModel",
            "_view_count": null,
            "_view_module": "@jupyter-widgets/base",
            "_view_module_version": "1.2.0",
            "_view_name": "StyleView",
            "description_width": ""
          }
        },
        "1c36b001385942769dd8d211c7ba0c34": {
          "model_module": "@jupyter-widgets/controls",
          "model_name": "HBoxModel",
          "model_module_version": "1.5.0",
          "state": {
            "_dom_classes": [],
            "_model_module": "@jupyter-widgets/controls",
            "_model_module_version": "1.5.0",
            "_model_name": "HBoxModel",
            "_view_count": null,
            "_view_module": "@jupyter-widgets/controls",
            "_view_module_version": "1.5.0",
            "_view_name": "HBoxView",
            "box_style": "",
            "children": [
              "IPY_MODEL_32cfecb178b04e25a57da3d5b5d5d43c",
              "IPY_MODEL_fb15b755fc6147fd9285d444bca74022",
              "IPY_MODEL_8271739fea7a4278a440d75d7a23663e"
            ],
            "layout": "IPY_MODEL_04d510001c7846468065033c227afaa7"
          }
        },
        "32cfecb178b04e25a57da3d5b5d5d43c": {
          "model_module": "@jupyter-widgets/controls",
          "model_name": "HTMLModel",
          "model_module_version": "1.5.0",
          "state": {
            "_dom_classes": [],
            "_model_module": "@jupyter-widgets/controls",
            "_model_module_version": "1.5.0",
            "_model_name": "HTMLModel",
            "_view_count": null,
            "_view_module": "@jupyter-widgets/controls",
            "_view_module_version": "1.5.0",
            "_view_name": "HTMLView",
            "description": "",
            "description_tooltip": null,
            "layout": "IPY_MODEL_80bf882895754a33bbcfd93429e39f5d",
            "placeholder": "​",
            "style": "IPY_MODEL_2dc22262c69849109dc18a0e89b04c00",
            "value": "Generating train split: 100%"
          }
        },
        "fb15b755fc6147fd9285d444bca74022": {
          "model_module": "@jupyter-widgets/controls",
          "model_name": "FloatProgressModel",
          "model_module_version": "1.5.0",
          "state": {
            "_dom_classes": [],
            "_model_module": "@jupyter-widgets/controls",
            "_model_module_version": "1.5.0",
            "_model_name": "FloatProgressModel",
            "_view_count": null,
            "_view_module": "@jupyter-widgets/controls",
            "_view_module_version": "1.5.0",
            "_view_name": "ProgressView",
            "bar_style": "success",
            "description": "",
            "description_tooltip": null,
            "layout": "IPY_MODEL_fe698c627b6d4620985ea4a832ead9f3",
            "max": 52002,
            "min": 0,
            "orientation": "horizontal",
            "style": "IPY_MODEL_e535df70f5d44b85aa17076efbc629d6",
            "value": 52002
          }
        },
        "8271739fea7a4278a440d75d7a23663e": {
          "model_module": "@jupyter-widgets/controls",
          "model_name": "HTMLModel",
          "model_module_version": "1.5.0",
          "state": {
            "_dom_classes": [],
            "_model_module": "@jupyter-widgets/controls",
            "_model_module_version": "1.5.0",
            "_model_name": "HTMLModel",
            "_view_count": null,
            "_view_module": "@jupyter-widgets/controls",
            "_view_module_version": "1.5.0",
            "_view_name": "HTMLView",
            "description": "",
            "description_tooltip": null,
            "layout": "IPY_MODEL_25492611421c4e9db2c71d7c253e3e08",
            "placeholder": "​",
            "style": "IPY_MODEL_9c6395c32c584ea9918b6bc4b15dd33d",
            "value": " 52002/52002 [00:00&lt;00:00, 73645.45 examples/s]"
          }
        },
        "04d510001c7846468065033c227afaa7": {
          "model_module": "@jupyter-widgets/base",
          "model_name": "LayoutModel",
          "model_module_version": "1.2.0",
          "state": {
            "_model_module": "@jupyter-widgets/base",
            "_model_module_version": "1.2.0",
            "_model_name": "LayoutModel",
            "_view_count": null,
            "_view_module": "@jupyter-widgets/base",
            "_view_module_version": "1.2.0",
            "_view_name": "LayoutView",
            "align_content": null,
            "align_items": null,
            "align_self": null,
            "border": null,
            "bottom": null,
            "display": null,
            "flex": null,
            "flex_flow": null,
            "grid_area": null,
            "grid_auto_columns": null,
            "grid_auto_flow": null,
            "grid_auto_rows": null,
            "grid_column": null,
            "grid_gap": null,
            "grid_row": null,
            "grid_template_areas": null,
            "grid_template_columns": null,
            "grid_template_rows": null,
            "height": null,
            "justify_content": null,
            "justify_items": null,
            "left": null,
            "margin": null,
            "max_height": null,
            "max_width": null,
            "min_height": null,
            "min_width": null,
            "object_fit": null,
            "object_position": null,
            "order": null,
            "overflow": null,
            "overflow_x": null,
            "overflow_y": null,
            "padding": null,
            "right": null,
            "top": null,
            "visibility": null,
            "width": null
          }
        },
        "80bf882895754a33bbcfd93429e39f5d": {
          "model_module": "@jupyter-widgets/base",
          "model_name": "LayoutModel",
          "model_module_version": "1.2.0",
          "state": {
            "_model_module": "@jupyter-widgets/base",
            "_model_module_version": "1.2.0",
            "_model_name": "LayoutModel",
            "_view_count": null,
            "_view_module": "@jupyter-widgets/base",
            "_view_module_version": "1.2.0",
            "_view_name": "LayoutView",
            "align_content": null,
            "align_items": null,
            "align_self": null,
            "border": null,
            "bottom": null,
            "display": null,
            "flex": null,
            "flex_flow": null,
            "grid_area": null,
            "grid_auto_columns": null,
            "grid_auto_flow": null,
            "grid_auto_rows": null,
            "grid_column": null,
            "grid_gap": null,
            "grid_row": null,
            "grid_template_areas": null,
            "grid_template_columns": null,
            "grid_template_rows": null,
            "height": null,
            "justify_content": null,
            "justify_items": null,
            "left": null,
            "margin": null,
            "max_height": null,
            "max_width": null,
            "min_height": null,
            "min_width": null,
            "object_fit": null,
            "object_position": null,
            "order": null,
            "overflow": null,
            "overflow_x": null,
            "overflow_y": null,
            "padding": null,
            "right": null,
            "top": null,
            "visibility": null,
            "width": null
          }
        },
        "2dc22262c69849109dc18a0e89b04c00": {
          "model_module": "@jupyter-widgets/controls",
          "model_name": "DescriptionStyleModel",
          "model_module_version": "1.5.0",
          "state": {
            "_model_module": "@jupyter-widgets/controls",
            "_model_module_version": "1.5.0",
            "_model_name": "DescriptionStyleModel",
            "_view_count": null,
            "_view_module": "@jupyter-widgets/base",
            "_view_module_version": "1.2.0",
            "_view_name": "StyleView",
            "description_width": ""
          }
        },
        "fe698c627b6d4620985ea4a832ead9f3": {
          "model_module": "@jupyter-widgets/base",
          "model_name": "LayoutModel",
          "model_module_version": "1.2.0",
          "state": {
            "_model_module": "@jupyter-widgets/base",
            "_model_module_version": "1.2.0",
            "_model_name": "LayoutModel",
            "_view_count": null,
            "_view_module": "@jupyter-widgets/base",
            "_view_module_version": "1.2.0",
            "_view_name": "LayoutView",
            "align_content": null,
            "align_items": null,
            "align_self": null,
            "border": null,
            "bottom": null,
            "display": null,
            "flex": null,
            "flex_flow": null,
            "grid_area": null,
            "grid_auto_columns": null,
            "grid_auto_flow": null,
            "grid_auto_rows": null,
            "grid_column": null,
            "grid_gap": null,
            "grid_row": null,
            "grid_template_areas": null,
            "grid_template_columns": null,
            "grid_template_rows": null,
            "height": null,
            "justify_content": null,
            "justify_items": null,
            "left": null,
            "margin": null,
            "max_height": null,
            "max_width": null,
            "min_height": null,
            "min_width": null,
            "object_fit": null,
            "object_position": null,
            "order": null,
            "overflow": null,
            "overflow_x": null,
            "overflow_y": null,
            "padding": null,
            "right": null,
            "top": null,
            "visibility": null,
            "width": null
          }
        },
        "e535df70f5d44b85aa17076efbc629d6": {
          "model_module": "@jupyter-widgets/controls",
          "model_name": "ProgressStyleModel",
          "model_module_version": "1.5.0",
          "state": {
            "_model_module": "@jupyter-widgets/controls",
            "_model_module_version": "1.5.0",
            "_model_name": "ProgressStyleModel",
            "_view_count": null,
            "_view_module": "@jupyter-widgets/base",
            "_view_module_version": "1.2.0",
            "_view_name": "StyleView",
            "bar_color": null,
            "description_width": ""
          }
        },
        "25492611421c4e9db2c71d7c253e3e08": {
          "model_module": "@jupyter-widgets/base",
          "model_name": "LayoutModel",
          "model_module_version": "1.2.0",
          "state": {
            "_model_module": "@jupyter-widgets/base",
            "_model_module_version": "1.2.0",
            "_model_name": "LayoutModel",
            "_view_count": null,
            "_view_module": "@jupyter-widgets/base",
            "_view_module_version": "1.2.0",
            "_view_name": "LayoutView",
            "align_content": null,
            "align_items": null,
            "align_self": null,
            "border": null,
            "bottom": null,
            "display": null,
            "flex": null,
            "flex_flow": null,
            "grid_area": null,
            "grid_auto_columns": null,
            "grid_auto_flow": null,
            "grid_auto_rows": null,
            "grid_column": null,
            "grid_gap": null,
            "grid_row": null,
            "grid_template_areas": null,
            "grid_template_columns": null,
            "grid_template_rows": null,
            "height": null,
            "justify_content": null,
            "justify_items": null,
            "left": null,
            "margin": null,
            "max_height": null,
            "max_width": null,
            "min_height": null,
            "min_width": null,
            "object_fit": null,
            "object_position": null,
            "order": null,
            "overflow": null,
            "overflow_x": null,
            "overflow_y": null,
            "padding": null,
            "right": null,
            "top": null,
            "visibility": null,
            "width": null
          }
        },
        "9c6395c32c584ea9918b6bc4b15dd33d": {
          "model_module": "@jupyter-widgets/controls",
          "model_name": "DescriptionStyleModel",
          "model_module_version": "1.5.0",
          "state": {
            "_model_module": "@jupyter-widgets/controls",
            "_model_module_version": "1.5.0",
            "_model_name": "DescriptionStyleModel",
            "_view_count": null,
            "_view_module": "@jupyter-widgets/base",
            "_view_module_version": "1.2.0",
            "_view_name": "StyleView",
            "description_width": ""
          }
        },
        "7d10095a2c2541ceb6a069e03607c72e": {
          "model_module": "@jupyter-widgets/controls",
          "model_name": "HBoxModel",
          "model_module_version": "1.5.0",
          "state": {
            "_dom_classes": [],
            "_model_module": "@jupyter-widgets/controls",
            "_model_module_version": "1.5.0",
            "_model_name": "HBoxModel",
            "_view_count": null,
            "_view_module": "@jupyter-widgets/controls",
            "_view_module_version": "1.5.0",
            "_view_name": "HBoxView",
            "box_style": "",
            "children": [
              "IPY_MODEL_b03f773e69154937b5584546b630aacf",
              "IPY_MODEL_e7c922eb58d5444f977b9dfe9e9e33a8",
              "IPY_MODEL_0a77d23a6b9b403887006117a167b5fc"
            ],
            "layout": "IPY_MODEL_8c6f9756083848c3afdd8ebd9be9451d"
          }
        },
        "b03f773e69154937b5584546b630aacf": {
          "model_module": "@jupyter-widgets/controls",
          "model_name": "HTMLModel",
          "model_module_version": "1.5.0",
          "state": {
            "_dom_classes": [],
            "_model_module": "@jupyter-widgets/controls",
            "_model_module_version": "1.5.0",
            "_model_name": "HTMLModel",
            "_view_count": null,
            "_view_module": "@jupyter-widgets/controls",
            "_view_module_version": "1.5.0",
            "_view_name": "HTMLView",
            "description": "",
            "description_tooltip": null,
            "layout": "IPY_MODEL_6714dfad7e2b47069dff14f5c3308c40",
            "placeholder": "​",
            "style": "IPY_MODEL_c89447295831478b948f1d4cf23db449",
            "value": "Filter: 100%"
          }
        },
        "e7c922eb58d5444f977b9dfe9e9e33a8": {
          "model_module": "@jupyter-widgets/controls",
          "model_name": "FloatProgressModel",
          "model_module_version": "1.5.0",
          "state": {
            "_dom_classes": [],
            "_model_module": "@jupyter-widgets/controls",
            "_model_module_version": "1.5.0",
            "_model_name": "FloatProgressModel",
            "_view_count": null,
            "_view_module": "@jupyter-widgets/controls",
            "_view_module_version": "1.5.0",
            "_view_name": "ProgressView",
            "bar_style": "success",
            "description": "",
            "description_tooltip": null,
            "layout": "IPY_MODEL_1842d6fd1c1e440a8a14b7d86226abfa",
            "max": 60009,
            "min": 0,
            "orientation": "horizontal",
            "style": "IPY_MODEL_fbcc8959ab434a7da82d5ca6ba0c78e0",
            "value": 60009
          }
        },
        "0a77d23a6b9b403887006117a167b5fc": {
          "model_module": "@jupyter-widgets/controls",
          "model_name": "HTMLModel",
          "model_module_version": "1.5.0",
          "state": {
            "_dom_classes": [],
            "_model_module": "@jupyter-widgets/controls",
            "_model_module_version": "1.5.0",
            "_model_name": "HTMLModel",
            "_view_count": null,
            "_view_module": "@jupyter-widgets/controls",
            "_view_module_version": "1.5.0",
            "_view_name": "HTMLView",
            "description": "",
            "description_tooltip": null,
            "layout": "IPY_MODEL_b4e1d1fdc22948298a8fc7d84c66a6ae",
            "placeholder": "​",
            "style": "IPY_MODEL_4dc1e21d75174d27b68c636b280432a1",
            "value": " 60009/60009 [00:02&lt;00:00, 30175.58 examples/s]"
          }
        },
        "8c6f9756083848c3afdd8ebd9be9451d": {
          "model_module": "@jupyter-widgets/base",
          "model_name": "LayoutModel",
          "model_module_version": "1.2.0",
          "state": {
            "_model_module": "@jupyter-widgets/base",
            "_model_module_version": "1.2.0",
            "_model_name": "LayoutModel",
            "_view_count": null,
            "_view_module": "@jupyter-widgets/base",
            "_view_module_version": "1.2.0",
            "_view_name": "LayoutView",
            "align_content": null,
            "align_items": null,
            "align_self": null,
            "border": null,
            "bottom": null,
            "display": null,
            "flex": null,
            "flex_flow": null,
            "grid_area": null,
            "grid_auto_columns": null,
            "grid_auto_flow": null,
            "grid_auto_rows": null,
            "grid_column": null,
            "grid_gap": null,
            "grid_row": null,
            "grid_template_areas": null,
            "grid_template_columns": null,
            "grid_template_rows": null,
            "height": null,
            "justify_content": null,
            "justify_items": null,
            "left": null,
            "margin": null,
            "max_height": null,
            "max_width": null,
            "min_height": null,
            "min_width": null,
            "object_fit": null,
            "object_position": null,
            "order": null,
            "overflow": null,
            "overflow_x": null,
            "overflow_y": null,
            "padding": null,
            "right": null,
            "top": null,
            "visibility": null,
            "width": null
          }
        },
        "6714dfad7e2b47069dff14f5c3308c40": {
          "model_module": "@jupyter-widgets/base",
          "model_name": "LayoutModel",
          "model_module_version": "1.2.0",
          "state": {
            "_model_module": "@jupyter-widgets/base",
            "_model_module_version": "1.2.0",
            "_model_name": "LayoutModel",
            "_view_count": null,
            "_view_module": "@jupyter-widgets/base",
            "_view_module_version": "1.2.0",
            "_view_name": "LayoutView",
            "align_content": null,
            "align_items": null,
            "align_self": null,
            "border": null,
            "bottom": null,
            "display": null,
            "flex": null,
            "flex_flow": null,
            "grid_area": null,
            "grid_auto_columns": null,
            "grid_auto_flow": null,
            "grid_auto_rows": null,
            "grid_column": null,
            "grid_gap": null,
            "grid_row": null,
            "grid_template_areas": null,
            "grid_template_columns": null,
            "grid_template_rows": null,
            "height": null,
            "justify_content": null,
            "justify_items": null,
            "left": null,
            "margin": null,
            "max_height": null,
            "max_width": null,
            "min_height": null,
            "min_width": null,
            "object_fit": null,
            "object_position": null,
            "order": null,
            "overflow": null,
            "overflow_x": null,
            "overflow_y": null,
            "padding": null,
            "right": null,
            "top": null,
            "visibility": null,
            "width": null
          }
        },
        "c89447295831478b948f1d4cf23db449": {
          "model_module": "@jupyter-widgets/controls",
          "model_name": "DescriptionStyleModel",
          "model_module_version": "1.5.0",
          "state": {
            "_model_module": "@jupyter-widgets/controls",
            "_model_module_version": "1.5.0",
            "_model_name": "DescriptionStyleModel",
            "_view_count": null,
            "_view_module": "@jupyter-widgets/base",
            "_view_module_version": "1.2.0",
            "_view_name": "StyleView",
            "description_width": ""
          }
        },
        "1842d6fd1c1e440a8a14b7d86226abfa": {
          "model_module": "@jupyter-widgets/base",
          "model_name": "LayoutModel",
          "model_module_version": "1.2.0",
          "state": {
            "_model_module": "@jupyter-widgets/base",
            "_model_module_version": "1.2.0",
            "_model_name": "LayoutModel",
            "_view_count": null,
            "_view_module": "@jupyter-widgets/base",
            "_view_module_version": "1.2.0",
            "_view_name": "LayoutView",
            "align_content": null,
            "align_items": null,
            "align_self": null,
            "border": null,
            "bottom": null,
            "display": null,
            "flex": null,
            "flex_flow": null,
            "grid_area": null,
            "grid_auto_columns": null,
            "grid_auto_flow": null,
            "grid_auto_rows": null,
            "grid_column": null,
            "grid_gap": null,
            "grid_row": null,
            "grid_template_areas": null,
            "grid_template_columns": null,
            "grid_template_rows": null,
            "height": null,
            "justify_content": null,
            "justify_items": null,
            "left": null,
            "margin": null,
            "max_height": null,
            "max_width": null,
            "min_height": null,
            "min_width": null,
            "object_fit": null,
            "object_position": null,
            "order": null,
            "overflow": null,
            "overflow_x": null,
            "overflow_y": null,
            "padding": null,
            "right": null,
            "top": null,
            "visibility": null,
            "width": null
          }
        },
        "fbcc8959ab434a7da82d5ca6ba0c78e0": {
          "model_module": "@jupyter-widgets/controls",
          "model_name": "ProgressStyleModel",
          "model_module_version": "1.5.0",
          "state": {
            "_model_module": "@jupyter-widgets/controls",
            "_model_module_version": "1.5.0",
            "_model_name": "ProgressStyleModel",
            "_view_count": null,
            "_view_module": "@jupyter-widgets/base",
            "_view_module_version": "1.2.0",
            "_view_name": "StyleView",
            "bar_color": null,
            "description_width": ""
          }
        },
        "b4e1d1fdc22948298a8fc7d84c66a6ae": {
          "model_module": "@jupyter-widgets/base",
          "model_name": "LayoutModel",
          "model_module_version": "1.2.0",
          "state": {
            "_model_module": "@jupyter-widgets/base",
            "_model_module_version": "1.2.0",
            "_model_name": "LayoutModel",
            "_view_count": null,
            "_view_module": "@jupyter-widgets/base",
            "_view_module_version": "1.2.0",
            "_view_name": "LayoutView",
            "align_content": null,
            "align_items": null,
            "align_self": null,
            "border": null,
            "bottom": null,
            "display": null,
            "flex": null,
            "flex_flow": null,
            "grid_area": null,
            "grid_auto_columns": null,
            "grid_auto_flow": null,
            "grid_auto_rows": null,
            "grid_column": null,
            "grid_gap": null,
            "grid_row": null,
            "grid_template_areas": null,
            "grid_template_columns": null,
            "grid_template_rows": null,
            "height": null,
            "justify_content": null,
            "justify_items": null,
            "left": null,
            "margin": null,
            "max_height": null,
            "max_width": null,
            "min_height": null,
            "min_width": null,
            "object_fit": null,
            "object_position": null,
            "order": null,
            "overflow": null,
            "overflow_x": null,
            "overflow_y": null,
            "padding": null,
            "right": null,
            "top": null,
            "visibility": null,
            "width": null
          }
        },
        "4dc1e21d75174d27b68c636b280432a1": {
          "model_module": "@jupyter-widgets/controls",
          "model_name": "DescriptionStyleModel",
          "model_module_version": "1.5.0",
          "state": {
            "_model_module": "@jupyter-widgets/controls",
            "_model_module_version": "1.5.0",
            "_model_name": "DescriptionStyleModel",
            "_view_count": null,
            "_view_module": "@jupyter-widgets/base",
            "_view_module_version": "1.2.0",
            "_view_name": "StyleView",
            "description_width": ""
          }
        },
        "d525b77404424280be00b00952070164": {
          "model_module": "@jupyter-widgets/controls",
          "model_name": "HBoxModel",
          "model_module_version": "1.5.0",
          "state": {
            "_dom_classes": [],
            "_model_module": "@jupyter-widgets/controls",
            "_model_module_version": "1.5.0",
            "_model_name": "HBoxModel",
            "_view_count": null,
            "_view_module": "@jupyter-widgets/controls",
            "_view_module_version": "1.5.0",
            "_view_name": "HBoxView",
            "box_style": "",
            "children": [
              "IPY_MODEL_b190f3f61f3846098143f7f2bbf758b1",
              "IPY_MODEL_bbd3174f086b4e7e9d0b367276a58c55",
              "IPY_MODEL_828fb151884b449e996ffad16c846d29"
            ],
            "layout": "IPY_MODEL_c7c85c014aa043539d22a2142fafa38e"
          }
        },
        "b190f3f61f3846098143f7f2bbf758b1": {
          "model_module": "@jupyter-widgets/controls",
          "model_name": "HTMLModel",
          "model_module_version": "1.5.0",
          "state": {
            "_dom_classes": [],
            "_model_module": "@jupyter-widgets/controls",
            "_model_module_version": "1.5.0",
            "_model_name": "HTMLModel",
            "_view_count": null,
            "_view_module": "@jupyter-widgets/controls",
            "_view_module_version": "1.5.0",
            "_view_name": "HTMLView",
            "description": "",
            "description_tooltip": null,
            "layout": "IPY_MODEL_fc785155d3004eaaa60999ac9d590b53",
            "placeholder": "​",
            "style": "IPY_MODEL_c29c6daf7bff4ad8aec0d32a91f49197",
            "value": "Filter: 100%"
          }
        },
        "bbd3174f086b4e7e9d0b367276a58c55": {
          "model_module": "@jupyter-widgets/controls",
          "model_name": "FloatProgressModel",
          "model_module_version": "1.5.0",
          "state": {
            "_dom_classes": [],
            "_model_module": "@jupyter-widgets/controls",
            "_model_module_version": "1.5.0",
            "_model_name": "FloatProgressModel",
            "_view_count": null,
            "_view_module": "@jupyter-widgets/controls",
            "_view_module_version": "1.5.0",
            "_view_name": "ProgressView",
            "bar_style": "success",
            "description": "",
            "description_tooltip": null,
            "layout": "IPY_MODEL_bc7be7f3a1724e6da9f75ebd73bf0dde",
            "max": 52356,
            "min": 0,
            "orientation": "horizontal",
            "style": "IPY_MODEL_e5f3b6afc0f9455293d0ef875827d293",
            "value": 52356
          }
        },
        "828fb151884b449e996ffad16c846d29": {
          "model_module": "@jupyter-widgets/controls",
          "model_name": "HTMLModel",
          "model_module_version": "1.5.0",
          "state": {
            "_dom_classes": [],
            "_model_module": "@jupyter-widgets/controls",
            "_model_module_version": "1.5.0",
            "_model_name": "HTMLModel",
            "_view_count": null,
            "_view_module": "@jupyter-widgets/controls",
            "_view_module_version": "1.5.0",
            "_view_name": "HTMLView",
            "description": "",
            "description_tooltip": null,
            "layout": "IPY_MODEL_5e761589e6ac451a9a01760f316991d2",
            "placeholder": "​",
            "style": "IPY_MODEL_cb861a56b43b46349a3cc259dc642bac",
            "value": " 52356/52356 [00:05&lt;00:00, 10154.28 examples/s]"
          }
        },
        "c7c85c014aa043539d22a2142fafa38e": {
          "model_module": "@jupyter-widgets/base",
          "model_name": "LayoutModel",
          "model_module_version": "1.2.0",
          "state": {
            "_model_module": "@jupyter-widgets/base",
            "_model_module_version": "1.2.0",
            "_model_name": "LayoutModel",
            "_view_count": null,
            "_view_module": "@jupyter-widgets/base",
            "_view_module_version": "1.2.0",
            "_view_name": "LayoutView",
            "align_content": null,
            "align_items": null,
            "align_self": null,
            "border": null,
            "bottom": null,
            "display": null,
            "flex": null,
            "flex_flow": null,
            "grid_area": null,
            "grid_auto_columns": null,
            "grid_auto_flow": null,
            "grid_auto_rows": null,
            "grid_column": null,
            "grid_gap": null,
            "grid_row": null,
            "grid_template_areas": null,
            "grid_template_columns": null,
            "grid_template_rows": null,
            "height": null,
            "justify_content": null,
            "justify_items": null,
            "left": null,
            "margin": null,
            "max_height": null,
            "max_width": null,
            "min_height": null,
            "min_width": null,
            "object_fit": null,
            "object_position": null,
            "order": null,
            "overflow": null,
            "overflow_x": null,
            "overflow_y": null,
            "padding": null,
            "right": null,
            "top": null,
            "visibility": null,
            "width": null
          }
        },
        "fc785155d3004eaaa60999ac9d590b53": {
          "model_module": "@jupyter-widgets/base",
          "model_name": "LayoutModel",
          "model_module_version": "1.2.0",
          "state": {
            "_model_module": "@jupyter-widgets/base",
            "_model_module_version": "1.2.0",
            "_model_name": "LayoutModel",
            "_view_count": null,
            "_view_module": "@jupyter-widgets/base",
            "_view_module_version": "1.2.0",
            "_view_name": "LayoutView",
            "align_content": null,
            "align_items": null,
            "align_self": null,
            "border": null,
            "bottom": null,
            "display": null,
            "flex": null,
            "flex_flow": null,
            "grid_area": null,
            "grid_auto_columns": null,
            "grid_auto_flow": null,
            "grid_auto_rows": null,
            "grid_column": null,
            "grid_gap": null,
            "grid_row": null,
            "grid_template_areas": null,
            "grid_template_columns": null,
            "grid_template_rows": null,
            "height": null,
            "justify_content": null,
            "justify_items": null,
            "left": null,
            "margin": null,
            "max_height": null,
            "max_width": null,
            "min_height": null,
            "min_width": null,
            "object_fit": null,
            "object_position": null,
            "order": null,
            "overflow": null,
            "overflow_x": null,
            "overflow_y": null,
            "padding": null,
            "right": null,
            "top": null,
            "visibility": null,
            "width": null
          }
        },
        "c29c6daf7bff4ad8aec0d32a91f49197": {
          "model_module": "@jupyter-widgets/controls",
          "model_name": "DescriptionStyleModel",
          "model_module_version": "1.5.0",
          "state": {
            "_model_module": "@jupyter-widgets/controls",
            "_model_module_version": "1.5.0",
            "_model_name": "DescriptionStyleModel",
            "_view_count": null,
            "_view_module": "@jupyter-widgets/base",
            "_view_module_version": "1.2.0",
            "_view_name": "StyleView",
            "description_width": ""
          }
        },
        "bc7be7f3a1724e6da9f75ebd73bf0dde": {
          "model_module": "@jupyter-widgets/base",
          "model_name": "LayoutModel",
          "model_module_version": "1.2.0",
          "state": {
            "_model_module": "@jupyter-widgets/base",
            "_model_module_version": "1.2.0",
            "_model_name": "LayoutModel",
            "_view_count": null,
            "_view_module": "@jupyter-widgets/base",
            "_view_module_version": "1.2.0",
            "_view_name": "LayoutView",
            "align_content": null,
            "align_items": null,
            "align_self": null,
            "border": null,
            "bottom": null,
            "display": null,
            "flex": null,
            "flex_flow": null,
            "grid_area": null,
            "grid_auto_columns": null,
            "grid_auto_flow": null,
            "grid_auto_rows": null,
            "grid_column": null,
            "grid_gap": null,
            "grid_row": null,
            "grid_template_areas": null,
            "grid_template_columns": null,
            "grid_template_rows": null,
            "height": null,
            "justify_content": null,
            "justify_items": null,
            "left": null,
            "margin": null,
            "max_height": null,
            "max_width": null,
            "min_height": null,
            "min_width": null,
            "object_fit": null,
            "object_position": null,
            "order": null,
            "overflow": null,
            "overflow_x": null,
            "overflow_y": null,
            "padding": null,
            "right": null,
            "top": null,
            "visibility": null,
            "width": null
          }
        },
        "e5f3b6afc0f9455293d0ef875827d293": {
          "model_module": "@jupyter-widgets/controls",
          "model_name": "ProgressStyleModel",
          "model_module_version": "1.5.0",
          "state": {
            "_model_module": "@jupyter-widgets/controls",
            "_model_module_version": "1.5.0",
            "_model_name": "ProgressStyleModel",
            "_view_count": null,
            "_view_module": "@jupyter-widgets/base",
            "_view_module_version": "1.2.0",
            "_view_name": "StyleView",
            "bar_color": null,
            "description_width": ""
          }
        },
        "5e761589e6ac451a9a01760f316991d2": {
          "model_module": "@jupyter-widgets/base",
          "model_name": "LayoutModel",
          "model_module_version": "1.2.0",
          "state": {
            "_model_module": "@jupyter-widgets/base",
            "_model_module_version": "1.2.0",
            "_model_name": "LayoutModel",
            "_view_count": null,
            "_view_module": "@jupyter-widgets/base",
            "_view_module_version": "1.2.0",
            "_view_name": "LayoutView",
            "align_content": null,
            "align_items": null,
            "align_self": null,
            "border": null,
            "bottom": null,
            "display": null,
            "flex": null,
            "flex_flow": null,
            "grid_area": null,
            "grid_auto_columns": null,
            "grid_auto_flow": null,
            "grid_auto_rows": null,
            "grid_column": null,
            "grid_gap": null,
            "grid_row": null,
            "grid_template_areas": null,
            "grid_template_columns": null,
            "grid_template_rows": null,
            "height": null,
            "justify_content": null,
            "justify_items": null,
            "left": null,
            "margin": null,
            "max_height": null,
            "max_width": null,
            "min_height": null,
            "min_width": null,
            "object_fit": null,
            "object_position": null,
            "order": null,
            "overflow": null,
            "overflow_x": null,
            "overflow_y": null,
            "padding": null,
            "right": null,
            "top": null,
            "visibility": null,
            "width": null
          }
        },
        "cb861a56b43b46349a3cc259dc642bac": {
          "model_module": "@jupyter-widgets/controls",
          "model_name": "DescriptionStyleModel",
          "model_module_version": "1.5.0",
          "state": {
            "_model_module": "@jupyter-widgets/controls",
            "_model_module_version": "1.5.0",
            "_model_name": "DescriptionStyleModel",
            "_view_count": null,
            "_view_module": "@jupyter-widgets/base",
            "_view_module_version": "1.2.0",
            "_view_name": "StyleView",
            "description_width": ""
          }
        },
        "86f5350a5673494083e58504a6160d00": {
          "model_module": "@jupyter-widgets/controls",
          "model_name": "HBoxModel",
          "model_module_version": "1.5.0",
          "state": {
            "_dom_classes": [],
            "_model_module": "@jupyter-widgets/controls",
            "_model_module_version": "1.5.0",
            "_model_name": "HBoxModel",
            "_view_count": null,
            "_view_module": "@jupyter-widgets/controls",
            "_view_module_version": "1.5.0",
            "_view_name": "HBoxView",
            "box_style": "",
            "children": [
              "IPY_MODEL_77ec2a69762c4b4e80e3b87ffeaa00c2",
              "IPY_MODEL_3ff3bf0eaeeb450d9e16db28cafea5a9",
              "IPY_MODEL_262c9211411e400ca676c6ebed23d407"
            ],
            "layout": "IPY_MODEL_3a94bb825408464b9a0484b37c20ff56"
          }
        },
        "77ec2a69762c4b4e80e3b87ffeaa00c2": {
          "model_module": "@jupyter-widgets/controls",
          "model_name": "HTMLModel",
          "model_module_version": "1.5.0",
          "state": {
            "_dom_classes": [],
            "_model_module": "@jupyter-widgets/controls",
            "_model_module_version": "1.5.0",
            "_model_name": "HTMLModel",
            "_view_count": null,
            "_view_module": "@jupyter-widgets/controls",
            "_view_module_version": "1.5.0",
            "_view_name": "HTMLView",
            "description": "",
            "description_tooltip": null,
            "layout": "IPY_MODEL_b6533c654d3b41adb8dcdfa2eee0afce",
            "placeholder": "​",
            "style": "IPY_MODEL_2f4597071a1349bc88428bc889e6f28c",
            "value": "Filter: 100%"
          }
        },
        "3ff3bf0eaeeb450d9e16db28cafea5a9": {
          "model_module": "@jupyter-widgets/controls",
          "model_name": "FloatProgressModel",
          "model_module_version": "1.5.0",
          "state": {
            "_dom_classes": [],
            "_model_module": "@jupyter-widgets/controls",
            "_model_module_version": "1.5.0",
            "_model_name": "FloatProgressModel",
            "_view_count": null,
            "_view_module": "@jupyter-widgets/controls",
            "_view_module_version": "1.5.0",
            "_view_name": "ProgressView",
            "bar_style": "success",
            "description": "",
            "description_tooltip": null,
            "layout": "IPY_MODEL_c6e50f952aa74a579df59a4798bbf829",
            "max": 52326,
            "min": 0,
            "orientation": "horizontal",
            "style": "IPY_MODEL_d10ad8b1bbe0490ea1bfcad2518555d0",
            "value": 52326
          }
        },
        "262c9211411e400ca676c6ebed23d407": {
          "model_module": "@jupyter-widgets/controls",
          "model_name": "HTMLModel",
          "model_module_version": "1.5.0",
          "state": {
            "_dom_classes": [],
            "_model_module": "@jupyter-widgets/controls",
            "_model_module_version": "1.5.0",
            "_model_name": "HTMLModel",
            "_view_count": null,
            "_view_module": "@jupyter-widgets/controls",
            "_view_module_version": "1.5.0",
            "_view_name": "HTMLView",
            "description": "",
            "description_tooltip": null,
            "layout": "IPY_MODEL_0aa2a49004b643ecab82f8b53ade50cc",
            "placeholder": "​",
            "style": "IPY_MODEL_e2a972a0c3954c93a8ee969baef17712",
            "value": " 52326/52326 [00:01&lt;00:00, 23449.45 examples/s]"
          }
        },
        "3a94bb825408464b9a0484b37c20ff56": {
          "model_module": "@jupyter-widgets/base",
          "model_name": "LayoutModel",
          "model_module_version": "1.2.0",
          "state": {
            "_model_module": "@jupyter-widgets/base",
            "_model_module_version": "1.2.0",
            "_model_name": "LayoutModel",
            "_view_count": null,
            "_view_module": "@jupyter-widgets/base",
            "_view_module_version": "1.2.0",
            "_view_name": "LayoutView",
            "align_content": null,
            "align_items": null,
            "align_self": null,
            "border": null,
            "bottom": null,
            "display": null,
            "flex": null,
            "flex_flow": null,
            "grid_area": null,
            "grid_auto_columns": null,
            "grid_auto_flow": null,
            "grid_auto_rows": null,
            "grid_column": null,
            "grid_gap": null,
            "grid_row": null,
            "grid_template_areas": null,
            "grid_template_columns": null,
            "grid_template_rows": null,
            "height": null,
            "justify_content": null,
            "justify_items": null,
            "left": null,
            "margin": null,
            "max_height": null,
            "max_width": null,
            "min_height": null,
            "min_width": null,
            "object_fit": null,
            "object_position": null,
            "order": null,
            "overflow": null,
            "overflow_x": null,
            "overflow_y": null,
            "padding": null,
            "right": null,
            "top": null,
            "visibility": null,
            "width": null
          }
        },
        "b6533c654d3b41adb8dcdfa2eee0afce": {
          "model_module": "@jupyter-widgets/base",
          "model_name": "LayoutModel",
          "model_module_version": "1.2.0",
          "state": {
            "_model_module": "@jupyter-widgets/base",
            "_model_module_version": "1.2.0",
            "_model_name": "LayoutModel",
            "_view_count": null,
            "_view_module": "@jupyter-widgets/base",
            "_view_module_version": "1.2.0",
            "_view_name": "LayoutView",
            "align_content": null,
            "align_items": null,
            "align_self": null,
            "border": null,
            "bottom": null,
            "display": null,
            "flex": null,
            "flex_flow": null,
            "grid_area": null,
            "grid_auto_columns": null,
            "grid_auto_flow": null,
            "grid_auto_rows": null,
            "grid_column": null,
            "grid_gap": null,
            "grid_row": null,
            "grid_template_areas": null,
            "grid_template_columns": null,
            "grid_template_rows": null,
            "height": null,
            "justify_content": null,
            "justify_items": null,
            "left": null,
            "margin": null,
            "max_height": null,
            "max_width": null,
            "min_height": null,
            "min_width": null,
            "object_fit": null,
            "object_position": null,
            "order": null,
            "overflow": null,
            "overflow_x": null,
            "overflow_y": null,
            "padding": null,
            "right": null,
            "top": null,
            "visibility": null,
            "width": null
          }
        },
        "2f4597071a1349bc88428bc889e6f28c": {
          "model_module": "@jupyter-widgets/controls",
          "model_name": "DescriptionStyleModel",
          "model_module_version": "1.5.0",
          "state": {
            "_model_module": "@jupyter-widgets/controls",
            "_model_module_version": "1.5.0",
            "_model_name": "DescriptionStyleModel",
            "_view_count": null,
            "_view_module": "@jupyter-widgets/base",
            "_view_module_version": "1.2.0",
            "_view_name": "StyleView",
            "description_width": ""
          }
        },
        "c6e50f952aa74a579df59a4798bbf829": {
          "model_module": "@jupyter-widgets/base",
          "model_name": "LayoutModel",
          "model_module_version": "1.2.0",
          "state": {
            "_model_module": "@jupyter-widgets/base",
            "_model_module_version": "1.2.0",
            "_model_name": "LayoutModel",
            "_view_count": null,
            "_view_module": "@jupyter-widgets/base",
            "_view_module_version": "1.2.0",
            "_view_name": "LayoutView",
            "align_content": null,
            "align_items": null,
            "align_self": null,
            "border": null,
            "bottom": null,
            "display": null,
            "flex": null,
            "flex_flow": null,
            "grid_area": null,
            "grid_auto_columns": null,
            "grid_auto_flow": null,
            "grid_auto_rows": null,
            "grid_column": null,
            "grid_gap": null,
            "grid_row": null,
            "grid_template_areas": null,
            "grid_template_columns": null,
            "grid_template_rows": null,
            "height": null,
            "justify_content": null,
            "justify_items": null,
            "left": null,
            "margin": null,
            "max_height": null,
            "max_width": null,
            "min_height": null,
            "min_width": null,
            "object_fit": null,
            "object_position": null,
            "order": null,
            "overflow": null,
            "overflow_x": null,
            "overflow_y": null,
            "padding": null,
            "right": null,
            "top": null,
            "visibility": null,
            "width": null
          }
        },
        "d10ad8b1bbe0490ea1bfcad2518555d0": {
          "model_module": "@jupyter-widgets/controls",
          "model_name": "ProgressStyleModel",
          "model_module_version": "1.5.0",
          "state": {
            "_model_module": "@jupyter-widgets/controls",
            "_model_module_version": "1.5.0",
            "_model_name": "ProgressStyleModel",
            "_view_count": null,
            "_view_module": "@jupyter-widgets/base",
            "_view_module_version": "1.2.0",
            "_view_name": "StyleView",
            "bar_color": null,
            "description_width": ""
          }
        },
        "0aa2a49004b643ecab82f8b53ade50cc": {
          "model_module": "@jupyter-widgets/base",
          "model_name": "LayoutModel",
          "model_module_version": "1.2.0",
          "state": {
            "_model_module": "@jupyter-widgets/base",
            "_model_module_version": "1.2.0",
            "_model_name": "LayoutModel",
            "_view_count": null,
            "_view_module": "@jupyter-widgets/base",
            "_view_module_version": "1.2.0",
            "_view_name": "LayoutView",
            "align_content": null,
            "align_items": null,
            "align_self": null,
            "border": null,
            "bottom": null,
            "display": null,
            "flex": null,
            "flex_flow": null,
            "grid_area": null,
            "grid_auto_columns": null,
            "grid_auto_flow": null,
            "grid_auto_rows": null,
            "grid_column": null,
            "grid_gap": null,
            "grid_row": null,
            "grid_template_areas": null,
            "grid_template_columns": null,
            "grid_template_rows": null,
            "height": null,
            "justify_content": null,
            "justify_items": null,
            "left": null,
            "margin": null,
            "max_height": null,
            "max_width": null,
            "min_height": null,
            "min_width": null,
            "object_fit": null,
            "object_position": null,
            "order": null,
            "overflow": null,
            "overflow_x": null,
            "overflow_y": null,
            "padding": null,
            "right": null,
            "top": null,
            "visibility": null,
            "width": null
          }
        },
        "e2a972a0c3954c93a8ee969baef17712": {
          "model_module": "@jupyter-widgets/controls",
          "model_name": "DescriptionStyleModel",
          "model_module_version": "1.5.0",
          "state": {
            "_model_module": "@jupyter-widgets/controls",
            "_model_module_version": "1.5.0",
            "_model_name": "DescriptionStyleModel",
            "_view_count": null,
            "_view_module": "@jupyter-widgets/base",
            "_view_module_version": "1.2.0",
            "_view_name": "StyleView",
            "description_width": ""
          }
        },
        "c1182945973a4f15aac851ceec80c605": {
          "model_module": "@jupyter-widgets/controls",
          "model_name": "HBoxModel",
          "model_module_version": "1.5.0",
          "state": {
            "_dom_classes": [],
            "_model_module": "@jupyter-widgets/controls",
            "_model_module_version": "1.5.0",
            "_model_name": "HBoxModel",
            "_view_count": null,
            "_view_module": "@jupyter-widgets/controls",
            "_view_module_version": "1.5.0",
            "_view_name": "HBoxView",
            "box_style": "",
            "children": [
              "IPY_MODEL_b6f7dec88a604d668cdca3ff01d942ce",
              "IPY_MODEL_44accabd04f24128bb6fc350fff08dc5",
              "IPY_MODEL_0efad5a76f904af6a76a9872f95bc747"
            ],
            "layout": "IPY_MODEL_c6270c81fbee4143883d2e93f27dc89d"
          }
        },
        "b6f7dec88a604d668cdca3ff01d942ce": {
          "model_module": "@jupyter-widgets/controls",
          "model_name": "HTMLModel",
          "model_module_version": "1.5.0",
          "state": {
            "_dom_classes": [],
            "_model_module": "@jupyter-widgets/controls",
            "_model_module_version": "1.5.0",
            "_model_name": "HTMLModel",
            "_view_count": null,
            "_view_module": "@jupyter-widgets/controls",
            "_view_module_version": "1.5.0",
            "_view_name": "HTMLView",
            "description": "",
            "description_tooltip": null,
            "layout": "IPY_MODEL_c24e0bbcc38643a6a2084b31ac42e07c",
            "placeholder": "​",
            "style": "IPY_MODEL_5b0ea7db01e8491dbd5bf6cb2cef4543",
            "value": "Filter:   0%"
          }
        },
        "44accabd04f24128bb6fc350fff08dc5": {
          "model_module": "@jupyter-widgets/controls",
          "model_name": "FloatProgressModel",
          "model_module_version": "1.5.0",
          "state": {
            "_dom_classes": [],
            "_model_module": "@jupyter-widgets/controls",
            "_model_module_version": "1.5.0",
            "_model_name": "FloatProgressModel",
            "_view_count": null,
            "_view_module": "@jupyter-widgets/controls",
            "_view_module_version": "1.5.0",
            "_view_name": "ProgressView",
            "bar_style": "danger",
            "description": "",
            "description_tooltip": null,
            "layout": "IPY_MODEL_fc8d9c44822949a6a533cd310c5df0b4",
            "max": 4360,
            "min": 0,
            "orientation": "horizontal",
            "style": "IPY_MODEL_7244488d3a644755ae66b4ac70300af0",
            "value": 0
          }
        },
        "0efad5a76f904af6a76a9872f95bc747": {
          "model_module": "@jupyter-widgets/controls",
          "model_name": "HTMLModel",
          "model_module_version": "1.5.0",
          "state": {
            "_dom_classes": [],
            "_model_module": "@jupyter-widgets/controls",
            "_model_module_version": "1.5.0",
            "_model_name": "HTMLModel",
            "_view_count": null,
            "_view_module": "@jupyter-widgets/controls",
            "_view_module_version": "1.5.0",
            "_view_name": "HTMLView",
            "description": "",
            "description_tooltip": null,
            "layout": "IPY_MODEL_c9ec597224194600b38bbd7e16b40b22",
            "placeholder": "​",
            "style": "IPY_MODEL_2215c09e574e41299f37ee03e33da89d",
            "value": " 0/4360 [00:00&lt;?, ? examples/s]"
          }
        },
        "c6270c81fbee4143883d2e93f27dc89d": {
          "model_module": "@jupyter-widgets/base",
          "model_name": "LayoutModel",
          "model_module_version": "1.2.0",
          "state": {
            "_model_module": "@jupyter-widgets/base",
            "_model_module_version": "1.2.0",
            "_model_name": "LayoutModel",
            "_view_count": null,
            "_view_module": "@jupyter-widgets/base",
            "_view_module_version": "1.2.0",
            "_view_name": "LayoutView",
            "align_content": null,
            "align_items": null,
            "align_self": null,
            "border": null,
            "bottom": null,
            "display": null,
            "flex": null,
            "flex_flow": null,
            "grid_area": null,
            "grid_auto_columns": null,
            "grid_auto_flow": null,
            "grid_auto_rows": null,
            "grid_column": null,
            "grid_gap": null,
            "grid_row": null,
            "grid_template_areas": null,
            "grid_template_columns": null,
            "grid_template_rows": null,
            "height": null,
            "justify_content": null,
            "justify_items": null,
            "left": null,
            "margin": null,
            "max_height": null,
            "max_width": null,
            "min_height": null,
            "min_width": null,
            "object_fit": null,
            "object_position": null,
            "order": null,
            "overflow": null,
            "overflow_x": null,
            "overflow_y": null,
            "padding": null,
            "right": null,
            "top": null,
            "visibility": null,
            "width": null
          }
        },
        "c24e0bbcc38643a6a2084b31ac42e07c": {
          "model_module": "@jupyter-widgets/base",
          "model_name": "LayoutModel",
          "model_module_version": "1.2.0",
          "state": {
            "_model_module": "@jupyter-widgets/base",
            "_model_module_version": "1.2.0",
            "_model_name": "LayoutModel",
            "_view_count": null,
            "_view_module": "@jupyter-widgets/base",
            "_view_module_version": "1.2.0",
            "_view_name": "LayoutView",
            "align_content": null,
            "align_items": null,
            "align_self": null,
            "border": null,
            "bottom": null,
            "display": null,
            "flex": null,
            "flex_flow": null,
            "grid_area": null,
            "grid_auto_columns": null,
            "grid_auto_flow": null,
            "grid_auto_rows": null,
            "grid_column": null,
            "grid_gap": null,
            "grid_row": null,
            "grid_template_areas": null,
            "grid_template_columns": null,
            "grid_template_rows": null,
            "height": null,
            "justify_content": null,
            "justify_items": null,
            "left": null,
            "margin": null,
            "max_height": null,
            "max_width": null,
            "min_height": null,
            "min_width": null,
            "object_fit": null,
            "object_position": null,
            "order": null,
            "overflow": null,
            "overflow_x": null,
            "overflow_y": null,
            "padding": null,
            "right": null,
            "top": null,
            "visibility": null,
            "width": null
          }
        },
        "5b0ea7db01e8491dbd5bf6cb2cef4543": {
          "model_module": "@jupyter-widgets/controls",
          "model_name": "DescriptionStyleModel",
          "model_module_version": "1.5.0",
          "state": {
            "_model_module": "@jupyter-widgets/controls",
            "_model_module_version": "1.5.0",
            "_model_name": "DescriptionStyleModel",
            "_view_count": null,
            "_view_module": "@jupyter-widgets/base",
            "_view_module_version": "1.2.0",
            "_view_name": "StyleView",
            "description_width": ""
          }
        },
        "fc8d9c44822949a6a533cd310c5df0b4": {
          "model_module": "@jupyter-widgets/base",
          "model_name": "LayoutModel",
          "model_module_version": "1.2.0",
          "state": {
            "_model_module": "@jupyter-widgets/base",
            "_model_module_version": "1.2.0",
            "_model_name": "LayoutModel",
            "_view_count": null,
            "_view_module": "@jupyter-widgets/base",
            "_view_module_version": "1.2.0",
            "_view_name": "LayoutView",
            "align_content": null,
            "align_items": null,
            "align_self": null,
            "border": null,
            "bottom": null,
            "display": null,
            "flex": null,
            "flex_flow": null,
            "grid_area": null,
            "grid_auto_columns": null,
            "grid_auto_flow": null,
            "grid_auto_rows": null,
            "grid_column": null,
            "grid_gap": null,
            "grid_row": null,
            "grid_template_areas": null,
            "grid_template_columns": null,
            "grid_template_rows": null,
            "height": null,
            "justify_content": null,
            "justify_items": null,
            "left": null,
            "margin": null,
            "max_height": null,
            "max_width": null,
            "min_height": null,
            "min_width": null,
            "object_fit": null,
            "object_position": null,
            "order": null,
            "overflow": null,
            "overflow_x": null,
            "overflow_y": null,
            "padding": null,
            "right": null,
            "top": null,
            "visibility": null,
            "width": null
          }
        },
        "7244488d3a644755ae66b4ac70300af0": {
          "model_module": "@jupyter-widgets/controls",
          "model_name": "ProgressStyleModel",
          "model_module_version": "1.5.0",
          "state": {
            "_model_module": "@jupyter-widgets/controls",
            "_model_module_version": "1.5.0",
            "_model_name": "ProgressStyleModel",
            "_view_count": null,
            "_view_module": "@jupyter-widgets/base",
            "_view_module_version": "1.2.0",
            "_view_name": "StyleView",
            "bar_color": null,
            "description_width": ""
          }
        },
        "c9ec597224194600b38bbd7e16b40b22": {
          "model_module": "@jupyter-widgets/base",
          "model_name": "LayoutModel",
          "model_module_version": "1.2.0",
          "state": {
            "_model_module": "@jupyter-widgets/base",
            "_model_module_version": "1.2.0",
            "_model_name": "LayoutModel",
            "_view_count": null,
            "_view_module": "@jupyter-widgets/base",
            "_view_module_version": "1.2.0",
            "_view_name": "LayoutView",
            "align_content": null,
            "align_items": null,
            "align_self": null,
            "border": null,
            "bottom": null,
            "display": null,
            "flex": null,
            "flex_flow": null,
            "grid_area": null,
            "grid_auto_columns": null,
            "grid_auto_flow": null,
            "grid_auto_rows": null,
            "grid_column": null,
            "grid_gap": null,
            "grid_row": null,
            "grid_template_areas": null,
            "grid_template_columns": null,
            "grid_template_rows": null,
            "height": null,
            "justify_content": null,
            "justify_items": null,
            "left": null,
            "margin": null,
            "max_height": null,
            "max_width": null,
            "min_height": null,
            "min_width": null,
            "object_fit": null,
            "object_position": null,
            "order": null,
            "overflow": null,
            "overflow_x": null,
            "overflow_y": null,
            "padding": null,
            "right": null,
            "top": null,
            "visibility": null,
            "width": null
          }
        },
        "2215c09e574e41299f37ee03e33da89d": {
          "model_module": "@jupyter-widgets/controls",
          "model_name": "DescriptionStyleModel",
          "model_module_version": "1.5.0",
          "state": {
            "_model_module": "@jupyter-widgets/controls",
            "_model_module_version": "1.5.0",
            "_model_name": "DescriptionStyleModel",
            "_view_count": null,
            "_view_module": "@jupyter-widgets/base",
            "_view_module_version": "1.2.0",
            "_view_name": "StyleView",
            "description_width": ""
          }
        }
      }
    },
    "accelerator": "GPU"
  },
  "cells": [
    {
      "cell_type": "markdown",
      "source": [
        "# **Pretraining? why?**"
      ],
      "metadata": {
        "id": "jtjfwmRvdEEV"
      }
    },
    {
      "cell_type": "markdown",
      "source": [
        " **Install dependencies and fix seed**"
      ],
      "metadata": {
        "id": "6oGENGjRfYay"
      }
    },
    {
      "cell_type": "code",
      "source": [
        "import os\n",
        "\n",
        "if not os.path.isfile(\"requirements.txt\"):\n",
        "    print(\"requirements.txt is missing\")\n",
        "else:\n",
        "    !pip install -r requirements.txt"
      ],
      "metadata": {
        "id": "6ur5Kjyrj07_"
      },
      "execution_count": null,
      "outputs": []
    },
    {
      "cell_type": "markdown",
      "source": [
        "Data available in requirements.txt (see the picture below)."
      ],
      "metadata": {
        "id": "XaKYWkCMkD-t"
      }
    },
    {
      "cell_type": "markdown",
      "source": [
        "![image.png](data:image/png;base64,iVBORw0KGgoAAAANSUhEUgAAAYgAAAGgCAYAAACwvPB9AAAAAXNSR0IArs4c6QAAAARnQU1BAACxjwv8YQUAAAAJcEhZcwAAHYcAAB2HAY/l8WUAAKYhSURBVHhe7P1/cFPXve8Pv92YHJkTzmyf0tOtDOSLPOR7LAd6Kj/mXuQmPYN46C1yybnIA+dBKjwlMsykJpkJcjKT2PBHa9IZkMgMsdPBSCY3HIlvyZXTQiX6hGPxtBCJ74XHamsi8f0apNxCI6XQI904RSo2Wc8fe0vaWtqSf8mSgfWaWTNbe62ltfav9V7rsz5r7xpCCMFDSiQSAQA0NDTQUQwGg8GYgq/QOxgMBoPBABMIBoPBYBSDCQSDwWAwZGECwWAwGAxZmEAwGAwGQxYmEAwGg8GQhQkEg8FgMGRhAsFgMBgMWZhAMBgMBkMWJhAMBoPBkIUJBIPBYDBkYQLBgHdHDWpqZMJqG6J0YgaD8chQFYG4f/v3OHfqXQwMDGBg4CQ++hOdglFJFEt58MtygaulUzzMxOHdb8J6dT06ztBxDzfp60Poeb4ZyrpMp6AOyjUm2M5GkaYTl5M7QTj2rkdTfa4zUqdshumQD/FJOnFx0te8sO1tQ/NyJeqkHZsdXjppeUlHMbS3FUqxvKZDD283qrICMR7FRz9/F44PLiGavEfHMqqE7nAMsZu54NxGp3iYGYHzxy74riWRoqMeYsLH1kP5dDsOnAkinlWDNOJXXOjSN0D1ghfJ/CxlII3w221Qfq0ZHW/5EJYUkI4H4XptPZTLO+CdquBkADa9EnXqNnS95UXwVnx+BS3DZBKBQ+1QLmlA+1sBxOn4h5DKCMT4pwie/TcMnDyHj/90D1j8FBqXL6ZTMRiMCpA+24HW3T4kAfBb+jASS4EQglQiBPdOFQAgfrwNukNhOuvcuNID3ctexAGod9mz5ZJUDMMHdeAAIO5A+8ve4g1+0guTqhVdZ+NALQ/DPjdGogmkJojwX4SAvKenc82NySSCxzvQVFeP1teGEJ9UwfymGWo63UNIRQQiGbqIyzfvAl95HEubNmCb8bv4xyWP0ckYDMa8E0bvDx3C6GCTE+FTndDwCgCAglPDMDgCz3YOABB8rQeuL/Jzz4kWK3wH9TC4YggNmLPlQsFD96oHzu3C7/QJG5yy3fM4HIY2uJIAWrrhj8Xg/pEBmhUcFPNpFo070fmCA+FJgN9ohf92BPYtj4I8VEgguH96Bk9xT2Htv2yH4VkVllSk1NmRvhWEY78J69VK1C+S2kibsH6vA8E7dA450oietcG0RvofdVCq16PreBDJKeys6ete2HY0Q5lno51O+WlE3+/CenV9zh5bp0Tzjn4ESuYrA+kohuTsym8HShyvFyYxrUm0/ycv9sO0JmdTrlM2o+P9YjbxNJJX5e3Q9cubYTrkRbQgYxS21RJ7dU0bXGKM63npfiqUsGvTda5ZVI8mXReGrhcUXn3O98P2CQCo0P2mUei158FB/2YvtACAIThOyrbUs0b9qgfubTy9G4AC+i0GcduHQJCKBoDzvdhzHgD0cJ7rhXYpnWCeWGZGzy4tzKciiHotlSt3IUCqRPyCixw9epQcPeoiFz+jY8vDjRs3yI0bN+jdJfAQI0BQKtRqiTVM55OQGCaWRpl8kmA8TWfKkCDDr6gL0ueF7R46k0AqRKxrc+kUPE/4ZZwkL0/MpxN0Llk828U8q6wkQkfKkBq1Em1tphwF4ZfxhOckdebNxCNbdO58G4dixLmFLzxeMWgOhujMhIxZiVombV4oKDtCrKtk0k0V5M77RIK4d0rqzPGEX8YThSSf9rBMvauI/yWFULdi13YiQTzSe3Cbm04xf5w2ZsstfEZSxLlZiFO8OExHVh7Jvac+KHsmHwoWcF++OtSv1MHyjiffrplKIDRoEHpbkwF0veyQn6CaDMO2YT1s1wCAg26fB6GEaGedSCERHYH9FS2URYbD4UM6rH9LsPtyG7rhGU0gJdpVU7cjGBm0QCvX+UISrq1N6LoEgDPAPpZCKhZD7GYCJBWBfTMnDM+fb4fjFp13jiRdaF/dhcAkwG22I5JKCZPdCYLUmB0GTrArtxmKnDMR7wtqmN6PA41muDPHPT4C6zrB7CBv7lBA2WKE9b1hhGK5c0XGYxh+XSMkiTtg+lFAkkcFy6jEXk08MIoxxtPS/VSQsWsH9zej/XgcgAbdFxIgCWGSPzWRgF8sP7C3FXsu0jmrRRT+gDiqWaOGMNsg4U4APc/Vo028BwEAwTDKPBNRnOxIU42mp/OjAB98Hwhbhg06OpIxX9CKUSkW5giiNCOvq8Qejp44x+lYQiIHMz0vjhin2VvPIumRcNs9ZEa5fZ1ir1VFui/TkYSQiRHSvWL6va+ZjCCGXxR7pCu6ycgEHUsIudxNVAABFKTTR0fmj9j4nW6SoP/jcjfhxXizl4orSYI4N4n/zXeTETo6i2QUU9BrLcHNPqIV8+ldcldLUv7aPhKTRk1n5CMJ+T3UGY6A8q7hCOnm5f6TkESgOzcK5HSkc1vmXjYSmbHTPJAbIWBFNykYd0WtRAMQQE16fSPEvk9PNHkjZAXhW4zE6o2QFJ13PmAjCAaNRitYZoEoYgXd4QBs+8W+1uZ+ODYVWndLETjSI/bUDOh/Ry9jGy5GGq63+wUb/aZe9LTQ8QBqNTDtFibV0h/4IGfenRVfuND/U6FHqn+zBxq5kVGLCeZGAEjDfa54yYptboQHDYVrMFpakekvporOZcjBQfucOJEYjyJGR8+R8IANAQDgu9G7Te5qcTDuFMcml7zwFYx+qkEM0YL7NonAofVQaQ8Io8ANfQjFhtG3RRyBVYjkGTM6xRGC7o09hR5CdxLiNQyjR9eMjh97EbyVBCeu3VHMu4vuowkTiHJxzQefOHo3bjdC9M+YJmH4zomZt5lgfIKOL0UQ/rPClvo5bdFy1asyJpcgwuVqrH7rhzB1q4ZuTdGSoVkjbMWvhotMNgMqjaaIKOrhFM08zk10XLWIw39RXBy1oRVFm9LVzWJDN4LQNcn+lRaEaBNWiRB6VWoMok1kU4RRS6EpKUM6jP7vqND6mg9JcNAd9CP6YSfUCgC0UM8n12zQPe8SGvV1djh3ydhRY9GcibLRDPvlGFITBAlx7U4qFYPnpZyLrvlksTuNMROYQBSQRvzKEGx7O9C2RgnlcknYkfF3kWEsJI4A1GheTUdORTTbgKg1RZubIiSQEJ+F8P7W/PrK1l1u9DNLEgmxwQ+j5zmZMsVgOimmj8bK3pPHZBrh8/3o2S14nknLbc2M6MpOCsnb4uZJU8HxZsNzmVFhHNGyH/hsUEKVaXuDNqxXNmHPuSRQq0V3IIrhV7VZkY5en69zR3FnCCZtlzCq5c3wDJkhIw8S1LCescPcwue7tip46I940L1C+Dl0zFlyzosxPZhASEkG0KOtg3JNO7recsB7JY74LUlY6OPWNFVf2borwc1ohDI90nGZMsWQdXP9Goc6Kt+cuOVC+/I6NOn24MAxF3zXqLIr0YmcTBYcbzZkK6BAfT2VrypwqBddNMMn++FLAljbDX/Mj961+eO35G1R0VZlRkHzwJ0hmJ5uF9Y1cEZ4wnbo5YeRQH190dFxDjXaMy605wMYoaMZM4YJRJYkXDtaceASAKhgPhVCYpwarp/O+LvIkL2BozJ23qmoR71490dvzjhzFvXBSKGJoSAMw1y6izYL1LCO0eXIBN9UvcMZMBlEz3MmDMUBcDpYfREkUvnlRQ7OW9OWY7un8DgLQgp9z0ryXLehiV5nUSLkv+uHXscxRch74aIKatHcBwDqVzxIXJBbTxDHyCXxPpTzdioHt1xoz4gDb4Yn6iwuDgDAq8R6hDFSYnDDZZX4UXpxyvzBBCJD3A2HuFhLe8QP+xb1zHra38xMpqbh9hafjJVHg9YNwlb6fc8MJ5HVaBYnpsOjJZ6c+WB1s2h/L/3QzguXHOKCLwU6h4ZhWacCN3UXsyTh69N96ZqkoQ2GH6g33uo2ZBajadG5V1/oFAAAt9xwnBc2p3QpvROEY38HumQXJRbhlgvtq00YyohDqZFDhpWt0InXN3i1+M0Wvylejcam0sI2m3o/itBuTZViwbm5StzWjEN0JCEkFSH2zRm3OjWxjhUkyLnpQVN6MZ0MKZch67InuyisBLEj2lmXK8f03VxjpC+zOK/FSkK0i+qU5FxMZ+wqmF1UpSa9csd820+6WzLXo5SrZoj0ZhY2bnaSFCHTc5PMuhbPwqW5mox7iFEhHK+8O3WCeLaL97mikwyXuqbjHmKWLohsmep+IYTcdBJDJs/KTjJcWIGiTOlSLTk21b4Sz9Bs6k3ziLi5VkYg7v+VfP6/Ps8LEd8JUSBOkOEb+XF/vU//weyYkUBMSHzyW7rJcExsJsZjZGTQTNTZlcJCo1QoEISQcMZXGwS1amIeHCGx7HqJFElER4j9FS2xyPnzT4SINduggah32cnIzVxTlUpEyMighWhflWnq8m54FTEPjpBIQpo3RkK+PtK9SUM65cqmmL5AEJLymgmXOeaVZmK/HCG5olMkEQuR4Xe6if6bnTKN9BwEQrpuZLOdhMTznEqEiGefPrt2QgilBIKQ0L7M+haO6A4OE93BYcl1K0ZEcr04otvnIaHbEmkZT5DIZTex7tIRw5EZHts8EzmsyZ4b1U43CYkXLJUIEffO3LmYUvgkK5+FUOS5yCAVhxVm4g7HSCxWPEhuYYGx3PPFbbaTiDT+tp90ZzornLHIyn2RmdabEJK6TdUv0J0TiNf9+fWe8t55cKiMQHx2kbiOHhUFYapQvhHFjASCEBI6mHtw5IL6lU6in+KGSvg6xYVhxUPRBVmJYdK5sjB9XpB75QMhhITtRCftFRUJBYvNZrJoq4hghAZ0OZEoGswyjfQcBELa05UNPNG/ZBSPrbRAkISHGKc6d3LnfTrXCyCawzM9tvkmQTzSV4TIhGm9ImQ0swgyEwyyC0gz5BaSTi/IPScxlyHvXuOW8YTnxZEFQMDriV1uRCllhvWe6eLEmd/LCxc2ByFB/aofkVMW6BolBlEFD812KzxjKYQOT72AjVvXh8jtEdj36aFZJkldy4Fv0aN7cAT9G6U5JHA69IUTGBnshr4l/8M93DIN9PvsGDlc+MoHQPANH45F4Dlohq6Rz/P4EPL2YTicgr1Y2XNAvWsYsTEPrLt0UGfe0AnJMb8zjNC4HUVqPks46Aej8B8x5t4KCgCcGrpX7Bi5HYPn5WZphuJwejhjEbhfEeqfdwylKHG9FLwaul1WuC/H4H+lpDW8CnDQD8aQuNAHY4vkXqnloF5ngXssBf8r05jgX9ULz4ABfC0AhQYWn2OGa3hmDr/NjdiYG92bNOAVQFL0FuMadTAfGUYs6hEXZpagCvV+UKkhhBB658NCJBIBADQ0NNBRDAaDwZgCNoJgMBgMhixMIBgMBoMhCxMIBoPBYMjCBILBYDAYsjCBYDAYDIYsTCAYDAaDIQsTCAaDwWDIwgSCwWAwGLIwgWAwGAyGLEwgGAwGgyELEwgGg8FgyMIEgsFgMBiyMIFgMBgMhixMIBgMBoMhCxOImXDGJH4Mvgm263Qkg8FgPFxUViDGP0Xw30/h344PYGBACI53T+KXF68h+SWd+NEkfcWBrueboXzOBvHz648AcXj3m7BeXY+OM3Tcw0wa0bM2mNYoUVdTI3Q+FtWjSdcFx9UknXh+SEcxtLcVSrH8pkMzvOu+CMN7qAtta5RQ1onHUFODmhoTvHTacjKZROBtE5oWieXtmNfSHlkqJBD38en/OYR3f/ZLXI4kcXdCEnNvHJ+GfoNT7/0KH9+V5nk0iZ23wXYmiHiF2oeFwQicP3bBdy2JFB31sHLHiy51HRr0XXBdiSOd2T+ZRPi8DR2r69H6Vjg/TzmZTCJwqB3KJQ1ofyuAOB0/JUkEDrVBuaQJba/Z4L0SRzx7EPNJGtH3O9C8pB6tL7sQnqTjGeWkMgLxP3+ND393B/e+BBYvX4PvbjVj9+7d2L1zK3RNS/EYANz7Ay75PsY9Oi+D8dCRhGtHG2zXAPB6dHtDSE0QEEKQCrthXimkCuxtL78pczKJ4PEONNXVo/W1IcQnVTC/acY0PjAqIQnvDhVaX/MiDoDf3A335QgS48IxCMFZ5k/MphE924M2ZR0atjoQTHPQHbSUuQwGTWUE4n/TYWPTUnz9P23F9zdq8BT3mLB/EYeVz34Pa58Uft//9GP87vP8rAzGwwcHo8sD88Zu+MMe9G5UQyF+z1rRaID9rFVssMPoORLIzzpX4k50vuBAeBLgN1rhvx2BfcvM5CF+rB1tJ5IANOi+kEBsqBeGFhW4+fyu86QfNsMBeOPC99fdYzEMv6qb8hvxjDlCFgIfnyFHjx4lR48eJWev0ZGz58aNG+TGjRv07qlJRYh7n55oeAUBIIRajvCcuA01sY7RmQghqQQJea3EsklDeDpvi5FYvRGSovOcNubSTSsUKXs8RkYGu4lxnVpSTxAoeKJeZyH2YILOQZEiEa+VGFt4wtVK8tdyhF+mJrojI3SGfFIR4n5FR9SSshW8hhiP+Eligk4cIdZV9HFNEbZ76D/JkhrzEOt2Tf5xA4RbxhP1uj4yRc0XIJLz02IlETp6TqSIZ5eWmE9J7sUxK1GL50x9cIrSJoZJp0JIq3dNdU+Vl8hhPdEflN5PHmKcxv3BmD0LTiDOfExHzp7ZCETCZyFqaQMpG+Qb6chBtUza/MDv9JC8x6pMAuHZTqcrDNrDITqbwESIWNcWps8LJR7A1KiVaLPnTEH4ZXx+Y82biSfvoMsnEKHD2sK0ecFI5HMuZCTnZ1W5BUKGGQhEymUQ6qXoJMMFwl9pmEDMN5UxMU3Fl/fFjcX4u7+n4irJNRt0Opsw8dVohns0gZRoU03djmDkR1o6Rz4KJTTbrXD6QoglUll7bOrmMLpbhCTx4yb0XpLk2eSU2G0JIgfF4f4qKyKS/bkQgkW0UefBqaB7pQ+ePFtwColROwziODywdw8cMrOR4R+1oesSAKhgPhXKsyWnEjFELnvg3FnEDJF0oX11FwKTALfZjkgqhdjNGGIJgtSYWHbcgTaDQzIRqoJlVHpMHhjFGONp+njF8J6MtflqD9r2CiYY1U43Qrdz55ykEohFR+B5b6b29YVAGunM5OtqFVRUbDXxnRsSNjbroBPNYoyHGFoxKs9fye8+EEYPR0/8mvyRjp4DMxtBxIh9ndgbabGSkFzvKNvbl+/FlyThJHqxt8O/XtzokR2FlLPneLmbqMSy9S7ayBUh1pbZ98KGXxRNaSu6yYjcOcuWrSCdPjoyQ64naDxNxxUnclgzy1HCLEYw1PWYzogtF2ZYv9Hc9TIUXK95YNojiNy9ov7RMBkZ7CZ6yiSp4DXEeNBDIhWoNhtBzD9VH0HcDX2Iy38Strn//Rt4kk5QKW654TgPAAp0HrRAXe7eEaeFbpWwGb8Vo2Pnl5ZWZMY+0YKy68AtETeDQYRn4qr4hQv9PxUy6N/sgUbunLWYYG4EgDTc54J07Jyoe6Je3AoieHUmFV/ATIZh23lAWAPDdaJri4JOUUWSSNwStsL716P5hQPwXokj+QQPfhkPXgGk40G4XmtDg6oD3kfKVfvhpLoCEf8Iv/B/ivsA8PcafOc/VdEn4bIfgrHCAN1zdOTDDI/2XaL55moPmuqbYTrkRTg5jQb3t35xMZQaujXFGjI1NGuErfjVcM7fvwzwW8yim2MYPavr0bzDBu/V5DTKoE1c0wijljxTj/49mTRFw3RdPpPwvtCKrisAwKHzTB+0cqJbNWKIZuyEtWqYB0cQGycgiZhgVkylEDvdKZynuANtL7imcS0YC5nqCcT4x/jl2Y8x/iWAx5/Ct/RrquqyFr2e691mXA5nxRdh+H7agw7jejQtV0KZDa3ouUonLi/peBBDh7rQ8XyzpFwllMtNcNGJJXDb3AgdEV0G00IPsKm+DjUZsfiCziGSSIgNQBg9z0nLyw+mk2L6aAz0+GVOcEa4R/ugEyqO4IkutK2uR90iUSyuPUjNUxrhn+hE91FAe9iPvmfpNAsH9Zse2HdqwOe5tirAb+qDZ58opR844JSZ82I8OFRHIMY/xi//+0f4dALAoifxra3fxTOL6UQPHvGT7VAuacL6Hx6A46QP4VtxxCVh/pqrJAL7W1GnbEb7azY4zgTzyo3fmmqsr4D6pWEkbo/Avk8PTUapk6JYLFGi/WTpJz0dzz9WaUhmJly/xqGOyjdXFKs6MXw7gZHBbuhbxIpPJgWxUNdBudWF+IJfbZtG+CetaHpD6KRoDobgf2UhTq3Xo77YQFGC+nkjeACAD4HyWhUZFabyAvEfQfwiIw6PP4Vv/ev3FoY41E7jzi/FlR60GocQB8BtsGI4mvOAEkIEVnEOotwkT5rQ+uMi3jyE5HkJlWSpBuYfeTCSIEjFRuDeZwBfCwBxDBlLjYDUsI7RZhWZ4DOLDUeZqeWg2dkLz+UESCqGkVPdMCwTouLvm9D6I/qVFVHYVkvfGzSNsDr/3VjeHTJpioZS7yVKIvBGThy0h0MYeXUhigMA8FCJHnThUfqcSuDqkZkdSi14cWaUorIC8R9B/OIXl/FZRhwW0MhB1dgsbgURln29QRKuY8UNNYH3xAZE0Qm31wLdCg5zkpyrYZR4BCXE4T4mNj9r++AfNEC9dE4lAwAUvAaGH7kRi9lF+3kUQ2epF7mtboYGABDGyPQqOyXh6zN8WRyNgodmSy/c0QTsG4Vd0Q+8C/TFh0kE3tCh9Sc5cZjVyOFOEI79Heg65EV0/oapAFRoXSfeW5eDxe/PeFQ832o0PU1HSkhH4T3UhY79DgTv0JGMhUDlBEIqDotV0C0gcQAAPKfLTng6PqCbkyR8LzfDVOJNo4nMpO4KJZQycxjJiw44i/bAc6hWCk0u4IN/GumBFJK3xU2VUqaHnkb0uKNED3YKljZBVUxvVphgXitsun4krh+ZFSo0NQpbwQuB8pjiajk0rSxW8YUwSS0VBw66gVmKwxdedDzdjI4fO2B7rQ0N8/wWYO1ms9DxueaA8wodCwBpeAccwjVcYYBBvK6FRGF7rgFtr9ng+HEHmp/ugLfYXBejetB+r/PCn0fIzwczax3OkKuxz8nn/6t4+Ms9+g9mx8zWQaSIZ3vm9Rgq0nk6RlKEkFRsmFg38gQA4bYbxbUMhesgcquoOWIYDJHUhPCfiVEP6RbzZ0Mpn+1xJzFk0q00E/doovD1HBQ5n3wN6fYJ9SYTKRK7bCfmRkm5sn7uI8T+ipU4fSESi+WXlbodIu6dquw56R6VRGbSeM2Ek9TXfjlCEtk/SZFELESG3+km+m92llwLENqXKYcjuoPDJDZOpyhkZMBCrO8Nk1AsJimTEDKeIKFT5uxaAtW+IivIq0aC+F/PrOEA0b7pJ7FYrHi4XeIOKFiJX3hv0qRuU/8f6M6tg3g9vy6JgusgWTfDGYh9TFK3iQTx78usbOeI8XSJV3FI1l5kwlRrYFIJ+txInpUtzvy4vBuCMVsqIhDxC67sqzSmE8r1uo2ZCQQhJOEhRup9Ptmw1kpCE5mFOTIPYam8AAGvJ53bRBEpJRCEkNDBXONRGGTKDluJpiCdJDRaSOdGYbtQICSLjYoGjugGijeyoQFdTiSKBnNJgZjy/Mmcs+ksVuM22OUXPVaV6ZxzSSi1aFKyqE4IBuIsaNSlzGyRYOH9Qgi56SQG6bXieMIv44kim48n+hL3CyFURwgo2gGRMp3rnQ0y9wtj5lTOxPQgwOnhHPPDulmVmz/gNDAe8SNxYYrFc2Levu0a8BLLBteog2VwBImbHlgy1qMpUL86gsSFPhhbeHClyszQaIF/zA3LOrUkvQJ8ixFWbwSpsBX6pflZciih26WHRlzoJEXBq6HbZYVnLIbhXcXNH+pdw4iNeWDdpYNa+ie1HPgWPbrfGUZoPDOXUQROD2csAvcr1H+UQPmcGfoWHjydXsFDvc4MqzeC2Ifm0tftQWdVLzwDojOBQgOLzwHjfL5VFQCWGeGOReDep4eGVwBJ0UuPU0O3qw/DsSg8Je4XAMATRjh8FmgUAGp5GAY86J0nJw7G7KkhhBB658NCJBIBADQ0NNBRDAaDwZgCNoJgMBgMhixMIBgMBoMhCxMIBoPBYMjCBILBYDAYsjCBYDAYDIYsTCAYDAaDIQsTCAaDwWDIwgSCwWAwGLIwgWAwGAyGLEwgGAwGgyELEwgGg8FgyMIEgsFgMBiyMIFgMBgMhixMIBgMBoMhCxOIqbgTQP/u9Wiql36Evg7K5U3ouUQnZjAYjIeHygnE+Kf4/cVf4ZTzXTjsAxgYGMCA3YF3nadwbuRTjH9JZ6g+yTMdUH6tFXuO+RBOSmPSiN8KI5r5FvSCIQ7vfhPWq+vRUeL72fKkETzWhbY1SrS+NZ9fNS4/6SsOdD3fDOU8f495XpDpgNSr16PreBDJWX/jezqkEX2/B21rlKjLdHwW1aNJ14Wh62X5Knhx7gTh2Jt/zHXKZpgO+RCf12NmzJQKfTDoM3x08hf4eJzeL2GxCjrDBqxcTEfMnjl9MGjShz1L1qM/DYA3oO9MP8wtvPCluXQS8WQMqUk1VMvojNXEC1NNG1wAjKcJnJvo+FJEYVvdgK6rgPpgBKFXVXSCBUv0UBMaXgsDq6yIjFrwoNQ8eX4PmnX9xUVtrRWhqb5kOBuSAfRsbMWBzAiY48E/ASRvxSFIAwfdgL/kVwRnRxrht9uhe9mLOB2VgTfDE7ZDz9ERjGpQuRHEoiV4smktvtv+fZh378bu3bth/v738O2GJUL83Sh+ffE6nat6nHMJ4gAVus+40ZkRBwBQcOD5hSYOjAeK6zboMuKw1gJPOAVCCMh4DMMHdeAA4FIXWl/wIm/wOmeisG0QxYEzwD6WAknEELsZQ2oiAf/rGgBJ+Ha3oecKnXeOXOnJioN6lx0jMfGYU5JjjjvQ/rJXFCpG1aE/Ul15/kp+98FRcvToUXL02FkSpqPnwI0bN8iNGzfo3dMiclAtfgDdSB6cz597iFH8aLvxNB03FbmP2ct+qH4Bk71Wq6zkwah5ijg3C+caK7rJyAQdT0jooEa8/1Ske5SOnT2p00aiyPzvZTqWEEISxLlJrNtmJ0nR0XMkdFBPDK4YvZsQkiKe7QrxmHXELpeEUXEWgEAQEr/gEgTi6BlylY6cAxUXiFSChLxWYtmkITyfudlBUMsRvsVIrN7IlA9casxDrNs1hOfEvGLglvFEva6PjOSlzjXq0w7bc0fj2S4TXyqUaoBTEeJ+RUfUknoreA0xHvGThEwDSG7aiS7zv1wn8culIYT4X+LE/+OI8XRC2HnaWFi3kkFNrGP0P1eRm31EK9bN4CpyR0wMk06FeB5f8tOxs8azUzwnjb0kREdmyJ7fCjfUkutq9tKRjGpQORPTdPhKLR6j9z1ARN9uRZO+C7YzQcTjkkHyZBLxKy506RugKmEyCL/Virqn29B1Iog4lSh5K47weT9i+bsXBOmrNrQuaUD7Wz6Ekwrwy3jwHJCOB+F6uRX1yzvgpQ96mRnu00bBrJDsh35vgEoA4OIe6N8WMqpe98G56eEwTMfPDkE4WiPMW7KGSwlphH9qg1u8hdLnfAjTSWZFFOHL4uYaDYrOMKxuhgYA4EMgSEdWhhSbrF4Y0IpReRIk8DPRxPTB78hf6eg5MP0RxCx64jIji8gRHdFstxKnL0RiiVzPMHVzmHS3ZPJxxBLIyyYw2k1U4n+rdrpJ6LakZ5lKkFh0hHjeGy7egyekOiamhJPoxTK5zXYSkVZ7zE4MmRHFOjsp7IwmiGd7boRg9koyT/hJZyZvi5WEiowwyANoYsr24ltk6puKEPsWvuBec5c4/ukTI/Z1pa5Hhtx9pDlcUMP5YygzglCT3nLamhmzprojiIk7+P3ZX+L3SQCLnsS3vvMNPE6neYBQvTSMkfcsMK5Tg+dyPUPFMh16zzmhBwAk4Txd2C2LnvOK3ixG9A0aoF4q6VkqOPArNNBv1y04Dx3fG2Z4AWBFN3ynzFBJq73SDPe5bqHO5/eg93wuToCDftCH7hUAkITDuAfeL4SYwF49+pMAoIH1ZLk9eaKwrZaua5lGWJ3vQuvdIZOmaDAJ5wgAkEbyjripVudfz1sutKsa0PF+HIAKnS8KdwwQRPQTacLZwqN5LS9snh+Cjx7VyZCuWE8+DdcJl7C5wgBDIx3PqAYVFojrOPfeu3j3vXfx7nsODBwfwqWbd/HYV5/Bhn/9Hp4po4vrzFDBMkoEjwoxRA5mBuBGeCT7cyHT4E8TTgvdKmEzfqvQUFT3RL24FUTw6gPiw/GFC/0/Feqqf7MHGrlGvMUEcyMApOE+VyiMqNWg96xVMGkkHTD90Iv42Q7RtKSAccgHy0o604NMDDEZv9b4Bx1oWG7CUBzAyk54bkfQ93JrcTPQLNG80CX+pxedW/sRFAU5Q/qaFz16M8SmumIkz5jR+YGwrXtjT9mPmzE7KiwQf8Vf0/dwL30P99L3s3vv//lj/Nrrw7VS6yQecvgtZlFwwuhZXY/mHTZ4ryYXtrvfb/1iz1gN3Ro5WzoAqKFZI2zFr4blj6fRAvdhweqdPNEG5fMOJAFw293o3zwf8w6FHYIpA7W+Qv+eTJqioURnYjIJ78sNUBociAJQ7XQjFu6DfimA2mLndA6stMB9WAsASJ7bg+YlNahTKqFcrkT9ohrUqdtw4GzRVQrzwzUbdM+7hLm5dXY4d4mjHEbVqbBAPIPviWsghHUQBnxX24iljwP3/uM6fvOzk/iowvdm2fkiDN9Pe9BhXI+m5cKDJ4RW9FylE0vgjHCP9kHHQVjVfKILbavrUbdIFItrsk1rdUkkxAY/jJ7npMeaH0wnxfTRWNFJdtUrPri3iQ3ipGiyGtQLk9gPFUooM0pzx4s96nq0vR0FwMPgiiEyaACfGYmNhcs0OZ2P+hU/UmNuWNapwdUC6Xgc8VtxpJeqodtlhSfshFFMq1k5z0bNO0MwabsQhLhIbsgMJg8LhwoLRD6PLV6Kp1Z/G4at38KTiwB8OY6PL/0e9+iEDwjxk+1QLmnC+h8egOOkD+FbwoOXCVM18YpVnRi+ncDIYDf0LWLTOJkUxEJdB+VW14J9FUGmkZEL2VdGfI1DHZUvy2QM0THJGVpan1uY+FChAJdRvbP96L8urNS3j0Xh3pbfNKaTGTnVQF1mM5tipQFWXwiJidxIJxULYXjAAr0iJgqTGk3zaeu5MwTT0+1wJYUOEltBvfCoqkBkWfwMvrFCnJ6+8ymEF2Q8YFzpQatxCHEA3AYrhqMJpPLMDBFYxTmIktRy0OzshedyAiQVw8ipbhjEFdvx901o/dF89CnnihrWMdqsIhN8xXuH4bdM6JKu3L0yH6uIM1RzkhpQawRzGgDwG/sQirphXlkoh8GAT9hoaa6oTT5+xi326A3Qz9dk8S0X2jPiwJvhiTqZOCxAFoZAALg3Ic5J1C1GZrr2QSLwntiAKDrh9lqgW8HNvQes4KHZ0gt3NAH7RmFX9IOMt1Npwtenk0qecHiaIpT1lw9jZJpZ5EieMaH1NWECW3MwhJBkPqL92AxsjlfnxyRTblQb9OJ8hgLtr3ZCLXejTPrgPCaMqFQbM+mLcCcIx/4OdB3yIjrVMHUqkl5Y9gurNFS7TOL1LcFsyr7lQvtqE4Yy4sBGDgsX2u+1KvzlKvm5XVgLceL/+0c6dtZMfx1EITNdSZ1dlVxkhWriQjfRZPzaJauZp4v/JXFldklf/xDpbRTLmMVrEtzbxLwrumWPoZAY6Vs7vbUKRUm4iVFcMZz7D8nrHqAh1ql84rP+8+V9LcX8IVl3U+S85V61oSV9N+lYCeMeYpauupdbWzFdEv7ceh3OTDzjdAKK2ZR905lbG7OykwyLi+MZC5OqCsRfP/8jGbt0lpw4Ji6UGzxDrv6FTjV7KikQufQcMQyGSGqCEEJSJDHqId0bqYVPMgIxMmAh1veGSSgWI5I1doSMJ0jolDm3iG5f6aY7tE+VrYfu4DCJTfWQS0i5DNk6qna6SSivIvKkvGbCZY5rpZnYL0ck9U+RRCxEht/pJvpvdhaex4kQsWYXEGryX4eR8BBjpiHhjMRTqiEZdxKDpA7u0cSMxbHSSM8bt8FKhm+KNR6PkeGDumyc5mDp61342pEZvlYklSCx0WHS94qO8LWSazGVKJNZlC0VhxVm4g7HSCxWPEzj9mPMM5URiI/PiO9aKhH+7UMS/pzOODcqKRB5DZpc4PWkc5v4nzICMZ33InEb7LK9zTymqodM2VnyGmyZUGT0EhrINWjFg7ngPI68nhEzEN1A4brexGlj7n83OUkpjcj1uOXCFA1XlQgd1srUNRf4nZ6Sx0xI/gp8IRiIc4pOQcl7rdFM3KVGLFJmWHbumZpemPnbABjlpqpzEI8pFoNb/gzW/petMJs2oFF88/cDCaeHc8yPvu0a8BKbMteog2VwBImbHlhKGHSVz5mhb+HBSzNDmIdQrzPD6o0g9qF56hXFnB7OWATuV3RQ0/81FbVqWAIJ+I8YoVk2faOwetcwYmMeWHdRZdZy4Fv06H5nGKFxe95agOQZE3Q/EeZJFNvccMv4vnObHHDuFOtxxgTdoeIzDOpXR5C40AdjCw9uqnO0QKDdTQUU4FuM6LuQQGw6br6reuEZEF1jFRpYfA4Yn6ATlaCWA79MA/2+PgyHUyBhe9YpYkrmWjZjwVOhDwZVhzl9MIjBYDAecao6gmAwGAzGwoUJBIPBYDBkYQLBYDAYDFmYQDAYDAZDFiYQDAaDwZCFCQSDwWAwZGECwWAwGAxZmEAwGAwGQxYmEAwGg8GQhQkEg8FgMGRhAsFgMBgMWZhAMBgMBkMWJhAMBoPBkIUJxHSYjMN3qAsd+4em/1lFBoPBeMBhr/uekjS8O+rRdkJUhg12xD40o/DrBQwGg/FwUdURxPUPHRgYGBDDSXz0JzrFQiCGcFgybBiNIiaNfmhII3isC21rlGh9S/iQD2P6pK8Poes5JWpqalBT0wTbdTrFPDCZRODtDqxX14vl1qCmvgnr9zoQvEMnLjPVLJtRMaonEDd9uPTJfXrvAkSFzp/2QqsAUMvDPNCFEh+Ge4CJwXfEBu+VOJKTdByjKHcCsBmUqHu6HbaLcTp2/kj6sEddj9aXHfBdS0r2h+F7qwPNylbYrkkzlJFqls2oKNURiC//AN+vr+MugMWLF9OxCw5FSzf8KQIyEYN905QfgWQ8CtwJwrG7CTVfa0XXB3FgpRm9u9R0qnkiCtuG9ei/DqBWC4s3hNQEAZlIIeazQscBmAygS2uCV9J+l4dqls2oNFURiM8ufoTrdwEsUmHtN1mDy3jwiJ/sRMexMAAe+oN+JMJ2GJ+mU80P6ZNd6LoCACp0B/ywblRDUQugVgF+nQXDAaswyk26sOdw8e94z4Zqls2oPJUXiD99BN//PQ7gMaie24CVla9BUbw7RFtqidB0qIh9/oxJTGOCl44Tyf7/DjqFFyap7XoyicDbJjQr67Ll1q8xwXG10IUqvL9BTNOK/lt0rIQvXGgT/6thv/Dg5h9vA7quCknDr2X+kwqrbShy9EA6iqG969FUn0tfp2yG6e1ACZNV5rhrYDoj7Ele7IdpjRJ1kv/oeD+KwiOvLvzOHpifNcM9FoXnVS24WjrFfBGH48iQsLm5Fz0tdDyARgusLyoAANFD/QjQ8bOmmmUzqkGFm+ckLv/mY4x/CTy2/Fv455V0PCMdz9h3XQjGc81i8ooLHatV6Dib31SqtxqhAgAE0H+yaPON9BmnKFxaWHaX1xSSvmpD65IGtL/lQzipAL+MB88B6XgQrpdbUb+8Y2pzw2Qcrq1K1D+3B64r8awgpONBOLY2oPXQAuuNPqGH/YIdhpVCY1gx4h4MXRI2jTuNkCs9fbUftg/EM5j2wVeu+YBqls2oChUViOT/+BDB/wCw6Ems/edGPE4nqDL69wgIkQseGOnE80IYPc8J9l1ugxXDN1MghCAVtsPAQejB/bAXQWmPfNUeWNaKud9xQL4ZjcN5TBy1rDOjfZmwmX+8EVhXCfvVByMy54CAjFpEMZKQdKF9dRcCkwC32Y5IKoXYzRhiCYLUmFjvuANtBgdKTeF6X1DD9H4caDTDPZpAihCQ8RFY1wnNUPC1Hri+oHM9ggQD8AEANGheTUemET3eDtXqPfBmT3YYIfmbYuZUs2xGVaicQNwNwvf7JIDH8PU1Ojyz8Oemq4bqpWFEP7RAt0xoHBWNZriHOoUe2yc2OC5IU/Mwv2wQNj+xof+iNE4k7oHrvLBp2GUq6xoO3xtmYWSyohu+U2aoJN1KxUoz3Oe6BVE5vwe9Yh3kSCaT4He6kRi1w7CKE471CQ0sBy1ifYfgkx531qQ3vZAxYQlEYVtdmKZkKGVeqyDpZMbJWg31CknEZByurSo0vDCEOADVS53Qi1HB6+WpeTXLZlSHCgnEXXz87yO48yWArzVjwyqmDsXgtnswckSHgqn7dSaYFQCQhvtcMC9KscUsjnDScLiEPp6U+PsOoeen6ETnFjnDwCz5woX+nwrmBP2bPdDI2eFbTDA3QrbeUhTb3AgPGgpt+S2t0ImbqaJzGY8OsVsyDe6tIXSolcIIDCp0ehOIHOlEayOdcG5Us2xGdaiIQNz7v36DS/H7wFeWYs1/0YDJQ3H0W/SF4gAAUEGjFbbit6ilerV6mMWJwfRPHfDmNaRxuF3CVKFilwk6ugGeC7/1i/MaaujWFBMeNTRrhK341XDRyWaVRlPkuPVwiiYu5ybJ7k3OQhNYiZCXFypYRgvTlAxy5rUFQPLsHjQsb4fjOoCVZrhvRtC3kQOgELyL5pFqls2oDPMvEF9ex6/9f8B9ANw3dNAwdZglPJTi3AFuxQrs+bofZhowFxzvS5rhW244L0FoFHeLClMuEgmxwQ+j5zkllMvlg+mkmD4ae0hXoVcO5bKMTCXhfbkB9fp+RAHwW5yIhe0wZO4RhBEWvdLKRTXLZlSHeReI6//+a0QnACx5Bv/8n+T7iIwZwtcXziNIJquHjjmzAhI9KboarrVgjzgJPR+k43HEb8mHrJvr1zjUUfkYM0PxROYZ8qL/7SgAHobBCKKnjOClvfYvklkx1jSWZ+xTzbIZ1WGeBeIzfPZn8XUa4x/jF9n3LknCxU/FtOP4+OcL/b1M1SSKcMYjRCFnzuHRbhRHCOcdcN8CgCiG3hMy6V5oLxSVsqGGdUzGLEMHXxlfcviITlJjdXPuVS+8Hn2jUbh3qgpdTn/rL+FxNEuqWTajKsyzQDyKxBGj7T8AkPTCmddIzZAvAvBdETb1GzLTtvnwO/dA8GcS10RcdaD/KgAYYN42/aY5nFWiKcg2GGGMTDMLQ57kbx3o2d0F29kpFgWu0EMvehApNlvQuaqgeQYA+FwO4X8k6eVJI3rWhq7dPXD8dorFKmUvm7HgIdXm4zPk6NGj5OhRF7n4GR05N27cuEFu3LhB754FHmIECACiPhihIwXCvUQNEEBBOn1U3ESIWFuE/AAItnuoBLn/N56mokRCb6qFvAoj8YzTsTmGX1QI6db2Ec8+FQFAFC8O08lkcW8T67eim4ToSFlipG+tmKfFSkITdPxUTOO8PkBEDorXCGpiHaNji5PymgmXuTcAojlc+lzkytEQa5iOJYSErUQj/pf2SIyOzSNyWJO7L8ERszdFJ8mjnGUzFj5sBFEuGnXQiW6o/S/sgVdcBZ2+NoQOdZP4/pqpiV4LIy31QppMI/j2erS+IZqKjtigf0IST6EzmoUh/6UutB+KAlDAbJQfcdDoN2XWUxxA2wtDCCdL9mWFNRj7zYL30ZUuNKk74LgSRS5bGsl4GL6f9qBNs6foK0geSCbTSMbjiEtDIheduCONS+ZfUwrfSQekfffg4FBJc5bqRSvMHAAE0aVdD9v5uPD/k2nEz9uwXtuFIAC0WOF4sdTIMYqhQanrcRKOk4Vu0lLKVzbjgYBWjIrzsIwgCCGxAZ2kN5Yf+C1OMpwZBZQYQWQCt4wn/DKeKCT7tAdDpHT/jhBCQqR7heS/pj0akBnp0GGVlcgdfWhAl9cDlg9mQh/1dM/rgmTMKo4YpxNKjyhC4kgvGzY7p77OYSvR1tLlSAJvJp4EnYkmRZyb8/Op9k3jbilL2YwHATaCKCP8rmHEhizQSd7Po1ipg+WU4Omhkp1cphDTJEUPoDSnhm6XFZ6xFPyvqgsnBAtQY8/enDur7o09mPabl2rVsAQS8B8xQrNs+h5n6l3DiI15YN2lg5qX1LCWA9+iR/c7wwiN27Oraxn5qPd7YN8s9LYV37RgeFD+PUd5NFrgH4/A/YoOasmlUvAaGI/4kbhph37KS6iAcXAYlm8KpfGb7fDsn8bdUpayGQ8C7JOj08ILU00bXACMQwTOzXT8XJH8/2l6UdfMCb7RgOafRAGuE/7bfdCyRUsMBmMWsBHEdLjkE932tGgVVwUvVJJnTND9RJh7MA72MnFgMBizhglEhuv9MO2wYehKFMnMW0MzE28bbYgD4Hb2wJxdLbrA+CIO36E2qJ93IQmA2+5G/2Y2zmcwGLOHCUSWNIInutC+pgH1S8TFUYvqoNR1wZcEsNYK/zv6qW3DFUWy4GuJEutf8yIuvvogPFjsnU4MBoMxPZhAZFjZCY/XCvM6teSNogphkvVUCKkLFqgXljrkU8tBvc6MvgsJxOhXHzAYDMYsYJPUDAaDwZCFjSAYDAaDIQsTCAaDwWDIwgSCwWAwGLIwgWAwGAyGLEwgGAwGgyELEwgGg8FgyMIEgsFgMBiyMIFgMBgMhixMIBgMBoMhCxOIRwIvTDXCO5uaDpX6VhmDwWDkqJBAfIaPTg5gYGCKcPIjfEZnZTDmkfR1L2w7mqGsE196KIZ69Xp0HQ/nfQq0/KQRPWuDaY0SdZmyF9WjSdcFx9X5LRkA0teH0PO89NjroFxjgu1sFFN9bJbxaFAhgWAwFhiTSXj3NqHu6TZ0nQhC/IR4luQ1H2wvNKFea0O4xPekZ80dL7rUdWjQd8F1JZ5rkCeTCJ+3oWN1PVrfEr5DPh+Ej62H8ul2HDgjPfY04ldc6NI3QPWCd57FkfFAQH+DdH6Ik4uuo+To0aPEdSFOR84b5fsm9YPOA/zt53ki8Z5e/IYyT/T7PCQ0LkaMhwgZDxH3ztx3ost/zhLEuTHz/WY96faGSGpCiEmF3cS8MvN959Lfsp4tKa85+w1xfksfGYkJX8BOJfKPW3NwGt+nZjzUMIF4JGACUUiCeHbqSXcgQUeIRIh1ldhQKzqJn46eKwkPMW/sJn654sesRC1eL8VL5S45RLpXiMe1yUkKi08Qz3ZOFAkDcWaEk/FIwkxMWXIf3zGdgWAffr8L69X1Wbt03dPr0XO2xMA7nUT4rA1dzzdDqazL2bQX1U9h281MIjfBdl0wMwTeNqG5Xmob7sDQdfncOdKIvt+DNqlNu6YG9ctNcNFJpcy63hLuBOHYux5N0vw1NahTKqFcswfeOJ2h2nDQD3rQu7bYZ5VUMOxQC5tpP/yf0PFzhNPD7u2FVq74lQaYVwmb6YAfZXUrON8P2ycAoEL3m0aZj0px0L/ZCy0AYAiOkwvuwjEqCa0Y88ODMILI9RiNp0LEviHTiyoM2iPyvfDIQXVBWjrwOz0yvbZMD19NrAEPMfOF+YSgKW5ySAwTSyOdvjDIjSBmX2+BxGkz4WXy5ML8mErmm9x5qXT9JaOXVVZSeMVmj/8lRen/nUgQzyuS+2Gbm07BeIRgIwgZXFub0HEuCaw0wz2aQIoQpGLD6G4R4gMv74FLbiChUEKz3QqnL4RYIgXRhIfUzVze+HETei/RGTOE0aVtgyMOqHa6ERonICSFmK8bGgBAEF0/8tKZgMkwbBvWw3YNQK0a5lMhJFJC2WQ8gcjlTI+wCHOp9xcumJ93CN/s3mDFcFQ4X4QQkIkUErEQhk/1QvcEnXHhk85OTmugWpEfN7+kc2WvVkFFxc6eKPwBcSy4Rl34v3cC6HmuHm3SyfFgGPM3Vc5Y8NCKMT/kRhB54ZidHP+3n5GzF8Ik/lc6z9yZ7QgCAOE22ElInDjMcrOPaMV47ZEYFTkFCSfRZ3rjr49Qkbk5AgBE82aICNOGOUZe54V4GXt4bEAn5tUQa5iKJGRucxAl600I8Zpn2cvOP99TBrrHe9pYmKZEMJ6WZp4OElv9ZmfB9ZhXRruJSqy3wVXOkkdItzg6pe+DRKCbaGvF4+V0pHNbZhRhJJ68lIxHieqOIL68j3t/SeIPod/gF++9i1+F7tIpqkOLFX6vGWr6u87L2mFeJ2wGzvmmtstL4bTQiXbl+K0YHZuF2+6B73U16M9fa7Q6YSOdQCIvJg73oA8AoHjRCktjXuTcmareSxRiXaMYCcoNqx5MwodMOPAJAHDo3GssuB7zxmQYtp0HhHkHrhNdW8pZcgzRgimFJAKH1kOlPYDAJMBt6EMoNoy+LcKYlfFoUyGB+Dq+tW03du/ODz/Y9j18u+lJLP4KgC/v4Q/+X+CjP9F5K496q6FQHAAAPJpWiQ9sNAaZ5nLO6LfoZSYOSzDph180/Rg2iCJSSdaaYVkBAGm4ttZDqeuC40pcYp4phgqWUdEUNZ0wask3iWxyFqYpEZybpJmLkzxjQvKMCa2vBQEA3Ete9D1Lp5ovkvC+0IquKxCE6UwftLL3YZlIh9H/HRVaX/MhCQ66g35EP+yEWgFgPstlPDBUSCDkeXzJk2h89nv4/vcasQQAvhzHtd9ep5MtKPjlYjN1PYqCzhgAfBGG76c96DCuR9NyJZTZ0Iqeq3TiMvBJFEJTNseHerb1rtWg97IHnSuFn/HzNnSsUaJuUR0aMmJB51mgpK8egO55F3TPu4RFYmut8B8uOXtTRtII/0SHthPCKEx72D8PwqSEihc3gzasVzZhz7kkUKtFdyCK4Ve12c5J9DqbeWBUWSCy8Bqs/Hth8/6fP3swXrexQlnQ04+fbIdySRPW//AAHCd9CN+KIy4JC7WhnHO9l+rRN5ZCxGuFeZ1KNMekEc2IhbYHgQVufUpfPYDW1T0IAoLgtlgRumApMpIsN2mEf9KKpjcEqdccDMH/iuhiW1Y41C8VtsIn++FLAljbDX/MX+Dum7wtjo9XNWM+asJ4MFgYAoElWPw4vW9hEg6LPasnMrZ3kSs9aDUOyXvzEAJCIrCKtvyyUou52cfLVm8FVBstsPsiSE2kEPL1wfxNsWaXDqD1BRclNLl1J9MKq2356wHOmArTlAjC2hZ5kpd6suKAtVZgrRWhQKXEIYnAGzlx0B4OYeTV+WqSVVCvyf1Sv+JB4kIvtKJo5Ihj5JI4PpbzdmI8MiwMgfjyOm7eFjYf++rX8XU6fsEQhP+ssMVv0OU9OIH3xAZM0Qm31wLdCm5uDfd0WaFGs7gZvCa/pCp5sr/oQrl5qXetAup1nbAHE/C/Ito0PvBAmEpfWCQv9UCnPZAVh9AFy+xGDukovIe60LHfgeAdOrIYSQTe0KH1JzlxmNXI4U4Qjv0d6DrkRXSK4Z5ug0Hc0qJzrx6c3HHecsNxXtisyrwWY+FAuzVVg/gFl+j6eoIM/4GOnT2zdXOlXQAzJIaMRAHIunR6tosugo29RO4NNokL3USTcbvcTjsO5txQi7pjZt06abfDFHFuEv+XdgUlhCR8nVmXSbljm1u9pybngkvXu/okArljk3VrnjYRYm3JnWNwZuKZ8hUVCeJ/XSPm4YhuQO7sT4NxDzFzkrJbCu+BPMY9xKgQj3m73OJHyas2FJ1keNbnhPEwUD2BuP9X8vkfw+TXQ8ez6yLKvcp6tgLB7/IQ8f1lIikSO51raDmZ9+PkVt1yxDCYeflaiiRGPaR7o7iGoWhDOxeBICR1OiNcIKqXxLqnYmT4oF5Y4cwZiVF8ORwtEHOrNyExby/pfsdDRqIxkpA2iqkEifisRJdpvCq9lmAKpOKAZ3uJ/2aMxGKlQiL7Qr0CJO9OyoSi15EQShxAtG/6ZcqThNslzlzBepDCzgtN5HCubNVONwkl5F7WxxHj6UL5YDxaVEggrpIz9CK5vAVzx4n70h/JJJ1tjsxWIDJBwfOEX8YTLrOACCD8TjdJyDUUCQ8xSntydOD1ucVHBQ3t3AQi/wVrVKjVEms4N1KgBWJu9Z7eazqwspMML7C2JjtymnYo0fCOO4khL62KdI/SiaTkL4ycMsiMDLNIFtUJYTov2EsQz05K/KmgPTzLEQ3joaJ6cxBfeQyP/y2Hp5q+jX/Z8QMY/vOTeIxOUy0Uoh9OXPDiSdby0Gzqhj2YQGzQIG+35fRwjvnRt10DXmLE5xp1sAyOIHHTA8u8rT3ioB+Mwn/QAFWm7FoOmu198Mf8pRfPzbHedatMMK5Tg19G+XTVcuBb9OgeHEEi3Acd7fL1MPGEEQ6fBRoFgFoehgEPeqc1sV8GVvXCM2AAXwtAoYHF54BxyteacNAPxpC40AdjC5+bc6rloF5ngXssNbu5EMZDRw0hhNA7y8993B2/j8VLKuuqFIlEAAANDQ10lAxR2FY3oOsqoD4YQehV5rvBYDAebSo0gnis4uLAYDAYjLlRIYFgMBgMxoMGEwgGg8FgyMIEgsFgMBiyVGiSujrMbJKawWAwGFLYCILBYDAYsjCBYDAYDIYsTCAYDAaDIQsTCAaDwWDIwgSCwWAwGLIwgWAwGAyGLEwgGAwGgyELEwgGg8FgyMIEgsFgMBiyMIFgMBgMhizVEYiJJP4w4sMv//u/4d3jAxgYyIST+OhPdGIGY+GTvj6ErueUqKmpQU1NE2zX6RQUZ0xi2tLBdIbOWD7S14fQ83wzlHWZ8uqgXGOC7WwUaTpxWUkj+n4P2tYoUZc51jolmnfY4L0+vyUzZkbFBSJ59Vf4t/92Cr+6ch2f/sdd3JugUzAYDxB3ArAZlKh7uh22i3E6dsESPrYeyqfbceBMEPFsm5xG/IoLXfoGqF7wIpmfpTxMhuH4jhINWw/AeyWeE6J0HMETXWh7WoWOM/NSMmM20N8gnU/iF1zZ71DbXWdJYOyP5PO/lPtL1Dlm9k1qBmMG3B4h9l2S73GvNJPe7O8S36/OUPIb4/NLymsmnFhvfksfGYmlhP2JEHHvVGWPSXOw3N+lThHPzsy303lieGeECEWnSGLUTcwrM9/E1hBrmM7LqAaVG0FcP4dfhsYBPIavtxjwg23fxdqVT2LJ4gXzJWoGY9rET3ai41gYAA/9QT8SYTuMT9OpFiJh9P7QIYwONjkRPtUJjfgxcgWnhmFwBJ7twgfEg6/1wPVFfu45cbUXe44LowO9Kwz3i5nvoCvArTLAftkDIwcAQXS94ZpnMxdjOlRIIJK4NBLFfQCLn96Af2leioUnC1HYVkvtvmlE3+/CenV91h5c9/R69JwtHP6mT7Znbbh7ztOxUoLoUYo2VwP9AKSRvOqFbW8bmpdLbLM1Nahf3gzTIS+iRZ8YL0yUzTp5sR8miY23TtmMjvflbMu54246FAUy9nRdE+oXiXWob0L7oQCSk3TeHOnrXth2SO3ZQplt+4cK6x13YH1NDWpqmnDgGhUnx3UbmsT0U9r2KwS/swfmZ81wj0XheVULrpZOsUA53w/bJwCgQvebRghSIIWD/s1eaAEAQ3CcLJ/ZzPeODVEAWNEN67bCksHpYfuRUDI+cMBZvqIZs4UeUswLN39NThw9So4e/RkJJOjI+WNmJqYIsa4ShrjGUyFi35AZChcG7ZFIftZxJzFk4reXMBhc7iY8QAAF6fRRcWNWopYpKy/wZuKRPX8eYhTTGIdixLmFL8wrhkKzQe641Qf9xL9PW5AnE7jtHlJYfIqEDhbPA4CgVkuso4IZQ8BDzGKc8bRkdzG8ZvG/Km+OmQmRgwvfxOR/SSGUu8pKqLtYYCJBPK9ITGfb3HSKWeInnQrhP9UHZUsm5LaHWBpz941xiE7AqDQVGUHc+cMfcRcA/paHSqbjsNBwbW1Cx7kksNIM92gCKUKQig2ju0WID7y8By7pQOIJIzpfFIbpOOEoOiwPvGdDHAAUZpjW0bEKKFuMsL43jFBMKJMQAjIew/DrGiFJ3AHTjwJ0xjy8L6hhej8ONObqTsZHYF0n1K+U2SD6ph6tPw4AvB5WXwypCQKSisHzogoAkDyxB9ar+Xnix9rQ9JpQJ9VOO0ZiKaHeqQRCp8xQ1wKYDKBrjRlD2XOmhnqVsBW8JoxaSpFOxoSNxiYINWHMjij8AXE4t0ZdeC7vBNDzXD3a3grn9gXDkPyaPZ/44ReLbl1VUDKSF3vQqmyDTTKiDF4rS8mMuUArxnwQ9goT00d/MULi4Yvk7PsnyHG7uO/oUXJ08AT52bkR8sfP6ZxzY7YjCACE22AnoQkqyc0+ohXjtUdi+XGj3UQlxukGqDhC8npQqn10L34qEsS5Sawb301G6GjJCAIA4Xe6SYKue3b0AmL2SiPyjxtrrSQk7ewTYYSkF+M1hyW9v3EPMYrHJD+6IISEe7MjI+lxe7YL+xQv+XNpJzLHYSQeSf2zPfNNTpKtWrYHPr2QP1Khjnk6oViPW8LsRhD5QcHzRLOpm9gvx3LHWjZGSDcvlEP34hOBbqKtFevB6UjntsyxlGmEk73/6HOTyBu1chs6iTEziig1GmdUhAqMIO4hlbFBxy/jF7/5GH/4j7u4h8fxuOJxPL4IwMRdJCOX8cufncRHC8Hu2GKF3yv2fqUsa4dZ7PkHzvny7fmrzOgUe8W+QbcwUpBy3glHGgC0sOxW07FTwEH7nJgnHoXYn5ZFsc2N8KCh0Cbe0gqduJkqNpewqhehCxaoxcFQlie00InHlpbkTZ/ph0s8pt439TL2bACNFvRsFjajx5wIirtVauF40nckR3PBiyEAgAvOs7nd4VGhJ6lYoQJdtYeNdDyO4JkD6FijRJ3WhnCxazUrYogW3JhJBA6th0p7AIFJgNvQh1BsGH1bxFFruYhFC5+JZAC276iEUSs46I6EEPuwD+1lLpoxeyogEAnczbSkX3kcS//x2/je983Ybf4BfrDjB/jBzt34wcZvYOkiAF+O4+N//w0+pf6h0qi3GgrFAQDAo2mV2ERFY1RDrYJptzjBdqkfTmoy1fe+QxCUdWa0L8uPKycqjUa+oYYeTtFs5dxEx4loNEWOWwXLqJA39GrOPBAM+ISNVe3QFz0mBXQbRWmKRxEVGzx1o9gKjEaFiUsAgQ/EcwTA9b5X3EojKZqm1Cpe3Cd44JCMGW4aIf+Yc8cz7TBqKTTJzAW5+qcSiFy2w/KseJyXutC62yvjWFAm0mH0f0eF1td8SIKD7qAf0Q87hQ6C7H1QPtJX+7Fe1Yquc0mA08EaiGL4JTUUABTzXDZj+lRAICTwa2D450Y8Sbm2Pr58Lb7X/HXhx90xfLxAPFXk4JeLzcT1wh4Rv3MPDACAMPrfk9hPJ30YOi485oZdJkiauXwm0wif70fPbhPWq5VQLs+F1v0Lzx6bSIpNl0bGni2B5zNHHET0E3FzuUo4D1dHRBt3AM5jaUDBCQJ3wgnvJADEEBMVRL2yVCkPAQoOqhYzrBfCcG8TOiLJ47YyevMokdXYoA3rlU3Ycy4J1GrRHYhi+FVttnMRvV7m+00pXm8AI0fWQ7l6D3xJAGu74Y8Ow7I2WzLCZS6aMXsqIBCLBTPSFDz+j09hKQDgPu786Q4dvfBYoSzsqUsmq6OH+pGdTj7rQH8agKITnVuKGEluudC+vA5Nuj04cMwF37U44rckYd66kVVimQpNAIA4YnEAVzxwpwFs6Yd1EyRmpjBGrgKAGs0ztcw9sHAw/NAsmtN88F2m42cLh3rhIUP4ZH+ugY750ZttoAWSt8Xx8apmlOW0c/WoBwCE4XrbhyQA7T4/Ehd6oc0rOonELWFLvbosJTPmQAUEYgkWZ9rE8SQ+o2KzKB7H45ntL+/nxy0gwpnuzRMKWXu4bov4YKcdcIprIrzvuwAAil0m6OSGz5NB9DxnwlAcwnDbF0EilW9+iBxcwA9LMJw1E8kRj2e6wBqoV4qbvFIcdcQQTwLh0y7EARg2GtC2STBJud73Al8kxVc+SPJi+u8yyoT8dxrl1n5MO6wWffgrxdLM+SknKqjX5H6pX/EIDbQoGjniGLkkXjM5b6fZsFKN1sx2rRoWbwL+H8msH4mPICAWLeftxKgsFRAI4Kl/ELsI43dw50s6VuTzu4IrLIDFnGhuWnAE4RcnT/kNOvkHZ10nLCsAII3+417gCxccJyDYvTNzFDSXHOLiJQU6h4ZhWacCJ6c+C4zm58S5has+BIq4zgJp+M6KcxXrdGjO7s+4uoYRGovC+0EUgAHtmxTgNxmFCfUTTnhvxYSG+RFzcY2f84imNx10kkZdljtBOPZ3oKvkYkoB3QbBCApo0blXX9hAA8AtNxxi58awIePaUIRpl62DTnRWQEsnujYWjL8BAPH3HRDuFgN0z9GxjIpDuzXNC4kA+Zno0uoO/oWOJUT6nqZjPye/K5N/32zdXGkXwAyJISNRyLrq5RM7IrrtKTqJ22UQttf2ETnnV0KkLo9q0iv3DprbftLdknGFlHM7zLm5Fqt7cSQunzN1K5S4/apeL3S+JURwb8y4/xpc+Rc24+qqealT+J+sG2uM2NcJccbt4rmRurguUGbk5lqKhIcYOfGabHLKuw9nGPcQcyYtQNAyhTvulK7JCeLZLi4SVXSSYdpdWsoMy06dzjw/HDGeLixZetyKF4fpWEYVqIxAkL+SsNcuCoCLDN+QLniYJLf/fz8nx48JAuK6EJfEzY3ZCgS/yyO+RCxDisROd2YbOk7quy9HzE50AAEURCE+jPJrI0Qkq6i5zXYSGhd2pxIh4tmnz65fEMICEghCiP+l3Ipz1U43CSXEE5dKkNApc/acyTUeoTeFBlWhEFb36iUCEhvQ5cXlrZdYCEykSCIWIzFJ8L+eE4jugDQuQVKlGlqRVCJCRgbNRJ1dj2AssnJeQsF6iqnFKXJYI3vN8l/WV6QRlzLjsiPEmu3oqIj5VIgIRVMv65vOcTMqQoUEghDylwgZdkkWx9mPk+P/7Tixi8Jw9OhRcuLcGJEfX8yO2QpEJih4nvDLeMJlHthii9AKSBHnZul/GYhTbPTlkfTaZANP9C8ZRRFZWAJBJkq/lgQAwdpu4pd54FMuvSSdjtilGioZnYBeoLcQmM6rUbKhsOHMjTaKhEYL8dzOzyOLZIGmEKa614hwv+0s/joWAER7eBqLOWdTdsJDzOJiPdlQq2Vvcl1AVGQOAgCwWAXdv27Dhn96CtzfPgbcv4d76Xu4X/M4lnxtJdb+1x/g+//PlVhM56sGCmECIB0XPIiStTw0m7phDyYQk1uEVoACxpc6s5PY3EtdMD5BJcmDg34wCv8RY/bNmsJuNXSv2DFyOwbPyznr/YKiVg3zhzFEvFYYW3jJxL0CfIse3adCSBV4qogplksWvq0zok3q/7usHaa1uZ8PvYsrAHDifXY5hlTYCn3B5LEMq3rhGTCArwWg0MDic0xxr0G832JIXOjLv2a1HNTrLHCPpeB/ZRpOEbMpm9PDfjNR5F53IzLuh6VRmoFRTWoIIYTe+bAQiUQAAA0NDXSUDFHYVjeg6yqgPhjJWxA2G5In21Bv9ALQwX5zGOaiC8kYjyRfJJGs5R4IZwTGo0vlRhCPEtds0BmFlcDqN/uYODAKeYKJA2PhwwSinKSTCL/fgabVXcI7h1qscL86jaE6g8FgLECYQJQB7w5xMVVdPZq2OoQXrK3thv+cpci7jRgMBmPhwwSirGQmZiNIBeQnZhkMBuNBgU1SMxgMBkMWNoJgMBgMhixMIBgMBoMhCxMIBoPBYMjCBILBYDAYsjCBYDAYDIYsTCAYDAaDIQsTCAaDwWDIwgSCwWAwGLIwgWAwGAyGLEwgGIxyMJlE8HgPOvb2I3CHjmQwHkzYqzYYjDIQ3t+Aph9HhR+cBf6EFVo6EYPxgFGBEcRn+OjkAAYGphtO4qM/0f/BmB5xePebsF5dj44zdBxjPoneEsUBAJIxJKSRjPJyJ4D+3evRVC++RbmmBvXq9eg6HkRykk48D6SjGNrbCqVYdtMhybWfL9JRDO1vQ7OyLnvMNfVNWL93CNE0nbiQ5MV+dOiaUL8oc87qoFxjQv/FJJ00jwoIBKNyjMD5Yxd815JI0VGMeUX/mh16HgB46Ad6oKcTMMpC8vweNHytFXuO+RCWtG3Jaz7YXmhG/XM24XX788FkEoFD7VAuaUD7WwHE6fh5InmpB61LGtD+Yy+C8TS4ZTx4XgEkw/C91Y4G5Xo4rtG5RCbjcG1Vov65PXCcDyNZy4NfxoOrTSN+xYU9z9Wj4WUfisoE/ZHq+eCvn39OPv9fpUP8o5+Ro0ePkqPHfk5+l6L/YXbcuHGD3Lhxg979EOMhRvHj78bTdByD8YAzZiUa8f7GWgvxhMWGYjxGhg/qCCfGcds9JEHnnQsTCTIyaCbqWrFsqIj5TTNRi+WpD0boHOVDcszcZjuJSNvG237S3SLWaUU3GZmQxBFCCEkRz05OrLOGdF+QnpUUiQwasudM75I/YxURiCm5/z/J8Imj5OjRo+SE73/SsbOGCQSD8bCQIs7NpRpDQkIHNdkGvHuUjp0DN/uIVnyu+I1W4r8tNNzzLxAp4tmuKHnMJOEkerEeBhfVs5bUsZgAjLyuyv5/iI5cKALx19/+XBw9/Iz8D/njmBWzFojbI8T+io6oefHiiEHB84Rv6SSeGJ0hn8SFPmJs4Ykik7eWI+p1FuIeKzY0yjTsamIdE3os/iNGouEyZSsI32KWyR8h1lW5+k0rbPdQ/5Fj5vXOlS8IUopETlmIbmXuvHGNBmLN67kUYSJBRgYtRNeYXz7fYiRWb4QUqwEhQk+qb7uG8IrccXKNOmI5VTxf5KA673ykxtzEsk5NuFoQLtNTVKiIbp+HJOQeTEKIZ7vM+QUIVlnJtJuMVIS4X9ERdfZagyh4DTEe8RctN48Kn7eqIWmkCxrCDBPDpFM8FsVLfjp2DqSIZ5eWmKXnpSIC4SHmTBlvyjXfAtn7cJ2dSJumyOGMYBqJu9i9lD0OBem8QEcuCIH4I/m1OHqw/2qMjpwTsxGIxGkz4ekHPi+IjbgcEwni3snn0nI84ZdJHlyAaA/LXWiJQAQ8xMzTZWaChiq7TAIx63pLBGIoRKxrZcoDCMARs7fIQ00IIWE70Rc9ZpQ854khyfWq5Qi/jM9r8LDWSkIyD0dWILa5SWggZ56QDWv7ZBv8uQpEatRKtFmzhUKou0QowJuJp5S2VuG8VYvYgE6sm5F4ZOuVIqEj+twxNfbK9ojLRiUEQlJGKYtATgjMRPp0Z+/PkvdjToQ0hwtTVV0gsqOHoz8jgVIPwyyYsUCMO4lBPFncBisZjiZyPYaJFEnEQmT4lJuMFBlBZIdrtL1vIkH8r2cuIiej1DnTUCaodrpJaJwQQlIk5uvO2V7lGvgsszMxzb7ehQLFbbCS4Zhw1lJhOzFkGrxiN2nCQ4zZRlFFzIMjJDYuxqUSJDbqIdbtRtIn19Bd7iaqzM39en6PO3Ehd844md5kViCyQUXMp0IkkSIkkSKEpGJkOHvsxYfoUqb3QIpITAO0bTk1JjlvVK8wS5XOW7Xw7BSPtUXm3KYixL5F0sEBSveay0ElBCJmJzqxDN2A7F0gcNooHrOGWKO53f6XxJG8opMUv5KSZ3hnYdtSZYGQjB7OXCV/paPnyIwFwmsWT3TxnldRJENg+cYkQZybxAuxto966PMFQvNmqGCIP/K6+ACUvNizEIg51TtfILjt7gKzSMqlF+N1xF5wj0tsrNAQa5iOL0WM9GVGLJucspOSiWzZWtJ3Mz8uTyA4HbHLli0po+DYC5mJQAy/OIVtOduIK0inj46s1nkr7BCUDNR5KDrikg1GSW84lbsH6Q7STScxZEdRKtL5Yqbus3iGZ0IlBIKMkO7MsRW5VoRIBSL/mHPPnop0X5ZmkCK5pvS5JYRU1c313u8u49pdAFiMp7/5DB6nE1SaJQooAABRjASLOn7JEh6wIQAAfDd6t3F0NAAOxp1GYfOSF74v6HgBbrsHvtfVYj1yaLQ6YSOdKKuPfbnqjRYr/IMGcLX5uxVrdFADAGJI0nnjTthOCE7cqn1OWBqp+FJc7YPtEgDw6N5vhGzNt5gh1DwA74VizuIaWAPDMMuWzaP9BfG8lzr2mfKFC/0/Feqjf7MHGuqcAQBaTGKd0nCfC+bHLYjzVkliiMksNYh/0IGG5SYMxQGs7ITndgR9L7eK99vDgAbmveLRnOlE+9tBpKUuvJNphM/2oG23S7Izh2JTJ4wKAIjiwLY98Mbzr2U6HoRjdxu6rubtzqOKAvEZLoc+Ezb/4RtYu4yOrwJrzbCsAIA0XFvrodR1wXElnn9RZInDf1G8gze0QkNHZ1jdLN68IwgV8VvWb9HLPrTzQ/nqrd5qgFquoStFwAcfAEANs3Fmj3U8EIBQcx1aW+hYkVoNmlcJmyOjYTpWYJUJhhINLK/OiHUUsXI5vv/WDy8AQA3dGrorkEENzRphK341jLxHu2rnTQXLKIFoeZg6jFqgkuTWvyeTpmhwFl9LMpmE9+UGKA0ORAGodroRC/dBvxRAbbHz+WCiesUN61oASML3cjPqFtVBuVwJ5fJ61CyqQ5P+ALzF7ssn9Og/ZQYPANf70aasQ029UshfV4M6ZTM6jhV5LkSqJhD3QpdxbRwAFmPl/+Mb1R89QHgwei970LlS+Bk/b0PHGiXqFtWhISMWdB4AQArJ2+LmSZN4AWXCcz0QLkcc0VjeH1SJ6tY7ej3TM9ZAU6KRliOVzFTEBRNd32xoRY/YO4rfmmXFeZXYyEURLfYgzpREQryPwuh5jq5zLphOiumjMUhr/0Cct7KihDKjNHe82KOuR9vbUQA8DK4YIoMG8JnOyVhYvFcfEmrVsARSiJyyQNfIAUgjfiuO+K00+EYdzAc9CLnEET40UK3Iz85tsiN224++7RrwCgDJuJBfwUOzqRv2y8PoFTsDarVUzgWqJBCf4fLvPsV9AOBWonk5HV9FlurRN5ZCxGuFeZ1K7D2mEc2IhbYHgVLWp8mkeAFlQnaIp0B9PZWv2jyo9QaQpOsrCdmac3OtuArKpfS+uZOOF9Y5E7KvjfgahzoqXzmozHkrBwpwmWH12X70XwfAG2Afi8K9jc9Lmc4KoAZqsaP34KOAaosVw+GEZISVQiw8DPureijioiQ2NsmP4pdq0fneCGIpyQgtEcPI6V6YW9KIip0BTWPhaLQqApEbPTyGpzRrK2hSmS4KqDZaYPdFkJpIIeTrg/mb4tD10gG0vuAqMpIAsN0jM1ymQwp9z9IZq0wV6l3HKcWt+BzMN0Z4CupZGFJHZvnqvGyPVAFF2a0XaljHCutaEHyimUCkeuctCtvq3PuPpgyrbaI5S8C7QyZN0WASzXACak3OAMpv7EMo6oZ5ZeEFCQYE4xtaMmbRh504vKeEESW/WT/zYz7vhRMAoEfbBjqyKgKRxMhVcfSwpBGap+n4BUatAup1nbAHE/C/Ij6mH3hEG3AGFdSivRjBcN5DUS3C16dTi+rWm9doxYbPh6HzRSVXFtWqVnEriPB1KrKMBC94hA1eDx01fJ81q5vF+Z4wRmZhD3kQzlu5UW3Qi6Y+Bdpf7YS6UBuASR+cx8TJ+42Z9EW4E4Rjfwe6Dnmn9bK7cpL8rQM9u7tgOxst3tGcJskzFvRcAgAVzMais4jyTIZhe61fqMNmEwxP0AlQmXcx5fF/nyX2o4Jr689/W27H1nxm7OY6BXmLdehIX6e4sIwjxtNFHdKKMA331Kwrm0zZWUKkt1F0WdvsLHCVlWVO9c65yBV19cu6A8q5HYZI9wqxvpyx9KIwGsmq2dm8eyfr5lrKJTXhJkaxjKLHJ2H6bq4SV9OW2SxIq955qx4Sd8wi5yz3qg3aPZdi3EPM0gWJcmsrpmKWbq4przlvUabc4rTpkghI1qzs9Ezvec8wESPOzbn3NBU+mwIVFogECfxMEIejJ35N/khHl5mZCkTM20u63/GQkWiMJDKLjoiw8CjisxJd5qaSbXwjxJp5cRY4otvnIaHbklTjCRK57CbWXTpiOELfFOUSCEJC+zKL3jiiOzicWzxVlLnUe64CQUjitDH3wPB60u0VFqsRIi5OLLHgK7eCFITb0E08owmSyjQcEymSiI4Q90Ez0W0uXAmdFQjeTDziwj4pqZiHdK4U68V1Er9Mg0QzfYGgGoqVZmK/HMkdNxEXZb7TTfTf7JS93tU6b9VEes64DVYyfFM8YOplfZqDU6yhzj5LmSB/b0pJ3Y6RWEwSAt05gXjdnxeX13ZQFKwFmca9IiWViJGQr49Y1kkWBhYRzAKy19ZINNlV86U7hpUVCMnowR38Cx1bdmYqEIWra2XCyk4yXOx8JoZzjUqJUNhrKJ9A5K+wlQkyi2FmX++5CwQhZOpXXRTNmyDDL2UEsUSQ6SEWXGuF8HoRnkPB6y7ct6nMJL8HOWUo0ghMfdwoeH2ClKnzl/+8VZvQYW1hPSWB3zmNUdFobiW5EAzEWaJRn+kCwaLPQl4HTgyynU0phW9ZyCtrl5vESohDwX0uDbyeWKd4fUUFBUIyehj8kIzdp+PLz0wFIubtJcZ1asIvywy9xFDLEb5FT7oHRwpWChcwkSAjg91E38LnXvoGEAWvJrpdVuK+HJO5IcooEER49YBb5mWDQBGBILOtd3kEghBCUmMeYt1F1VnBE/U685QvnUsE7aR7kya/Yc/kPTVCZAYIkgdHQRSS4wUU4ssRp7jeZRAIUuy4M/fbO8Pi61aKI5t/Hs/bQkD6YsXMNeNbjKRvOi+FFAkNGAhfCwKFhlh8U+Urn0CQiRCxbxZ6/4pvWop3NrNQAsHx0743SIFAKAi/rNTzXAj75CjjkSR6qAkNr4WBVVZEqAVdDAZDoApeTAwGg8F4EGACwWAwGAxZmEAwGAwGQxYmEAwGg8GQhU1SMxgMBkMWNoJgMBgMhixMIBgMBoMhCxMIBoPBYMjCBILBYDAYsjCBYDAYDIYsTCAYDAaDIQsTCAaDwWDIwgSCwWAwGLIwgWAwGAyGLEwgHnXOmGQ/Es9gMBiVFYiJO7h28Zc4+a4DAwMDQrA78O7/MQTf6Ge49yWdoUrc8qLHuB5N9R2s0VzoTCYRPN6F9ep6UehqUFOnRPMOG3y36MTzR/r6ELqeU4p1aILtOp2i/KSve2Hb0QxlnXjcNTWoV69H1/EwknRiBmMWVE4g4h/h5H8bwm9Cn2L83v3c/i/v497nd3A98Au8e+ojfLYQRCLoxIGTPoSTKTqGsYBIX+1H2/J6NL9gg++apElMxxE80YX1y5XoODPPTeWdAGwGJeqeboftYpyOnR8mk/DubULd023oOhFEPJ2LSl7zwfZCE+q1NoQnpZkYjJlTGYH48jrOnf0Y418Cj321Ed/+3vdh3r0bu3fvhvn7BuialuIxAPj8Y5y78Cmdm8GQIYieDXvgjQNoNMN+OYYUISAkhZjPCh0HAHE4tnbC+wWdtwzcCcKxuwk1X2tF1wdxYKUZvbvUdKp5IXnShLa3wgB46Pd5EBonIISAjIfg3il+G+9SF9rfitJZGYwZURmBuHYN0QkAWIrmtm+j8cnFgiAAeGzxUqx81oC1Twq/734axR1JVgZDHg2s563Qb3EiNmqHuYWHAgCgAL/OAs97RuF32gXbyfL37OMnO9FxTGykD/qRCNthfJpONT9w253w7NSjOxCG50d6qJ8QI55QwzA4DOsq4Wd4vw0BaUYGY4ZURCA++49xcetxPC48xQUs+dvHs9sSA1RluG5DU8Z+XVODmuddYoQLbdL9kmA6Q/1HBjmb+KJ6NOk60H+xuLkjeqhJSLvahigApKMY2rseTfWS/zDYEJhKPbPlK1EnKV+5xgTb2Sgk1gh57gTQv6MZ9Ysy9vwGrN87hPhCNFc0WuA5ZQRfS0cAik0mGMRtX2CEip07/M4emJ81wz0WhedVLTiZOswfHPSDHvSu5egIACoYdogjmbQf/k/oeAZj+lREIOqf+Btx6zPcHKMiAQBJfHr7nrCpWIx6OvpB4c4QOuRs4pNJhM87sOe5eihfGEJyisY2fqkHrUsa0P6WD+HM30wmEf6gC61Pm+AtpjPXHBKbfDwnBpNJxK+40KVvQ3+JydP0NRtala3YcyKYq2M6Ct9b7VBqReF6EJnifM+KJ/SwX7DDsLJIj2dBkJ6fY2c8MlREIB5vXImvfwUA7uMPF4dwOW/Efx+f/uYsfp8EgMfwVNMzyI0lKsRKC0JEtOMSAnLaKEYY4ZHulwTnJuo/JgPY83Q7HHEAnA7d3hBSE0La1M1hWDfyAID48Xa0HgpTmSVc74VeewCBSR76g8OIjYt29dOdUAFA0oU9h2XyJ70waTsEmzxUMA+OiHkJSCqB2KgH1u0a0Qwjhwvt6i4EJnkYBkNIpAjIRAL+1zVC9JUu9BQbNS1EJnNjJbVatMs/IqSzoqCBakV+HIMxEyoiEFB8Axtan8LjXxFcXYO/fBdDF6MYv3cHwdMn8MtrgglqydM6fPsfKy4PZSH6lhn9SQi28cAwejeqoRDNDoplOli8Ybi3Cc1z+I0euIpNnKaTSNZqYR2NwvOqDvwTEOzqm6zoFUUpetZL9ebT8L7cDlem/HAE9p0aMS8ABQd+lR6W95zoXJmXkUKFTl8Y7p1qcAoAtRy0bzrQLWgbhs5RFm3aNDdFaDokrXUUttWFaYqGjOltmqTfd0IwFKpg2FSZyeOFQRjOAbEDsbkN+oqavhgPG5URCACLm76L7fpvYOnjAL68hzuhczj57hAux+8BX1mMp1q3Yts6FRbTGR8IgnCIvXrFi1ZYGul4AOBgeMMijAIwBOeZYrMBavSO+mFZRff1FdA+l7EtU1FxJ2wnhJ2qfc4i5U8FB+PpEfSto+3aGrRuELbSyQQVt0BJemH+4ZCwva4be8RJ20eB8CETDnwCABw694oT9QzGLKmYQADAY4olWLJYboTwVyRu/hHJhbAGYjbERxAQzWaGjTo6NseqNujFJzb6SbH+sAaaIg286tWQYDIazQiNSMAHHwBADbNxtr1lPUybaHGYAto0N0UIvSqttQqW0cI0RQN9zMWYDMO2oU0cTelgf88McQD00JM8Y0Lra0EAAPeSF33P0ikYjJlRMYEYv/orvDv0EaLJe8DfPoW1//X7+P5//TYav/Y48OV9jN/8CKdc53D9Lp3zAeCLJGIAADWaS7bPPFSiiSccLiYQMyd6XWgUSonLI8FkEkMvtKLrCgDwMJ92w7yMTvRwkr56ALrnXcIK6rVW+A9r6SQMxoypjEDc9OEX/j/g3pfAksbvwWz6Lr7xD4ux+B8a8e3NP8C2f1Zh8VcA3I3C573MXhPAmDmTSQy9oEL7iaRoLgvDPtMR0QNK+uoBtK7uQRAAWqwIXbBAzeYeGGWgIgLx8e+u4y4ALG7EP3/7yewiuQxL/nEDvrdafJj/4zo+/jOV4IEhjBEZB6MccURFN1P16pJDjRlRxynFrThi5V8TVpyFMkk9GYdra0YceJhPR+F8RMQheaknJw5rrQgFmDgwykcFBOIzJDPr5P7uqxAXTBfALclMT48j8RkVWTXCCE9nodHKVujEuQVfIGPukeGqB940ACig007Loj4teI1WtLP7MHSensF+yJmMw7VVDdMHGXGY5cjhThCO/R3oOuRF1yEvohU+jcnfOtCzu2t6ixlFkpd6oNMeyIkDGzkwykwFBEIyXrgdxcdF7v4/fJYxLC1B/depyErzdBOE/n0Q/kCRCuehhWGnoBDxn/SIE6Q0SbjeOCD0gldY0FnOCcQWE8yiv7v3h+biC+nKTbUnqfPEQXDRnZU4fOFFx9PN6PixA7bX2mB7rQ0Nz5UYsZSZ9NkOqDQdOHDMhi59A1qn8Q4lqThwG+xMHBjzQgUEYilWLl8ibN7/FB/991/h95+OZ1/tff/up7j26yGcGxNnp/9+JZ75ai53VWg0wCA2uEM/bIPtfFyy+Ege3Rt9EPyXvDCp1uflSd/ywfYdlfh6Dg7md3pEASoXanQdMYKDsJCuTd2GnrNhJDPaNplG8qoXth2mkiupHygocTAPedCjTiMej8uH7MmQ4bwTDlpUrzgwVOpcTaaRpMuQeAEn7kjjkiXvH99JR968W3BwqKQ45Y0cnu2Fd7AN9XnlTb9sBqMkpBLcT5CRXxwnR48eLR1OfEjG/kJnnj03btwgN27coHdPi8RpI+EAgiLBeJrOQUjC10lUMmlzgScGV4zORgghJHJQLaYxEg8dOU1CA7qSdQbUxDpGZTptnLJcz3Yx//ZiKarAmJWoC46vRChV99FumetmIM5xOqGEGZUvc94lhPap8tNvdpIUnUhC9npMK5Qum8EoRQVGEAC+wkHz/HZs/S9roPr7xXhcOkv92ONY/PdP4Zlv/wt+YNyAlQtkpRy3yYnYmBuWdWrw01xtxK3rQ+T2COyv6KCWWjo4NXS7+jAci8K9bf688tW7hhEb88C6Swe1tNIKHup1Zli9nilWUj+irOqFZ8AgvPRPoQEUGlh8DhgzK9HnGfV+D+ybhftC8U0LhgfZAjfGwqCGEELonQ8LkUgEANDQ0EBHMRgMBmMKKjOCYDAYDMYDBxMIBoPBYMjCBILBYDAYsjCBYDAYDIYsTCAYDAaDIQsTCAaDwWDIwgSCwWAwGLIwgWAwGAyGLEwgGAwGgyELEwgGg8FgyMIEgsFgMBiyMIFgMBgMhixMIBgMBoMhCxMIBgMA0lF4D3WhY/8QOvYPVfyTowzGQoQJxKPOGRNqampQU2OCl457wIkeaprmsaXhMjag7TUbHD9uh+PH7Wh43oE4nYzBeMSorEBM3MHvzw/h5LsODAwMCOH4v+HUv/8edyboxFXklhc9xvVoqu+YomFhPBzEELtJ70oiRe16qJhMIni8C+vV9aKI1qCmTonmHTb4btGJ54f09SF0PacUy2+CrdQnXstE+roXth3NUNaJx1xTg3r1enQdD+d99pUhUDGBuPvJb3Dyvw3h0tgdjN+7j8cUj+Pxxx8DJu4iGbmEoX8bwuWF0mULOnHgpA/h5EPdRDCyqGA+aIG6FkCtGqhVw3LEDBWd7CEhfbUfbcvr0fyCDb5rkmYxHUfwRBfWL1ei48w8Npd3ArAZlKh7uh22ixV66CeT8O5tQt3Tbeg6EURcYkJMXvPB9kIT6rU2hNn3u/OojED86SP84t+vYfxL4LF/WAPDzt0w7/gBfvADM3Zv24CVS4TRRfDfffjDl3RmBmP+4dZZEZogIBMhkIkQrOuk34x9mAiiZ8MeeOMAGs2wX44hRQgISSHms0LHAUAcjq2d8H5B550jd4Jw7G5Czdda0fVBHFhpRu8uNZ1qXkieNKHtrTAAHvp9HoTGCQghIOMhuHeKXYFLXWh/K0pnfaSpgEDcw8f/QxAHLF6JDc9rsHSRJHqJCrp/WYOlXwFw9zqCo/ckkQwGo7xoYD1vhX6LE7FRO8wtvPj9awX4dRZ43hO/h512wXayvL37+MlOdBwTG+mDfiTCdhifplPND9x2Jzw79egOhOH5kR7qzPfGn1DDMDgM6yrhZ3i/DQFpxkecCghEBDfj9wEAi596Bk/JlbhYg38UvtmOz8Z+h3E6fr65bkNTxg5bU4Oa511ihAtt0v2SYDpD/UcGOdvuono06TrQf7H4sD07obrahigEr5qhvevRVC/5D4MNgTt0Tops+UrUScpXrjHBdjaKKZ1z7gTQv6MZ9YsydukGrN87hHiJoXf6VhCO/SasVytz+WpqUKdswvq9DgSL1LngmAuIwrZa+K+mQ/IpALHOuyXnqkawp7fuD9MpJeT+WzbsmObs0yyvd1VptMBzygi+lo4AFJtMMIjbvsAIFTs3+J09MD9rhnssCs+rWnAy5c8fHPSDHvSulRsZqmDYIY5k0n74P6HjH13kmuvy8qc/IyGajbilX6djs3z975cIG8k/44905IPCnSF0yNl2J5MIn3dgz3P1UL4whGSJxhYA4pd60LqkAe1v+RDO/M1kEuEPutD6tAneYu3ONYfEthzPicFkEvErLnTp29BfYiIwfc2GVmUr9pwI5uqYjsL3VjuU2mKNuBfm5c3o+LELvmvxvGNLx8PwvdWBZmUrbNekecpH+FgblF9rxZ5jknMFwZ4utTPPC2W63guWctf7CT3sF+wwrBTGLAuTdPmP+wFm/gVC8TgeEzfvflF8bLCUEwXiywT+/Gc6dp5ZaUGIiDZJQkBOG8UIIzzS/ZLg3ET9x2QAe55uhyMOgNOh2xtCakJIm7o5DOtGYYgUP96O1kMlerbXe6HXHkBgkof+4DBi46J9+HSnMGmadGHPYZn8SS9M2g7BtgwVzIMjYl4CkkogNuqBdbtGNCfI4UK7uguBSR6GwRASKQIykYD/dY0QfaULPUVGTfUrdbC848FINJE9ZpJKIDRoAAfh3HS9XH630eQZE1p3exEHwG+0YvhmSrw+KSRiITi3icNSWVSwjEqvaSRrZpgW5breC43JnKqq1Q/rNH0h6awoaKBakR/3SEPmnf9Jhv/bUXL06FFydGiE/IWOzvDxGSHNURe5+BkdOTtu3LhBbty4Qe+emtNGAoAARuKh44oQOagW82iINUzHEkJIgri3KcQ0BuIcz4/N5QdBrZZYR1P5CUiKODeJ8S1WEqHiPNsz/12s/CJkjxUEUJFOX4JKMEK6eSFe8ZKfipuakddV4n/rix/zKvp4MkSIdZVQtvoglWLCTzo5IY7b7iF0rUneOZ3OdcyVBYBge+kcc7reY1aizp7zqUP+sVP1nCoUPbfypFwGMa+KdI/SseUndx7VxDpGx1aKEOleIZ6vzU5CP3mPMvM/gsBTeKZBHB3cHsGv/s8/4J7UU+nLe/js2m8w9D8+lex80AjCIfbqFS9aYWmk4wGAg+ENi+g6OQTnmWL2DzV6R/2wrKL7+gpon8vYSamouBO2E8JO1T5nkfKngoPx9Aj6Crx3NGjdIGylkwkqbmo0Wq24FUWsnEOIC044kgCgRe+bemGkUjHKeb0XEEkvzD8cErbXdWPPTEZUDzDhQyYc+AQAOHTuFSfpGUBFTEwAvt6qwzN/BwD3ced3v8K7gw68+967ePc9Bwbs7+IXv7mGOw+y81J8BAGx8TNs1NGxOVa1QS/efdFP5C36gAYa2QYHUL0aEswho5mGRyTggw8AoIbZOFu3QT1MmyrbzM6F8CWfoJONbdAto2Pnmbleb9qkOUUIvSq92rRpbIpA3yvFmAzDtqENriQA6GB/z4xSBrqHheQZE1pfCwIAuJe86HuWTvFoUxGBwFe+jm/9v8wwaFXg/vYx4Mv7uJe+h3v3gMf/lsNTTd/Gv/ynzAT2YnBLqfwLnS+SiAEA1Ggu2T7zUK0UtsLhYgIxc6LXhRu8lLjML2nErwzBtrcDbWuUUC6XhB0Zj7DyEg2Ldv1aReV7fFW+3mVnMomhF1rRdQUAeJhPu2GutOhWgfTVA9A97xJWUK+1wn84M9plZKiMQAAAHsPS1Ruw1WTG7t27hdBhxg9MW/HdZxvx2N27QrK/rRfWRDAeDJIB9GjroFzTjq63HPBeiSN+SxKKeVwxFgaTSQy9oEL7iaRoZgzD/gCNJGdL+uoBtK7uQRAAWqwIXRBX0jPyWCBNcRLXbwkeTo8/uQLFnWEXOmGMlHRYiSMqupmqV5fses6IOk4pbsXLa+efkiRcO1px4BIEz6lTISQynlOZkPUIKzML4mGe5fWm191MEfLXgEyxfoMORdeYAJiMw7U1Iw48zKejcD4C4pC81JMTh7VWhAJMHIqxIATibugiPk4CwGI0PP0UHV1FwghPZ9HMylboRDuHL5Ax98hw1QNvGgAU0GmnZRmeFrxGK9qLfRg6X8HJ0LgbDtH1VXvED/sWNbjMCtWZcD0q7wJ7bQjOq/ROAfVq0f326oj8+3Mmg3C8U7L1nj1Vvt5lYTIO11Y1TB9kxGGWI4c7QTj2d6DrkLfir0hP/taBnt1d01sAKpK81AOd9kBOHNjIoTS0W1Ol+Ut0mLiOCW6wdm+Y/JVOMAdm7eYa7s26IRpc03N6G34x49KoJ045n0uSyLmprugmISp2Zi6ZNBI3Pc5IPLLlF2EaLr2e7eJ/066fEndN41B+FCGEkFSE2Ddzxd0YhzJla0nfTSou4SFG0Y0VBa6ehJDL3YQHCKAgxtPUNZoIEfuGTLmljy3HzNxc53q9q8pEjDiz10XOtXmajHuIWXKNCt2vp2a2bq4pr5lw2esLojk8dcmJQDfRiOm5DXYSmqBTMGiqIhCTf/mc/HEsQD58/7i49uEoOeq6SOL36ZRzY9YCkdfg6ojVFyOpqW6mm3aiy9ywVJ7UzWFizTZYHDF7C0VnbgJBSOK0MffA8HrS7Q2RRKaYiRRJjHqIdbuR9NEP4VwEYsJDjNnGoZsMx8QCx2NkZNBM1LWSxkOuAYjlzplinZWMjBNCSIrEfFaikzY8cgIhbdA5HekLCmWnwm5ibhT2a7YbRQErfmw5ZiYQc73eVYMSB/NQiMRiseIhexPJkLeGpsg1ljKRIgnq//2v5wSiOyCNS5R85rL3ZCZMsd5DKg54tpf4b8oc6zTLfpSokEBcJWcyQiATTnivkkSZxYHMSSCoBlcmGE/TOQhJ+DqJSiZtLvDE4IrR2Qgpg0AQQkhoQFeyzrIP8FwEghASOqiRKScX1K90En2xsgkh/pekPf38oN3nJ3ax7EKBIISErbmHngr8Tg9JZEc4MsdW0LhNEWSOfS7Xu2rMcJGe3HFnGe2mjr9wAWgeMypb/n7JENqXWYAphikWuBUISslQuuxHierMQSx6HI//3VKs/Ccd/uUHu/H9jc+Aq05NisJtciI25oZlnRr8NP0ouXV9iNwegf0VHdRScy6nhm5XH4ZjUbhLvv5hbqh3DSM25oF1lw5qaaUVPNTrzLB6PegU3S7LhfpVPyKnLNA1Sg5YwUOz3QrPWAqhw6UXsWmPROE/YoRGkohrMaLvQgL+H2mhLGUfbrTAP+aGuSWXWbFSB8upCKKDpcstB9W+3lVnVS88AwbhpX8KDSw+B4yzmYOaBer9Htg3C+dW8U0LhgfZArf5oIYQQuidDwuRSAQA0NDQQEcxGAwGYwoWWL+dwWAwGAsFJhAMBoPBkIUJBIPBYDBkYQLBYDAYDFmYQDAYDAZDFiYQDAaDwZCFCQSDwWAwZGECwWAwGAxZmEAwGAwGQxYmEAwGg8GQhQkEg8FgMGRhAsFgMBgMWZhAMBgMBkMWJhCMhUM6Cu+hLnTsH6r45yulZVelfAZjAcJe9/2oc8aEmuddAIzwECf0dHzFSMNlqIPpA/HnBjtiH5rFb23PN1TZqHT5DMbCZNYjiPHIJfzSOYCBgQEMDPwSH9MJZLmPO6M+DP0f78JhF/M63sXJX36Ea7fv04mrxy0veozr0VTfAS8dx5gnYojdlP5MIiX5Ob9QZaPS5T+ATCYReLsD69X1qKmpEUJ9E9bvdSB4h048D0wmEXjbhKZFYtk7ZvikfhGG91AX2tYooawT/6OmBjU1pnl65tOInrXBtEaJukxZi+rRpOuC42qSTrxgmLFA3L/9e/zqpAMn//33+PQvdGwJvvwMl93vYihwHXc+v4f7X4r779/D+Kcf4ze/OIFfhe5SmapE0IkDJ30IJ1kTUTlUMB+0QF0LoFYNyxEzVHSSeSO/7MqX/4CR9GGPuh6tLzvguyZp3JJh+N7qQLOyFbZr0gzlJI3o+x1oXlKP1pddCE/S8VORROBQG5RLmtD2mg3eK3HE59uceMeLLnUdGvRdcF2JI1vcZBLh8zZ0rK5H61vh/DwLhGkLxP3b1/CbD96F44NL+MP4fTz21Weg+iqdqhj3cO3/80sE/3wf+Mrj+Po/fRdbd+7G7t1mfP97a/HUYgBf3sMf/L/AR3E6L+NRgVtnRWiCgEyEYF033x8MzUdadjXKf3CIwrZhPfqvA6jVwuINITVBQCZSiPms0HEAJgPo0prgLWvHOI3o2R60KevQsNWBYJqD7qBlhibRJLw7VGh9zYs4AH5zN9yXI0iMExCSCeU2sybh2tEmCCavR3fmfBGCVNgNs/gJ4MDedtiu03mrz7QFIjryEa7dvgd8ZTGe0hrwg/Zv4cm/oVMV4dYlXLkpmJCWtmzFv/znp8AtAoDHsPjJb+C7hm/hyUUAvhzHx5d+j3t0fgaDsSBIn+xC1xUAUKE74Id1oxqKWgC1CvDrLBgOWKEBgKQLew6XsVc86YfNcADeOIBGM9xjMQy/qpvRd8fjx9rRdiIJQIPuCwnEhnphaFGBm9fvaHMwujwwb+yGP+xBb+Z8AVA0GmA/a4UaABBGz5FAftYFwLQFYqWmEUu/9gw2/Ov38d3VS/EYnaAE1z8ew10AWNyItd9cTEcDi5/Bs03ipf7TNfzuczrBPHPdhqasDbJGnLQFABfapPslwXSG+o8Mk0kEj3fl22YX1aNJ14H+i8W7VNFDTULa1TZEIXjVDO1dj6Z6yX8YbAhMZd/Nlp9v61SuMcF2Npob3hbjTgD9O5pRn7Ht1jVg/d4hxAuG8mH0qMQ02n6UGvilT7aJ56IBPVelMVHYVhee25qamdmU09e9sO1ohjJzrsRQv1yJJl0/gnQGoHTZMyl/Vtc7V7ZwH6URfb8L65+uy9Vd3Q5b0fzVIg7HkSFhc3MvelroeACNFlhfVAAAoof6UbYmr1YHy5t66A/6kRi1w7BSKGPaTPrQ+7IPAKB3+dD77EykZY5weti9vdDKFbnSAPMqYTMd8AvP/kKCzIGrZ46So0ePkqNHz5CrdGSWMfKhXUjnuhCnIwU+D5MP/y3zX0fJz0fpBLPjxo0b5MaNG/TuQsasRA0QzCAYT9N/Qgi57SZmvjCtNPA73SQxQWckJHJQLaRZZSX+QDfR1hbmBUDAGYknQecWCduJvmT5amIdo/KcNopxRuIOW4uX22IlESpraJ9KjNeSvptUZJYYsa8T/2NtH4nlxUWIdZVMWQDBdk9eymKEDmsL8+YFI5H/pxJlT7f8WV/vXNnGoRCxri3MJwSOmL0pOnP1iNmJTqyb7P1PCEmN9knuQTXpDdMpyomHGKd5vVIug5BO0UmGC65HNZHch6sKn7FqM+0RxKz582e4Izoo1X/t63QsxiO/wcmf/QZRyYT3+H98Jk0y/6y0IJS1QRKQ00YxwgiPdL8kODdR/zEZwJ6n2+GIA+B0+bbGm8OwbhQcJuPH29F6qMTQ+3ov9NoDCEzy0B8cRmycgJAUYqc7hUnTYkP3pBcmbYcwBIcK5sERMS8BSSUQG/XAul2D4v0uF9rVXQhM8jAMhpBIEZCJBPyva4ToK13ooUZN6t0WaAEAAdgGZOoEALfccJwXNrXGdsptVAXLqPS8RmAVe1PT4moP2vYKfVTVTjdCt1O5/0olEIuOwPOeWRzC08yx7DJdb5ehCV2XAG6DFcMxof6psB0GDgCScLzWv3B6lcEAhD64Bs2r6cg0osfboVq9R7wHASCMUPFDryi+c5mRjw460cSzMEgjnRmdr1YtOMeI+ReIu3/FXwEAS7CkPi8C0V+fxMl/v4bxL4HHvqrC1/9WjPl8KjvKwiP6lhn9SQDQwBoYzrc1LtPB4g3DvU1onsNv9MD1RV72HOkkkrVaWEej8LyqA/8EACjAb7KiVxSl6Fkv1Wik4X25Ha5M+eEI7Ds1Yl4ACg78Kj0s7znRKU6KyaNCpy8M9041OAWAWg7aNx3oFlv1oXOUwWBZO8zrhM3oCSfk2oL4B07RzGDAnp3lXVUQPZc5D0b0DRqgXiqRPwUHfoUG+u26eXnoyna9AXDb3Yh6LdDxQnpFoxnOd8Sp0qte+PLsd1OYxuiQMVlmOGMqTFMiSE2p6WRM3FJDvSK3H5NxuLaq0PDCEOIAVC91Zid6g9cXgrxFER4VttRqDsHjPWhbo8yZUWtqUKdshumQt/ILJK864RA9vgybyjs9Xg7mXyDG7xZOOt+N4iP3SZz7v8YBPIal//Q9/KB9A1YuoRM+KAThEHv1ihetsDTS8QDAwfCGRWyshuA8U+xOVKN31A/LKrqvr4D2ObEvTGeNO2E7IexU7XMWKX8qOBhPj6CvwHtHg9YNwlY6maDieJh2GYTNTxxwXqGiEUbfYVFUtpthLPNkYN0TmR5HEMGr9EmZT8p4vVus8A8awFG9WsUanTjyiSFZQlwqSeyWTGN/awgdaiVM78eFDoY3gciRTrTKnpNqkUTilrAV3r8ezS8cgPdKHMknePDLePAKIB0PwvVaGxpUHWX2virBZBi2nQcEAec60bWFfuarz/wLBMX9Ty9h6Gfn8PGf7wOLluKZ72yD4T8/KUx6V7w2ZSI+goDYyzNs1NGxOVa1QS/eA9FPZB42AIAGmiIPl+rVkGAOGc00PCIBnzj0V8NslDeoTI0epk20OEyNYksnOhUAEIdtUKhFlqtOuD4BAAU6d5a/d8RvMYs91TB6VtejeYcN3qvJAv0sO2W83uqtBmH9xbShTWNTBPpe2eQsTFMiFJhSJSTP7kHD8nY4rgNYaYb7ZgR9GzkAiuxoamEQQzQzCqtV58yviRhiN2OIpSQm3LgDbS+45v8eQhLeF1pFjzAOnWf6oF1Q50xg/pvkJYvxOCCsov7tEN795e9xZwLA3zViw78a8K0VGa+mO0iO5+V8cPgiCWHwrUZzyfaZh0o08YTD8g3GbIhez/jpFBeXeaNWB8NOoRVMHx+CT+LtFHQ5hN7RCgs6RVNUWeGMcI/2Cb73SCN4ogttq+tRt0gUi2vz9JhX+XpXC+WyjNQk4X25AfV6YX6E3+JELGyHYVkmZRjhPG+1hYP6TU+++RUQTbh98OwTj+8DB5yl3PLmTBrhn+hEl1tAe9iPvmfpNAuD+ReIv/kbCMsl7uKzT+7gPoAl/7gB27Z+G6o8j9e7+OuEsLWEWyqNYCxwdD8Ue6npfjjOZvYG4HhLeMpU201FJornjmJVJ4ZvJzAy2A19izgCmkwKYqGug3KrS8ZFlzEbFE9kRphe9L8dBcDDMBhB9JQRvLT3mxVQQNM4HzNAM6Ue9dOw3qifN4pOFD4E5H2jy0Aa4Z+0oukNoQDNwRD8r8zX0zF35l8g/uGrqM+U8pXFUP3zNmz7ZxWW0CV//hnuiB0+OW+nB4MwRuRmarPEERVXS6pXl++mqOOU4lYcsXnt+RRhlRmdogeQ67g4PD/vhCMNAFpYdpfvWGWp5aDZ2QvP5QRIKoaRU93Z3mz8fRNaf1TyosyBalzv6k1SY3WzsAgOwqrgvtEo3DtVhZ5xv/WX8HaqBpKR3GiJC8bVIzOrlZqXTkUSgTdy4qA9HMLIq+W6L+YHupmeBxrwZGZA8HcrseYf5Weik+EokgDwla/jyf+Njq0WYYQ/offJsLIVOvEp8ZXqelz1wJsGAAV02vL1rHiNNtvzGTo/T2aVkqhg2i04vOIDN4a+AHzvOwSh2LQH5qzpoQIoeGi29MIdTcC+UdgV/YD2+pojVb7eVWOFHnrRe0mx2YLOAkcKAZ9LvPaS9LJkX7E+3y/4U6F1nVjXy0FZbzsAQDwq3idqND1NR0oRXrzXtbsHjt9Od0Y7icAbOrT+JCcOC3nkkKECAvE4Gv93cRI6+TEuyr2Q7+7HuBgSTvRjy5/BN+Tvu8rxdJNoEgnCH5hOg6vN2uHjP+kR3U1pknC9IXosrLCgs5w2xxYTzOKD6P2huXJeGBL4nXsg+DMNwX1mCEPHhfNm2GYo7GFWgloOTTNdbTttqnm9qzlJrYb5h8KTkf5pl/wL+a7Z0PVT4dpr9+4pYVqMwvZcA9pes8Hx4w40P90B7zx6a2k3m4X78Jqctx0EV/GBjLAZYCgxlxd9qxUN+i7Yjh1Ah0aFjrNTtRFSceCgG3gwxAEzEoiJuxj/fDwv3MsOw+7jXl7cXUhf3v140xo0LhHSfeofwq9GP8XdCeH33U9/j18NfYRPJwAsehJrnyvpqF8ZGg0wiA3u0A/bYDsfzy1mKYLujT4I/ixemFTr8/Kkb/lg+45KHK5zML/TU+LBmQ1qdB0xCu+lSbrQpm5Dz9kwkpn7djKN5FUvbDtMwkvW5oMnDGjfLGwO/dAsmJcUneicR9e94LEu2E74EI7Hc8cKwQYefr8DpreFnarN+rKvhaju9a4eqhetMHMAEESXVnLck2nEz9uwXtslvNqkxQrHiyXWvVwfgkPaUCcdcIoLKouRTsYRj0uDxGMtncyPy7shAKyzoLcFAKI4sKEdjuuS+MkkAvt1aDuRFty9j3SVuF5RDA1KR41JOE5S3nt5UCOHN71wbqqnjkMSMnb2hQK9tLooH5/Jvgpj6iDz6o2/XCVnj9PpJOGYi1zMfw/DnJn2qzZkSJw2Eq7g1Qe5IPeqgYSvk6hk0uYCTwwu+YPMvmqj6KshpiY0oCtZ56letVGsXM92Mf8UrzMgvk6ikJSneMlPp8gnW/Y0gkzZ2XqVCNwGOwnJvVphJmVDvvzZX+/c6xXUB4u8XCH7+heZa1ZtSr2SBSDgzcVfB5Nh3EkMeflUpHuKV+xM53png8z1IjedxMBJ0nA84ZfxknuWJ/qBEJ2LIkWcm/PLUu0rlUfyOpDphAX2uo3pjyDmyuJn8N0d27Dhn57Eksclr/pbtBhcw1oY/t/b8K0SHY5Kw21yIjbmhmWdGuIC1ynh1vUhcnsE9ld0UEuXFHBq6Hb1YTgWhXvb/B2ketcwYmMeWHfpoJZWWsFDvc4Mq9czxUrqObLODEv28FSwZOYl5gnlc2boW3jw9AXKHm8EsQ/NM1xnMH2qfb2rRqMF/vEI3NRxK3gNjEf8SNy0Qz/VkponjHD4LNAoANTyMAx40DuTV53MhmVGuGMRuPfpoeEVQDKO+K040pLr5dlVfOwgoIBxcBiWbwr3HL/ZDs/+qfI8uLBPjjIYDAZDlsqNIBgMBoPxQMEEgsFgMBiyMIFgMBgMhixMIBgMBoMhCxMIBoPBYMjCBILBYDAYsjCBYDAYDIYsTCAYDAaDIQsTCAaDwWDIwgSCwWAwGLIwgWAwGAyGLEwgGAwGgyELEwgGg8FgyMIEgsFgMBiyMIF4QIgeahI/JG+Cl45kMBiMeWDWAjEeuYRfOgcwMDCAgYFf4mM6QQnu3/49zp16V8x7Eh/9iU5RZW550WNcj6b6DtYYV5w4HLoaUQwrKIhfhOE91IW2NUq0rVFCWTfDOqTjCB7vgUnXBGW9NG8TbPP1mVeR5MV+mNQzqCuDMU1mLBD3b/8evzrpwMl//z0+/QsdOwXjUXz083fh+OASosl7dOzCIejEgZM+hJMpOoYxzyRPmtExxbeJy0sSgUNtUC5pQttrNnivxOG9Ekd8Bp8Gjn/QgaYlSjS/cACu82HEk3SK+SF9fQgdmjrUP7cHrmt0LIMxd6YtEPdvX8NvPhAa9z+M38djX30Gqq/SqYow/imCZ/8NAyfP4eM/3QMWP4XG5YvpVIxHnaQLJqPQ/1WtqMSnOpPw7lCh9TUv4gD4zd1wX47AfTmCxDgBIZnghJ7OKhI+1AylwYHwJKD4phl9vhBiiZQkbwiWMn/mNX3dix69EnVPt8Px2zS4DVZYNtKpGIy5M22BiI58hGu37wFfWYyntAb8oP1bePJv6FTyJEMXcfnmXeArj2Np0wZsM34X/7hE8l1qBgNJDP3QLJhH1tlh/2E9naDsxI+1o+1EEoAG3RcSiA31wtCigqFFBe4JOrUMF/eg9bUgAA6GwQgSQTs616nBc9P8iPks8R9ux4GzcaBWDfOpCGIfWqBbSqdiMObOtAVipaYRS7/2DDb86/fx3dVLMZPmnfunZ/AU9xTW/st2GJ5VYcm0S60Q121oytqMa1DzvEuMcKFNul8STGeo/8iSRvx8Pzp0TahflEtfv7wZbbtNWK9Wou6FElbiOwH0716PJqkdu06J1v1hOiUgmbw2fQAg6UOXpk7Is7wD3iQAJOHb24y6mhrULFKi/Zj8/1Sb9NkumE+mAehgf88MFZ2g3Ez60PuyDwCgd/nQ+yxHp5iCOPpf7UcSgOp1H9w7VZhfWcih29sL/UYr/LEQ7FsqVy7j0WP6TfU/fAuGzd+CagkdMQ0Uz+C7W7+Lb3xtJrLyADIZhuM7Sih1e+A4H0aylge/jAfPAclbQXiPueC7Fkd6ks4oED7WBuXXWrHnmA9hqR07PbVNPHhtCLYN62H7rZjwlgPt+30IH9Jh/VtBpAFgMo6h3XvguEVlrjaTAXQZHUgC0By2w7yMTlB+0u/3oz8NQNEJy5aZigOAq32wXQIALSw/1NCx88tKCzxeC7Rs1MCYZ6YvEA8zKy0IZW3GBOS0UYwwwiPdLwnOTdR/IAnvC63oOJcEOB2sFxIgqRhiN2OIJQjI+DAsJczqyTMmtO4WbeEbrRi+mbFjp5CIheDcViIzgOhBM7quqGEJJEACFvAA0mf2oP21ILjtHiQm/GL5PgxdmEJtKkxgrx79SQAtVjhfmvexAwDAd25I2Nisg66Wjp2a6DkvogDQ2AZdBQSNwagGTCDKxcUemE4kAajQfW4YFtpk8YQKymI9vskAena4kATAbfcg7LVAtyxjOFCA49XQakrb5NPJJLiXHLCu5YBVzWgGgE/CCCs64R7Ug6vVQrdBSBu9Fcvm8+4oNJ8VD5QLJW2amyI0HYpKcwtc6YHp7SQANXpPWKCeRWM9c6IIjwpbajWH4PEetK1R5pkEa2pqUKdshumQF1EZPQ2PBoUNjQo4a0OHrinfNba+Cev3OhC8Q+dkMB4cmECUicApwUSCtRbsaaFjp+CCE44kAGjR+6YeszB4ANCj/0daYfMJLvsfuiM9s+ohV4TJMA7sPIAoANXrTnQ30gnmiyQSopktvH89ml84AO+VOJJPiCbBZTx4BZCOB+F6rQ0Nqsx8ToY0kpmG/6QJTfouOM6HEUfOpIhkGL63OtCsbIWNuaAyHlCYQJSFMHznhG6m+nkdShuDCglf8glzBHMxV6zSQVugLGro15Wujf69QvNZ8UC5e9KmuSlC6NV881H0bRN6rgJY0Q33jyppx48hGhc3a9UwD44gNk5AEqJJ8GYMsVQKsdOdwmR53IG2F1zCNRLzx7KDIR76fR6EEqk8k2Iq2AcdJ86vbOzBwnQNYDBKwwSiLEQRyvQSa2fuUxINi81HreLR8Ui55UDHXsFFtPNELzRVGuWo3/TAvlMDvsCtVQF+Ux88+0RR+8ABZ0ZUpGx3wPMjPdSUa6vim53wvGMQfnxi+/+3d/6xbVQJHv/ktuw5CCTntj1s1HJ11J46pj3hqF2RAH/UPU6Ls+WuiWCFs0XXdVoJUpAgBok27R+Q3kmtA1JpdkWI2xW9JHfsxSwEp6tlY7QLJJxaxey2tSu1xL2lV3u3vY216TXeNuXdHzNOxuNx4vwOy/tITxrP+zlv5r3v+21aP86xlki+EkiBkCwCKYJP1hMBrDs6CDxotJ9vyigrUomVR71ajzDCgDbtAKVYV+hdmWPZWqv1uDL0nzSZf5FIljhSIOaIUuON6bBIrWcWbZJ6kIh2nEb6WLW6R8Ngyl/MDsro96LM1TlDNhza7ub46SkGf6xlZJcHjI4vT7Zhzw4FRuPqaiYzdHNBhZY2SyRLGSkQkxInftF4zwwFRZuYjkfHm5k5pHuaaD5jvKuibNDG388MEjerSMaiBH84RUX2tSdD4kQL/l1NBD+b6jAkB1WbtS7Eyejk8wOphCYACs61E7crHnKrF2cGiZq9M4BUkuyolGvN5Mt3058Fadrlp+VEQjfXIZEsLlIgzFjrRAEgSv9AMcXVgfthbTK4K0insX4614L7UXUZqxmOhzzaMEaIjhOG+MbiBD1uDhQlVNNncSapPXSY2OvN0EH1DeTuRSl8JlLitSrKPX5a3jxAvctBvTEfDVRu86nzPeeCdJwy2mbJ0NsWVCvs1TXU6FZZ2R6pQV0z1knwJ+ZvNnG8BXWvdg3V2hJjMzIn6nG46jnwZgt+TzlVrxXsk0gkC0rxAnHzOiN/HMkxN8ZbTre4kWN3nVt6v1/eyPN7/WbWxS3+dM0Q7pd6z4vAuhpqVquXoaerafmw8O7nLC5v9niIXhoebyV6DRjLEP9JPeWKnyhWrHmrjDQ2+vCvB8jQ+WQ1rdpu6My5EPUbnNR/kMa13auJliSfBKGj+p5bmmCXWjUXZHMjzRsBEhx4uJbgBaMwpxnY76b6eAaw4j3sz83/lT6adqgvtNfrpunjnK3vJI7VUqUNk7kONuPNmwSfINKlLZHWiB4NFR62AsikSaVSOSY9nvwM6Ry7tOyRSGZMiRBCGG+aEnufto8vG+8W4G4e2PVd7s3+/P0ndP30LCO5jgpwJ/f+0xM88NfG+9NnaGgIgPLycqPVlKR76nBM0ur3vpe/mzp+qALni2ZDTFbcbf00fOSk9jiwPYx4y9AWPtdCheLHzLdtR5j4njhVa/3E8RLWtaQTh5zqeP36AEOnG8dFqq6kmk4UAucnThPtfbKE6uOgHBzKW3K61Bh/LsPzmpOhs6ZUPY9Kw7EvxtDLU0jqpU5qN9QRyr5kq218NVP6UkqrWG142iKEd5qElR6g6eEqDmR7IBYbtuWQSaVIaw0K5bk++l91T7q3Jb6/HOcrOknY1sFoyFt4RVtPne68sKkoJv8kEnOK70F8zbBu7SB5vpvGzQq2giU1F+WFfobe9uEarw0sODY30n0+Sd9OpXCBB1jXSP/5bnwbJ6oSyxo3jW8PkTg6081zXxcseI/20XifmsO2be2E95tU6EZWeulODtG9z4PLZoF0itQl1WSsCu6dR+hLJszFAcBaSfPAMP2HfbjXWdUzsy6lSC+z4dq6l+74KLEpxAFA2R+mfZs6yGi5r5G+o5OIg0SygBTfg/gKMpsexNyToGVTOf5TBXoQEolEssSQPYiFRA4GSySSrxBSICQSiURiihQIiUQikZgiBUIikUgkpshJaolEIpGYInsQEolEIjFFCoREIpFITJECIZFIJBJTpEBIJBKJxBQpEBKJRCIxRQqERCKRSEyRAiGRSCQSU6RASCQSicQUKRASiUQiMUUKhGTuuTpA664tOMtKKCnJmlLsq5w0fWp0LJFIliozFoiRoU95v6ONtrY22tre56zRgRkjl4n+4m3+7VjWXxvBH3fx/sfnSC/234zqudRLk3cLzrJ6eo12kklJ99RjX1HF7jcjxHP+ji9D6lKcxBX9PYkEBp4t0zUknLRcMLqYGzIXIrTur6ZilS6+28qwb6qj5USi4Gn8iUNOXfqmNs5Dk/5h7My4GiX4fG6jq9ReQd2hCKkp/g55NkxbIG5d+Q0/6wrS9YvfcPn/jLaFuMXl/wrx4/94n5NDaa7f1NncGOFy7Fe8/dbPOHtd72cRiXZwoCtCPD1qtJFMxliEpseDpABsNRw5mWRUCIQQiNFhkskYzS6jJ8nXmlNN1L1e6I9955JefGu3sPuVXqKXdPGNpUmd6sTvKcf+D0Hi81jZzowM8dersa+ooP613EZXJhWl88Ut2FfV0ztPWVi0QNy6co5fvfNjgu98ym9HbvGNb92L41tGVwX471/y819f5caXcPuqTXzncR+7du1i147HcTuX8w2AG7/l08hZbhj9Sr46fNBJawbAwd6ebho22ib+OtNixWZTcKzM8SH5OjMWpemxAyQAx+r5/4/00pVuGn/YR+zKqNpoEYLRLwY58pj6d6/pD+rZfSxl9IbjqX6SyeTkJh6gUnOvrLQbQpgFp5pwP9tLClB2tjOY1NI+mqTvoPZ3tqkgtc/2FuwBzYaiBSIx+AnnrtyAv7ideypr+OfaB7j7L42uCvA3bh5xLueubz/O9x9xcY/1G+r926ysefC73H+3+vvW5bP8+o+5XiVfHRJn+rWrSqo2GiwlEgPxQ3UcuAhYG+h4NVu9zhce2r/oI/CUG2X5xD9+W1a6aHg7wt7V6u9IWwd5A0R3WLHZbJOa5FutDACs3kvTY3P4j+IbA0QOeqjpTBJr86n/nQ5gseF+IUzHdvV35ngLHfnaNmuKFog1rnUsX3EvD3/v+3xng9bqnwZ3PVjDP95n9vft3+Te8ru06zT/mzRYLwQXWnDqxxEf7dQsOqk2GWMsKSmhrscQBglaNuSOQWYuhPC7nZTdpvkrc1J7aIC0aTc2Q/pMLy3PV1Oxyk6pLq6yVRXUHeolUaCJMD5G+qQ6Y6LGWz4RxqTxZsmQONFC3Sb7RHpLtDHaVU62vB41epg7Mgl6D9VRYS+diLfUTsWjTYQuFHho/XNvaFELdSZBSD9Oe1sZzpoWBq6a+6t7B0hH8Lu0eLWuutpdTxN5vkLNw9vs1L4Zzw1ER/rjVuo26d7ZbWU43f5J005Pnfasdeo811iagdf1eVCKfVP95GGMpYke87NFyf1eSkrt2FdVsPvEPNQYc8WFFur2xAErDT1HqFxmdLCQKFQ9pF1Okt0FudZJ87+qZd69ZzeuOX4W5YUw3U+ovZxcLHgeq9GuIwzMRxEVs+BMzxvijTfeEG+80SPOGC2nw9keLZw3RM9Zo+XM+fzzz8Xnn39uvJ3P+YBQQDAN433PGMiQCKxX7ZSD/aJ/X2Wen6yxbg+LYaP3YtJg84lwnkchhg4qqv32bhF7dZJ4d4TFqNGzEELcjInA/fnuc8z2sNFXHuPpwCumdq0yejogKpeZxKczlQdjpukej299QPQP7C0cjtWbk29Zf8q/dIvAxly3lmf6hOWZPhE76DKE4xbtX+hjF0LcHBbdO2y6eGzCttImLPq0vxozeNJ4z6u58YruLzpEjc0k3SDAJQJxo2chxHBY+Ar6UY1ycMjoa4mQFO2b1TSOf5Pj+aGIwHmj+/knvF3Lt40BMd1ci+1zqH4tDaLvptF2nhnPN7M6afYsDYE4/VMtnOPil0mj5cwpWiCM6ApvsRWdXiAsVqvq3+YRgUhSjN4UQowmRfgp7UPCIfaeNng/f0S4N3pF4K0+EUsOT1SII0nR99JEZWV9rj/XX07FrBmrW41XCCFGYqJ9m5aeAoVv/APHIXxvx8TwyITd6HBSDJ0Mi46IsdhMPG/xxpCfX7QLd9ZujU+0n9TSLEbF8Olu4VuX9WcR3lC+Mo4/t8UqrCDAJjwH+0RyRA0j+V6DcGjhO/ZNVNRZf+p7UkTjwLAQA43CBoLVimC1IpSskN/sF41aRezpzJWpwZey+eYSez/Spe/msOgff2dW0fCR3pfG+DdmFVarGr6ys1vEhrUciAaE26I9/7YOg0COio5tmp3VLQKRIaF5U22vJEUs0i26T85hYZpDkm1uLe064V5MgbjZJxq0vNZ/J0Ux0iFqtG+s8vAi5HdoIt+azRoSs2QJCMSfxK/f0cI5/kvxP0brWbBYAgEI7g+ImLHZO9IhPJq961VjhTsZw6Jjqxauba8YNNjmCITVK7qvGBzo4nW3GT/ioYlWdBG9hAlmKxCjIrzdMp5ms56RuBkTzdk4Vu8VxqKb89zLKkXgtDHDRyfyTdcy1PuzPqMJri6PILc1mG1d5rTIvzgiKjW3nk6zxOve2f1HhDHX9S0/sAmfiQAOvpTtnfgM32FY+DS/0+4l5MQ7tcltlU7zna83aY0PZ/PZIPqLJRBX+kXgYa0BtTEgYtPsAUz0HrwirGtYLQy6hoJJ+ZgLip6DmC+ux37Oyd+r19a//TvuNjr4KrK+mdhHjSjGuao7KnGvVy8zk84HGLFS+ZCiXqYSFJ6mcREY6KBmueG2Lt5k3tLdUqx3apfRKPGix2AdNJ7WlrBqZuiglka8hHX3J0wHnqz3ayFaj6uRVb7cgsdsemqZQuMebYz1YpCOU0YHWRSaT/fTuN6Y4ZaJfDN9Lg+tL2uTo3dY1RUhGu7DTbgnGUuOt7Wok5K2vTQ/YZZ4K94dXvXy014i14z2WSx4Q3Hat+WH4ap0a1fGd1aGRXvURDQ6xdzSUiJN6GmfOueyNUiryTPPOxdbqV5lx77Kjt1eSsmKKvwfpHHs6CY50IgyyTvP41onTa+ocw+OF5rw3GF0ML+ke3w0vKNeu/fsJlv65pLFFYjUJ7zbf5lbAH/l4h++vQgfzHzgchX40CYq1dgL87Csb30dNeuMN6fCRu1Ordo+04SzTJ0Qj6dNa9S547N+IgAo1D5iNgGnYtnsQa0mUyS+MNpmceEq8NyOF2KqOJ1uJC/H17upzPvkFEDBs7lwmiBF/8faWpeHqyi4tWNDhVZoB4mdM1pmcVCxIS8RKls78oUVgEp8z6lPk+mqpcyxBf+xKKmCIqRjPMziTMdWvef8RsGkxpDnmRN+fF0ZwEPHW94cQV4wxjIkLqVIXUqRSk1844ljdXh+EJxGAwkSP2omBEANzS/OR/U8CedacD/aSRpgczsdOyf7XmfO4gnEyFneP3GWkS+Bb97DA55Ni/PBLCXGMsQ/bKVpVx1bFK2Vo5mq/YVX0cwW6xPdxA5ra6ozUTpfrMZZVkpJViyKqXimy/Cw1qh3oawxWuqw2cl++tELeQsQF4lR0tkd4V11Oe8pxzzUhPrWUiQKd/tmhOvlQcLPaNXvpQgtP6jAfmcJpWs1sZhGRbcgjA3g9wZJA+62IN7FKuxrGonpRGz0Soy+H/pQlmWIHq/Haa8rbtPZtV6atDLpeKkJ70L2Hq6GqKv0EwWw+QiHfONlZK5ZHIEYOcv7//kJl28Ct93NA49/h3tvNzr6mnGpk9pVpTjduznwZieRc1orJ2vmtcBbUJ7pY/jKIO37PLiyhTeticWddmq7lvCSycVkLJ37nvRm/KVZKCsz+Jsty6x4Dg8xej5MYKcbhzbklLmQFYsqmj4tpqZbGAae99CaVtf1t89Ta3cmWJYruJ9qJ3Y6oPYE053sfnXqxljiR346MwCVND5dsA8591wNUbe2ls40YPUSjrebD8/OEQsvEH+I8m5WHL55Dw9877tSHMaiND1URygFWN0EIkMMj+Z21yfG9+eR5S58L4cZHBaMJgfp3leDbRlAipC3iqYzRg9zQZT4ZGfvpJLq0R2Aa13eINHisz2cP7SSZ0Y58qDR49xgWeOhsa2PoVHBaLyPIztd6u71sQEOVProNPb+xvdfFGdy9/tM7PUpymT3p5Cg/0NNrE75KTe6K9HvPYrjX5u9P3/nMuWxrgG/NpyWONGbv1lOj673YHmqmYaFOh3gUie1WXGw+QgnOuZVHFhwgfhDlHffPcnvsuKw5HsOceIXjffmgU+DtFwEsNAQ6qNxswOrcb51gbHYXNS83E0y2a6NfycInZi02EyPTW5tbiFO5GTh7lHmw15trsKNe5PRdrFwoGTTEo1PXpksIJZ1bhraBhn+qFEbcggR/tDo6s+H9GdBmnb5Jz1or3jSjGbFdK0jf75KR+pYs9Z7UGh+PruQoHhmlO5LndRuqCOUFYd57jlkWTiB0IvD7Q7cS1kc1jq1ycUo/QNFv8KZMz4e78BudozL1QGCb0/d7Z0XljvHhy/mFFs1Nferl717momarcQZi9K8R50GZJuPuqUzMoFne4PaUj/TTFPP0hnKAbCsUXAab2ZZlEnqIvy9p634QiFwPns/RmOB+anMiXocrnoOvNmC31NO1WuzlOlzQVo0Ma3ZmrskIIexCM0vDqjX25poKJC+Qswo3XpxWNNA3wKJA9MSiJvXGfnjSI65MV6ob3Ejx+66ujIpS4443M0Df38/d43lhqU3+tNeF4V1NdRoZ7OEnq6m5cPUNJelThMlu9olTmBPcHxSOJOO07u/GvuKKg4UXOI5W6IEn2+h88M4qVQ6p0WTuRon9IO68QP4ah6ZrF01XWw0HGpQJ8YvHqBCqSd0Jht/hvSZEPVKhXpWDy4CB70TB/8tBTY30rwRIE3now627O8lflWXe9fSJE6FaNm1hdrXi6gEpkOqlwP7W+k9lSClj5MM6YsRWp70a72uGqo366z/jIh0qRPeWaJHQzPoyWVIX4wS2l+NXdEWFGwM0DzJWUqpHzVNHEj58vS/yWmnWy8Oq3109zThzKRIpczNXC8+LF4gzkfo+veuHJPdvwC/42SOXQT9qr7fxc6p4gBw/TKfvJcbjtFEzus8LwoK/sPaMrx0BL/bTqn+fKK8sdlZssZHYLvaJEi/U4/zTjWO0jIn1a/0ksKG5xnvvKxzhiSR1/zUuZ3Y7WU5Z/qUrnBSeywBWHG3hWnW9lLMGQ8eob9NWz11IUjthmz8pZRtqCV4AVhWyd6BSMGW5OLhoPGDPq0FmSbySjXOFbqzpO4so3xTLf43IyTmunFxLU7HK7up3lSOXR9nSam65PWDNOCgIRJc2NU1C0je6a9r7Zh1vrOY/6dDKWWOCmpfUU9LtT1yRN2/ZLpE3dB72NqMfwblYdrp7mpWxQF1L1CtYsduL2waPjAEMEuKF4ivGdatHSTPd9O4WSF7gOL8YcVzNEH/Ye/EaY0AVgX3c+0MXkkSfrZC72EOsePe6cG10pb3nBabgntngPD5JH0750eelJ19JM+HCWx35cRvsbnw7OsmNtxP8/0L1J+eLlY3R+LDDB7di2ejDauuYsnmXffJJP3anoU54w6FuifcKCtz4wSwrnTh2dfO4JUhjmxeovk2Byj7w7RvU8ccLfc10nd0+q15sGBb6cKz7wh98VGSvQ35m1t1TPQerDS8OLN9HHOT7oWjRAghjDf/XBgaGgKgvLzcaCWRSCSSKZA9CIlEIpGYIgVCIpFIJKZIgZBIJBKJKVIgJBKJRGKKFAiJRCKRmCIFQiKRSCSmSIGQSCQSiSlSICQSiURiihQIiUQikZjy/zcCvd6v117OAAAAAElFTkSuQmCC)"
      ],
      "metadata": {
        "id": "zR8VNGT4fvvg"
      }
    },
    {
      "cell_type": "code",
      "source": [
        "import warnings\n",
        "warnings.filterwarnings('ignore')\n",
        "\n",
        "#It suppresses all warnings to keep the output clean,\n",
        "#preventing non-critical messages from cluttering the console."
      ],
      "metadata": {
        "id": "MxI_jUynfgtJ"
      },
      "execution_count": null,
      "outputs": []
    },
    {
      "cell_type": "code",
      "source": [
        "import torch\n",
        "\n",
        "def fix_torch_seed(seed=42):\n",
        "    torch.manual_seed(seed)\n",
        "    torch.cuda.manual_seed(seed)\n",
        "    torch.backends.cudnn.deterministic = True\n",
        "    torch.backends.cudnn.benchmark = False\n",
        "\n",
        "fix_torch_seed()"
      ],
      "metadata": {
        "id": "JVxJjwV9i8Gf"
      },
      "execution_count": null,
      "outputs": []
    },
    {
      "cell_type": "markdown",
      "source": [
        "**Load a general pretrained model**"
      ],
      "metadata": {
        "id": "_hQBZ3kRjABT"
      }
    },
    {
      "cell_type": "markdown",
      "source": [
        "![image.png](data:image/png;base64,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)\n",
        "\n",
        "we upload the files,\n",
        "\n",
        "config.json – Defines the model architecture (e.g., layer sizes, hidden states). Essential for loading the model correctly.\n",
        "\n",
        "generation_config.json – Stores settings for text generation (e.g., temperature, top-k sampling). Needed for controlling model output.\n",
        "\n",
        "model.safetensors – Contains the actual trained model weights. Required for inference and fine-tuning.\n",
        "\n",
        "special_tokens_map.json – Maps special tokens (e.g., <pad>, <unk>). Ensures correct token handling.\n",
        "\n",
        "tokenizer.json – Defines the tokenizer rules and vocabulary. Needed for encoding/decoding text.\n",
        "\n",
        "tokenizer.model – The pre-trained tokenizer model file. Required for converting text into model-readable format.\n",
        "\n",
        "tokenizer_config.json – Configuration for the tokenizer (e.g., type, normalization). Helps in consistent tokenization.\n",
        "\n",
        "These files are necessary to ensure the model loads properly and functions correctly in the code environment."
      ],
      "metadata": {
        "id": "zigSYTJ--7px"
      }
    },
    {
      "cell_type": "markdown",
      "source": [
        "**TinySolar-248m-4k is a small decoder-only model with 248M parameters (similar in scale to GPT2) and a 4096 token context window. You can find the model on the Hugging Face model library at this link.**"
      ],
      "metadata": {
        "id": "ojz4WYxjjHFE"
      }
    },
    {
      "cell_type": "markdown",
      "source": [
        "You'll load the model in three steps:\n",
        "\n",
        "Specify the path to the model in the Hugging Face model library\n",
        "\n",
        "Load the model using AutoModelforCausalLM in the transformers library\n",
        "\n",
        "Load the tokenizer for the model from the same model path"
      ],
      "metadata": {
        "id": "hhSYPJ82jetz"
      }
    },
    {
      "cell_type": "code",
      "source": [
        "model_path_or_name = \"./models/TinySolar-248m-4k\""
      ],
      "metadata": {
        "id": "4XeNzZ1ojBAS"
      },
      "execution_count": null,
      "outputs": []
    },
    {
      "cell_type": "markdown",
      "source": [
        "**AutoModelForCausalLM.from_pretrained**\n",
        "from Hugging face transformer's library.\n",
        "\n",
        "this training script in Python will read these JSON files to configure and load the model."
      ],
      "metadata": {
        "id": "7VMp2UEhHHxM"
      }
    },
    {
      "cell_type": "code",
      "source": [
        "from transformers import AutoModelForCausalLM\n",
        "tiny_general_model = AutoModelForCausalLM.from_pretrained(\n",
        "    model_path_or_name,\n",
        "    device_map=\"cpu\", # change to auto if you have access to a GPU\n",
        "    torch_dtype=torch.bfloat16\n",
        ")"
      ],
      "metadata": {
        "id": "ln-zoDIKjRy0",
        "colab": {
          "base_uri": "https://localhost:8080/",
          "height": 211
        },
        "outputId": "fa0fd1d1-2cbd-46ed-ba73-a1e2207b1045"
      },
      "execution_count": null,
      "outputs": [
        {
          "output_type": "error",
          "ename": "NameError",
          "evalue": "name 'model_path_or_name' is not defined",
          "traceback": [
            "\u001b[0;31m---------------------------------------------------------------------------\u001b[0m",
            "\u001b[0;31mNameError\u001b[0m                                 Traceback (most recent call last)",
            "\u001b[0;32m<ipython-input-1-432ff1441289>\u001b[0m in \u001b[0;36m<cell line: 0>\u001b[0;34m()\u001b[0m\n\u001b[1;32m      1\u001b[0m \u001b[0;32mfrom\u001b[0m \u001b[0mtransformers\u001b[0m \u001b[0;32mimport\u001b[0m \u001b[0mAutoModelForCausalLM\u001b[0m\u001b[0;34m\u001b[0m\u001b[0;34m\u001b[0m\u001b[0m\n\u001b[1;32m      2\u001b[0m tiny_general_model = AutoModelForCausalLM.from_pretrained(\n\u001b[0;32m----> 3\u001b[0;31m     \u001b[0mmodel_path_or_name\u001b[0m\u001b[0;34m,\u001b[0m\u001b[0;34m\u001b[0m\u001b[0;34m\u001b[0m\u001b[0m\n\u001b[0m\u001b[1;32m      4\u001b[0m     \u001b[0mdevice_map\u001b[0m\u001b[0;34m=\u001b[0m\u001b[0;34m\"cpu\"\u001b[0m\u001b[0;34m,\u001b[0m \u001b[0;31m# change to auto if you have access to a GPU\u001b[0m\u001b[0;34m\u001b[0m\u001b[0;34m\u001b[0m\u001b[0m\n\u001b[1;32m      5\u001b[0m     \u001b[0mtorch_dtype\u001b[0m\u001b[0;34m=\u001b[0m\u001b[0mtorch\u001b[0m\u001b[0;34m.\u001b[0m\u001b[0mbfloat16\u001b[0m\u001b[0;34m\u001b[0m\u001b[0;34m\u001b[0m\u001b[0m\n",
            "\u001b[0;31mNameError\u001b[0m: name 'model_path_or_name' is not defined"
          ]
        }
      ]
    },
    {
      "cell_type": "code",
      "source": [
        "from transformers import AutoTokenizer\n",
        "tiny_general_tokenizer = AutoTokenizer.from_pretrained(\n",
        "    model_path_or_name\n",
        ")"
      ],
      "metadata": {
        "id": "6Pj5ERg5jSQS"
      },
      "execution_count": null,
      "outputs": []
    },
    {
      "cell_type": "markdown",
      "source": [
        " **Generate text samples**"
      ],
      "metadata": {
        "id": "jswWxe-1jV-u"
      }
    },
    {
      "cell_type": "markdown",
      "source": [
        "Here you'll try generating some text with the model. You'll set a prompt, instantiate a text streamer, and then have the model complete the prompt:"
      ],
      "metadata": {
        "id": "LbSZO6tJjbuF"
      }
    },
    {
      "cell_type": "code",
      "source": [
        "prompt = \"I am an engineer. I love\""
      ],
      "metadata": {
        "id": "ronQtsgclzrF"
      },
      "execution_count": null,
      "outputs": []
    },
    {
      "cell_type": "code",
      "source": [
        "inputs = tiny_general_tokenizer(prompt, return_tensors=\"pt\")"
      ],
      "metadata": {
        "id": "oMnAs3Gil1KY",
        "colab": {
          "base_uri": "https://localhost:8080/",
          "height": 141
        },
        "outputId": "8e13490b-64c9-43a7-ac1e-1903cf00c1b0"
      },
      "execution_count": null,
      "outputs": [
        {
          "output_type": "error",
          "ename": "NameError",
          "evalue": "name 'tiny_general_tokenizer' is not defined",
          "traceback": [
            "\u001b[0;31m---------------------------------------------------------------------------\u001b[0m",
            "\u001b[0;31mNameError\u001b[0m                                 Traceback (most recent call last)",
            "\u001b[0;32m<ipython-input-5-bb92a8a5035f>\u001b[0m in \u001b[0;36m<cell line: 0>\u001b[0;34m()\u001b[0m\n\u001b[0;32m----> 1\u001b[0;31m \u001b[0minputs\u001b[0m \u001b[0;34m=\u001b[0m \u001b[0mtiny_general_tokenizer\u001b[0m\u001b[0;34m(\u001b[0m\u001b[0mprompt\u001b[0m\u001b[0;34m,\u001b[0m \u001b[0mreturn_tensors\u001b[0m\u001b[0;34m=\u001b[0m\u001b[0;34m\"pt\"\u001b[0m\u001b[0;34m)\u001b[0m\u001b[0;34m\u001b[0m\u001b[0;34m\u001b[0m\u001b[0m\n\u001b[0m",
            "\u001b[0;31mNameError\u001b[0m: name 'tiny_general_tokenizer' is not defined"
          ]
        }
      ]
    },
    {
      "cell_type": "code",
      "source": [
        "from transformers import TextStreamer\n",
        "streamer = TextStreamer(\n",
        "    tiny_general_tokenizer,\n",
        "    skip_prompt=True, # If you set to false, the model will first return the prompt and then the generated text\n",
        "    skip_special_tokens=True\n",
        ")"
      ],
      "metadata": {
        "id": "NIAOIixEl2oI"
      },
      "execution_count": null,
      "outputs": []
    },
    {
      "cell_type": "code",
      "source": [
        "outputs = tiny_general_model.generate(\n",
        "    **inputs,\n",
        "    streamer=streamer,\n",
        "    use_cache=True,\n",
        "    max_new_tokens=128,\n",
        "    do_sample=False,\n",
        "    temperature=0.0,\n",
        "    repetition_penalty=1.1\n",
        ")"
      ],
      "metadata": {
        "colab": {
          "base_uri": "https://localhost:8080/"
        },
        "id": "4qQlR88al31H",
        "outputId": "0ddd0c69-83f2-4fda-bed8-c95004734b25"
      },
      "execution_count": null,
      "outputs": [
        {
          "output_type": "stream",
          "name": "stderr",
          "text": [
            "Setting `pad_token_id` to `eos_token_id`:2 for open-end generation.\n"
          ]
        },
        {
          "output_type": "stream",
          "name": "stdout",
          "text": [
            "to work with people and I like to be a part of the team.\n",
            "I have been working in the field of engineering for over 10 years now. I have worked in the field of electrical engineering since 2003, and I have always wanted to work in the field of electrical engineering.\n",
            "I have been involved in the field of electrical engineering since 2005. I have been involved in the field of electrical engineering since 2008. I have also been involved in the field of electrical engineering since 2014.\n",
            "I have been involved in the field of electrical engineering since\n"
          ]
        }
      ]
    },
    {
      "cell_type": "markdown",
      "source": [
        " **Generate Python samples with pretrained general model**"
      ],
      "metadata": {
        "id": "eDm4ZlWpl40N"
      }
    },
    {
      "cell_type": "code",
      "source": [
        "prompt =  \"def find_max(numbers):\""
      ],
      "metadata": {
        "id": "RYXyerztl7pi"
      },
      "execution_count": null,
      "outputs": []
    },
    {
      "cell_type": "code",
      "source": [
        "from google.colab import drive\n",
        "drive.mount('/content/drive')"
      ],
      "metadata": {
        "id": "uQfJOPdy_fsJ",
        "colab": {
          "base_uri": "https://localhost:8080/"
        },
        "outputId": "3cb33ae7-c729-4ac8-beb0-ce95aebcc465"
      },
      "execution_count": null,
      "outputs": [
        {
          "output_type": "stream",
          "name": "stdout",
          "text": [
            "Mounted at /content/drive\n"
          ]
        }
      ]
    },
    {
      "cell_type": "code",
      "source": [
        "inputs = tiny_general_tokenizer(\n",
        "    prompt, return_tensors=\"pt\"\n",
        ").to(tiny_general_model.device)\n",
        "\n",
        "streamer = TextStreamer(\n",
        "    tiny_general_tokenizer,\n",
        "    skip_prompt=True, # Set to false to include the prompt in the output\n",
        "    skip_special_tokens=True\n",
        ")"
      ],
      "metadata": {
        "id": "02tYeHz4l9Zf",
        "colab": {
          "base_uri": "https://localhost:8080/",
          "height": 211
        },
        "outputId": "efe26e44-bace-4d12-b6ca-de4641d98d69"
      },
      "execution_count": null,
      "outputs": [
        {
          "output_type": "error",
          "ename": "NameError",
          "evalue": "name 'tiny_general_tokenizer' is not defined",
          "traceback": [
            "\u001b[0;31m---------------------------------------------------------------------------\u001b[0m",
            "\u001b[0;31mNameError\u001b[0m                                 Traceback (most recent call last)",
            "\u001b[0;32m<ipython-input-3-6e0914e36985>\u001b[0m in \u001b[0;36m<cell line: 0>\u001b[0;34m()\u001b[0m\n\u001b[0;32m----> 1\u001b[0;31m inputs = tiny_general_tokenizer(\n\u001b[0m\u001b[1;32m      2\u001b[0m     \u001b[0mprompt\u001b[0m\u001b[0;34m,\u001b[0m \u001b[0mreturn_tensors\u001b[0m\u001b[0;34m=\u001b[0m\u001b[0;34m\"pt\"\u001b[0m\u001b[0;34m\u001b[0m\u001b[0;34m\u001b[0m\u001b[0m\n\u001b[1;32m      3\u001b[0m ).to(tiny_general_model.device)\n\u001b[1;32m      4\u001b[0m \u001b[0;34m\u001b[0m\u001b[0m\n\u001b[1;32m      5\u001b[0m streamer = TextStreamer(\n",
            "\u001b[0;31mNameError\u001b[0m: name 'tiny_general_tokenizer' is not defined"
          ]
        }
      ]
    },
    {
      "cell_type": "code",
      "source": [
        "outputs = tiny_general_model.generate(\n",
        "    **inputs,\n",
        "    streamer=streamer,\n",
        "    use_cache=True,\n",
        "    max_new_tokens=128,\n",
        "    do_sample=False,\n",
        "    temperature=0.0,\n",
        "    repetition_penalty=1.1\n",
        ")"
      ],
      "metadata": {
        "id": "cgLiGcGEmAYV"
      },
      "execution_count": null,
      "outputs": []
    },
    {
      "cell_type": "markdown",
      "source": [
        "**Generate Python samples with finetuned Python model**"
      ],
      "metadata": {
        "id": "mCFXAj7TmFKk"
      }
    },
    {
      "cell_type": "markdown",
      "source": [
        "![image.png](data:image/png;base64,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)\n"
      ],
      "metadata": {
        "id": "auG8hXEp8aNE"
      }
    },
    {
      "cell_type": "markdown",
      "source": [
        "This model has been fine-tuned on instruction code examples. You can find the model and information about the fine-tuning datasets on the Hugging Face model library at this link."
      ],
      "metadata": {
        "id": "exZm9uAOng6M"
      }
    },
    {
      "cell_type": "code",
      "source": [
        "model_path_or_name = \"./models/TinySolar-248m-4k-code-instruct\""
      ],
      "metadata": {
        "id": "p9pSYx6ZmHAy"
      },
      "execution_count": null,
      "outputs": []
    },
    {
      "cell_type": "code",
      "source": [
        "tiny_finetuned_model = AutoModelForCausalLM.from_pretrained(\n",
        "    model_path_or_name,\n",
        "    device_map=\"cpu\",\n",
        "    torch_dtype=torch.bfloat16,\n",
        ")\n",
        "\n",
        "tiny_finetuned_tokenizer = AutoTokenizer.from_pretrained(\n",
        "    model_path_or_name\n",
        ")"
      ],
      "metadata": {
        "id": "AIkisPbEmHme"
      },
      "execution_count": null,
      "outputs": []
    },
    {
      "cell_type": "code",
      "source": [
        "prompt =  \"def find_max(numbers):\"\n",
        "\n",
        "inputs = tiny_finetuned_tokenizer(\n",
        "    prompt, return_tensors=\"pt\"\n",
        ").to(tiny_finetuned_model.device)\n",
        "\n",
        "streamer = TextStreamer(\n",
        "    tiny_finetuned_tokenizer,\n",
        "    skip_prompt=True,\n",
        "    skip_special_tokens=True\n",
        ")\n",
        "\n",
        "outputs = tiny_finetuned_model.generate(\n",
        "    **inputs,\n",
        "    streamer=streamer,\n",
        "    use_cache=True,\n",
        "    max_new_tokens=128,\n",
        "    do_sample=False,\n",
        "    temperature=0.0,\n",
        "    repetition_penalty=1.1\n",
        ")"
      ],
      "metadata": {
        "id": "IlGwVqRImJ8Y"
      },
      "execution_count": null,
      "outputs": []
    },
    {
      "cell_type": "markdown",
      "source": [
        "**Generate Python samples with pretrained Python model**"
      ],
      "metadata": {
        "id": "rqpSRIHTmOZ8"
      }
    },
    {
      "cell_type": "markdown",
      "source": [
        "a version of TinySolar-248m-4k that has been further pretrained (a process called continued pretraining) on a large selection of python code samples. You can find the model on Hugging Face at this link."
      ],
      "metadata": {
        "id": "Z1T4zh1Tnki6"
      }
    },
    {
      "cell_type": "code",
      "source": [
        "model_path_or_name = \"./models/TinySolar-248m-4k-py\""
      ],
      "metadata": {
        "id": "WzMDKM4gmTBS"
      },
      "execution_count": null,
      "outputs": []
    },
    {
      "cell_type": "code",
      "source": [
        "tiny_custom_model = AutoModelForCausalLM.from_pretrained(\n",
        "    model_path_or_name,\n",
        "    device_map=\"cpu\",\n",
        "    torch_dtype=torch.bfloat16,\n",
        ")\n",
        "\n",
        "tiny_custom_tokenizer = AutoTokenizer.from_pretrained(\n",
        "    model_path_or_name\n",
        ")"
      ],
      "metadata": {
        "id": "p3XctGZlmRhW"
      },
      "execution_count": null,
      "outputs": []
    },
    {
      "cell_type": "code",
      "source": [
        "prompt = \"def find_max(numbers):\"\n",
        "\n",
        "inputs = tiny_custom_tokenizer(\n",
        "    prompt, return_tensors=\"pt\"\n",
        ").to(tiny_custom_model.device)\n",
        "\n",
        "streamer = TextStreamer(\n",
        "    tiny_custom_tokenizer,\n",
        "    skip_prompt=True,\n",
        "    skip_special_tokens=True\n",
        ")\n",
        "\n",
        "outputs = tiny_custom_model.generate(\n",
        "    **inputs, streamer=streamer,\n",
        "    use_cache=True,\n",
        "    max_new_tokens=128,\n",
        "    do_sample=False,\n",
        "    repetition_penalty=1.1\n",
        ")"
      ],
      "metadata": {
        "id": "wgYBTlBwmUu4"
      },
      "execution_count": null,
      "outputs": []
    },
    {
      "cell_type": "markdown",
      "source": [
        "# **Data Preparation**"
      ],
      "metadata": {
        "id": "QPQg3wfF8YZ5"
      }
    },
    {
      "cell_type": "code",
      "source": [
        "import warnings\n",
        "warnings.filterwarnings(\"ignore\")"
      ],
      "metadata": {
        "id": "qB6pK3Isd3er"
      },
      "execution_count": null,
      "outputs": []
    },
    {
      "cell_type": "markdown",
      "source": [
        "**Sourcing datasets for pretraining**"
      ],
      "metadata": {
        "id": "yxz_-RAMeTjX"
      }
    },
    {
      "cell_type": "markdown",
      "source": [
        "we load a pretraining dataset from Hugging Face, a subset of a much larger dataset called Red Pajama.\n",
        "\n",
        "datasets library belongs to hugging face"
      ],
      "metadata": {
        "id": "TzzBlpUikwZL"
      }
    },
    {
      "cell_type": "code",
      "source": [
        "!pip install datasets"
      ],
      "metadata": {
        "id": "qdrcIHjtlR8W"
      },
      "execution_count": null,
      "outputs": []
    },
    {
      "cell_type": "code",
      "source": [
        "import datasets\n",
        "pretraining_dataset = datasets.load_dataset(\n",
        "    \"upstage/Pretraining_Dataset\",\n",
        "    split=\"train\"\n",
        ")\n",
        "\n",
        "#The argument split=\"train\"\n",
        "#specifies that only the training portion of the dataset should be loaded."
      ],
      "metadata": {
        "colab": {
          "base_uri": "https://localhost:8080/",
          "height": 81,
          "referenced_widgets": [
            "af23ab1bff284578bc748ed16e539555",
            "0aca6dcc6a824965a221ac77c97a4e97",
            "ada7ecec35794e239a4ca7d4f07a68a9",
            "4fcfb7bdf5144f3ea6de25e320de8e9e",
            "61877d1a0b08489383698062b40f7ab3",
            "be45fb369c4f46e6a85a05c86474f7e6",
            "ac9b90d45daa43e098dca6b80a35c056",
            "701230bf5cc544a69063b98bbce2371b",
            "78feddfff7704ed388eb2952e6c9dc70",
            "3d47bf58e6154bd18e5dbf043a3b0e61",
            "fff4587fd2a94757a82871960e268ebd",
            "fe8384d5fb024d5c8ea4cffda2103667",
            "016d787d420942a49f53b11caf49968e",
            "a13587e3bfd14c8d9b98f1cbbcf789c4",
            "6c208ed918f64a728f215dcae235963b",
            "7c9cbed2a7464585aa1ca37aa9ba3d12",
            "8980236c68e24ab68fd1bc33a38cd330",
            "3322d8280f394fd6b7a86c0757250d81",
            "1678c9b37a39438ead351598df2e7f22",
            "f89229b83cd84661b3a7334a027dc124",
            "c68c7bb248f14707bd9ffbd1cb1ada0a",
            "f3d9e257bcb047a8b263f5c6e0051d22"
          ]
        },
        "id": "pkm8O5qtd6tk",
        "outputId": "17484e22-e693-4756-94e3-6d800bc15984"
      },
      "execution_count": null,
      "outputs": [
        {
          "output_type": "display_data",
          "data": {
            "text/plain": [
              "pretraining_dataset.parquet:   0%|          | 0.00/150M [00:00<?, ?B/s]"
            ],
            "application/vnd.jupyter.widget-view+json": {
              "version_major": 2,
              "version_minor": 0,
              "model_id": "af23ab1bff284578bc748ed16e539555"
            }
          },
          "metadata": {}
        },
        {
          "output_type": "display_data",
          "data": {
            "text/plain": [
              "Generating train split:   0%|          | 0/60000 [00:00<?, ? examples/s]"
            ],
            "application/vnd.jupyter.widget-view+json": {
              "version_major": 2,
              "version_minor": 0,
              "model_id": "fe8384d5fb024d5c8ea4cffda2103667"
            }
          },
          "metadata": {}
        }
      ]
    },
    {
      "cell_type": "markdown",
      "source": [
        "The dataset is stored in Parquet format (a compressed, columnar data format).\n",
        "\n",
        "The file size is 150MB, and it was downloaded at 84.4MB/s, completing in 1 second.\n",
        "\n",
        "The dataset contains 60,000 training examples.\n",
        "\n",
        "It was processed (loaded into memory) in 5 seconds, at a rate of 5,570.97 examples per second."
      ],
      "metadata": {
        "id": "iaLUQHhnnTXt"
      }
    },
    {
      "cell_type": "code",
      "source": [
        "print(pretraining_dataset)"
      ],
      "metadata": {
        "colab": {
          "base_uri": "https://localhost:8080/"
        },
        "id": "yIfYm1hBlB3l",
        "outputId": "e8f4e6e2-9bde-4c0e-ba41-6cc32fb5273f"
      },
      "execution_count": null,
      "outputs": [
        {
          "output_type": "stream",
          "name": "stdout",
          "text": [
            "Dataset({\n",
            "    features: ['text', 'meta'],\n",
            "    num_rows: 60000\n",
            "})\n"
          ]
        }
      ]
    },
    {
      "cell_type": "code",
      "source": [
        "pretraining_dataset = pretraining_dataset.select_columns([\"text\"])\n",
        "\n",
        "#only work with the text column"
      ],
      "metadata": {
        "id": "Ed2CeJ3-owgF"
      },
      "execution_count": null,
      "outputs": []
    },
    {
      "cell_type": "code",
      "source": [
        "print(pretraining_dataset[0][\"text\"][:300])\n",
        "\n",
        "#sample"
      ],
      "metadata": {
        "colab": {
          "base_uri": "https://localhost:8080/"
        },
        "id": "wfdR7BaGoxD8",
        "outputId": "87434fd5-08fe-4acd-fbf0-f22306f3600c"
      },
      "execution_count": null,
      "outputs": [
        {
          "output_type": "stream",
          "name": "stdout",
          "text": [
            "In 1793 Zaman Shah, a grandson of Ahmad Shah Durrani, won a brief war of succession to become ruler of Afghanistan. The support of Painda Khan, chief of the Baraksai branch of the Durrani tribe, was decisive in his victory. In the next fifty year., the brothers of Zaman shah and the sons of Painda K\n"
          ]
        }
      ]
    },
    {
      "cell_type": "markdown",
      "source": [
        "**Compare pretraining and fine-tuning datasets**"
      ],
      "metadata": {
        "id": "yhaHTnizpTI3"
      }
    },
    {
      "cell_type": "markdown",
      "source": [
        "we now download a fine-tuning dataset to contrast with the pretraining dataset you loaded above."
      ],
      "metadata": {
        "id": "Nii9CLf1puGW"
      }
    },
    {
      "cell_type": "code",
      "source": [
        "instruction_dataset = datasets.load_dataset(\n",
        "    \"c-s-ale/alpaca-gpt4-data\",\n",
        "    split='train'\n",
        ")\n",
        "print(instruction_dataset)"
      ],
      "metadata": {
        "colab": {
          "base_uri": "https://localhost:8080/",
          "height": 182,
          "referenced_widgets": [
            "b53645a5ecb048a2871e281997a8fe2a",
            "ecb14f43c6f44db18054f459460082ff",
            "3b9c2e744a8d4cefb710c4f693067a59",
            "59e9d6dbf322472685f0e4229f6a5b17",
            "17260e7724854958a32fd7c08745d4f0",
            "96d8e561ae7e4f16a4ebdc3e08418bca",
            "2a023705cd8e4d7c938042b0a2cbf2a8",
            "f4a30d1e380f424fbb2a5b354c1bbf9b",
            "13a50a6d87924afbadd35d8a0753488f",
            "9869fd0432fc488e9294ed55e8cc4daa",
            "5e478804287e41c7a7c3589d155f8337",
            "d155f41a40ea41ea90d1f82201423171",
            "a62cbdf0aa694650a9008e94d3c50927",
            "53522a2dc4414a8ea9d4acbfbeb727fc",
            "36cebfc86c4b40f1b2f35356762fcd9e",
            "0e9e2437da9841b9978ec74cbf9553fc",
            "9c64335bc14b406ca1e9b696da90d3a7",
            "064cfd10b40f416e9b162287c043cbc4",
            "4dba39cf7c224371adbcc2aea2570155",
            "59a2307f96bc42dabdeb5e9d450149e4",
            "a728078d74e345e18cc33316220162e8",
            "ded228b6a32c4392b6ba43cad9008fd9",
            "1c36b001385942769dd8d211c7ba0c34",
            "32cfecb178b04e25a57da3d5b5d5d43c",
            "fb15b755fc6147fd9285d444bca74022",
            "8271739fea7a4278a440d75d7a23663e",
            "04d510001c7846468065033c227afaa7",
            "80bf882895754a33bbcfd93429e39f5d",
            "2dc22262c69849109dc18a0e89b04c00",
            "fe698c627b6d4620985ea4a832ead9f3",
            "e535df70f5d44b85aa17076efbc629d6",
            "25492611421c4e9db2c71d7c253e3e08",
            "9c6395c32c584ea9918b6bc4b15dd33d"
          ]
        },
        "id": "C19qGs0QpSh_",
        "outputId": "d672104e-8e81-4aa2-f9aa-0b35c8f9d8ee"
      },
      "execution_count": null,
      "outputs": [
        {
          "output_type": "display_data",
          "data": {
            "text/plain": [
              "README.md:   0%|          | 0.00/1.39k [00:00<?, ?B/s]"
            ],
            "application/vnd.jupyter.widget-view+json": {
              "version_major": 2,
              "version_minor": 0,
              "model_id": "b53645a5ecb048a2871e281997a8fe2a"
            }
          },
          "metadata": {}
        },
        {
          "output_type": "display_data",
          "data": {
            "text/plain": [
              "alpaca_gpt4_data.json:   0%|          | 0.00/43.4M [00:00<?, ?B/s]"
            ],
            "application/vnd.jupyter.widget-view+json": {
              "version_major": 2,
              "version_minor": 0,
              "model_id": "d155f41a40ea41ea90d1f82201423171"
            }
          },
          "metadata": {}
        },
        {
          "output_type": "display_data",
          "data": {
            "text/plain": [
              "Generating train split:   0%|          | 0/52002 [00:00<?, ? examples/s]"
            ],
            "application/vnd.jupyter.widget-view+json": {
              "version_major": 2,
              "version_minor": 0,
              "model_id": "1c36b001385942769dd8d211c7ba0c34"
            }
          },
          "metadata": {}
        },
        {
          "output_type": "stream",
          "name": "stdout",
          "text": [
            "Dataset({\n",
            "    features: ['instruction', 'input', 'output'],\n",
            "    num_rows: 52002\n",
            "})\n"
          ]
        }
      ]
    },
    {
      "cell_type": "markdown",
      "source": [
        "A README.md file is a Markdown document used for project or dataset descriptions. It provides usage instructions, features, and guidelines"
      ],
      "metadata": {
        "id": "0TQdoWJBrn20"
      }
    },
    {
      "cell_type": "code",
      "source": [
        "i=0\n",
        "print(\"Instruction: \" + instruction_dataset[i][\"instruction\"]\n",
        "      + \"\\nInput: \" + instruction_dataset[i][\"input\"]\n",
        "      + \"\\nOutput: \" + instruction_dataset[i][\"output\"])"
      ],
      "metadata": {
        "colab": {
          "base_uri": "https://localhost:8080/"
        },
        "id": "Rj1mb8ndpx0n",
        "outputId": "4c8f9c2a-dc04-4b4c-b839-c401b29ae86e"
      },
      "execution_count": null,
      "outputs": [
        {
          "output_type": "stream",
          "name": "stdout",
          "text": [
            "Instruction: Give three tips for staying healthy.\n",
            "Input: \n",
            "Output: 1. Eat a balanced and nutritious diet: Make sure your meals are inclusive of a variety of fruits and vegetables, lean protein, whole grains, and healthy fats. This helps to provide your body with the essential nutrients to function at its best and can help prevent chronic diseases.\n",
            "\n",
            "2. Engage in regular physical activity: Exercise is crucial for maintaining strong bones, muscles, and cardiovascular health. Aim for at least 150 minutes of moderate aerobic exercise or 75 minutes of vigorous exercise each week.\n",
            "\n",
            "3. Get enough sleep: Getting enough quality sleep is crucial for physical and mental well-being. It helps to regulate mood, improve cognitive function, and supports healthy growth and immune function. Aim for 7-9 hours of sleep each night.\n"
          ]
        }
      ]
    },
    {
      "cell_type": "markdown",
      "source": [
        "Notice how in contrast to the pretraining data, which is just raw text, fine-tuning datasets are structured into question-answer pairs or instruction-response sets that can include additional input context if required.\n",
        "\n",
        "Moving forward, you'll only work with the unstructured pretraining dataset."
      ],
      "metadata": {
        "id": "zn1l6XkCtukz"
      }
    },
    {
      "cell_type": "markdown",
      "source": [
        "**Scrape python code from Github**"
      ],
      "metadata": {
        "id": "69qKnBhLpzpG"
      }
    },
    {
      "cell_type": "markdown",
      "source": [
        "you'll download a selection of python scripts from Github and then prepare them as a Hugging Face Dataset object to use in training"
      ],
      "metadata": {
        "id": "PTkGVpx5uRDI"
      }
    },
    {
      "cell_type": "code",
      "source": [
        "# Import some required packages\n",
        "import os\n",
        "import requests\n",
        "os.makedirs(code_dir, exist_ok=True)\n",
        "\n",
        "# Path to directory to store python scripts\n",
        "code_dir = \"./code\"\n"
      ],
      "metadata": {
        "id": "c35_OI1xtvli"
      },
      "execution_count": null,
      "outputs": []
    },
    {
      "cell_type": "code",
      "source": [
        "urls = [\n",
        "    \"https://raw.githubusercontent.com/TheAlgorithms/Python/master/searches/double_linear_search_recursion.py\",\n",
        "    \"https://raw.githubusercontent.com/KosingZhu/tensorflow/master/tensorflow/python/tools/module_util.py\",\n",
        "    \"https://raw.githubusercontent.com/EricRemmerswaal/tensorflow/master/tensorflow/python/distribute/distribute_coordinator_context.py\",\n",
        "    \"https://raw.githubusercontent.com/computationalartist/tensorflow/master/tensorflow/python/ops/numpy_ops/integration_test/benchmarks/numpy_mlp.py\",\n",
        "    \"https://raw.githubusercontent.com/Van-an/tensorflow/master/tensorflow/python/distribute/coordinator/values.py\",\n",
        "    \"https://raw.githubusercontent.com/nkgwer/tensorflow/master/tensorflow/lite/tools/visualize.py\",\n",
        "    \"https://raw.githubusercontent.com/gitblazer/youtube-dl/master/youtube_dl/version.py\",\n",
        "    \"https://raw.githubusercontent.com/Joshua-Barawa/My-Photos/master/venv/lib/python3.8/site-packages/django/contrib/messages/__init__.py\",\n",
        "    \"https://raw.githubusercontent.com/PaliC/pytorch/master/test/fx/test_subgraph_rewriter.py\"\n",
        "]"
      ],
      "metadata": {
        "id": "FHE_UK4luV1H"
      },
      "execution_count": null,
      "outputs": []
    },
    {
      "cell_type": "markdown",
      "source": [
        "Retrieve the python scripts:"
      ],
      "metadata": {
        "id": "bYq40xs6uacn"
      }
    },
    {
      "cell_type": "code",
      "source": [
        "for url in urls:\n",
        "    print(f\"Working on url: {url}\")\n",
        "    response = requests.get(url)\n",
        "    file_name = os.path.basename(url)\n",
        "    file_path = os.path.join(code_dir, file_name)\n",
        "\n",
        "    with open(file_path, \"wb\") as file:\n",
        "        file.write(response.content)"
      ],
      "metadata": {
        "colab": {
          "base_uri": "https://localhost:8080/"
        },
        "id": "SKekIg_iuXNY",
        "outputId": "fe03f927-1370-4809-b0dd-0394d6f636ff"
      },
      "execution_count": null,
      "outputs": [
        {
          "output_type": "stream",
          "name": "stdout",
          "text": [
            "Working on url: https://raw.githubusercontent.com/TheAlgorithms/Python/master/searches/double_linear_search_recursion.py\n",
            "Working on url: https://raw.githubusercontent.com/KosingZhu/tensorflow/master/tensorflow/python/tools/module_util.py\n",
            "Working on url: https://raw.githubusercontent.com/EricRemmerswaal/tensorflow/master/tensorflow/python/distribute/distribute_coordinator_context.py\n",
            "Working on url: https://raw.githubusercontent.com/computationalartist/tensorflow/master/tensorflow/python/ops/numpy_ops/integration_test/benchmarks/numpy_mlp.py\n",
            "Working on url: https://raw.githubusercontent.com/Van-an/tensorflow/master/tensorflow/python/distribute/coordinator/values.py\n",
            "Working on url: https://raw.githubusercontent.com/nkgwer/tensorflow/master/tensorflow/lite/tools/visualize.py\n",
            "Working on url: https://raw.githubusercontent.com/gitblazer/youtube-dl/master/youtube_dl/version.py\n",
            "Working on url: https://raw.githubusercontent.com/Joshua-Barawa/My-Photos/master/venv/lib/python3.8/site-packages/django/contrib/messages/__init__.py\n",
            "Working on url: https://raw.githubusercontent.com/PaliC/pytorch/master/test/fx/test_subgraph_rewriter.py\n"
          ]
        }
      ]
    },
    {
      "cell_type": "code",
      "source": [
        "files = os.listdir(code_dir)\n",
        "for file in files:\n",
        "    print(file)"
      ],
      "metadata": {
        "colab": {
          "base_uri": "https://localhost:8080/"
        },
        "id": "vzR8vOO-ug8C",
        "outputId": "af42a822-95ce-4d84-8024-b989a5241ab7"
      },
      "execution_count": null,
      "outputs": [
        {
          "output_type": "stream",
          "name": "stdout",
          "text": [
            "test_subgraph_rewriter.py\n",
            "values.py\n",
            "numpy_mlp.py\n",
            "distribute_coordinator_context.py\n",
            "double_linear_search_recursion.py\n",
            "__init__.py\n",
            "module_util.py\n",
            "version.py\n",
            "visualize.py\n"
          ]
        }
      ]
    },
    {
      "cell_type": "markdown",
      "source": [
        "Concatenate scripts into a list:"
      ],
      "metadata": {
        "id": "K-N8ZXy3vRqM"
      }
    },
    {
      "cell_type": "code",
      "source": [
        "code_dataset = []\n",
        "for file in os.listdir(code_dir):\n",
        "    code_dataset.append(\n",
        "        {'text': open(os.path.join(code_dir, file), 'r').read()}\n",
        "    )"
      ],
      "metadata": {
        "id": "up_6YijTvSej"
      },
      "execution_count": null,
      "outputs": []
    },
    {
      "cell_type": "markdown",
      "source": [
        "Convert list to Hugging Face Dataset object:"
      ],
      "metadata": {
        "id": "NybjR2Y4wjSR"
      }
    },
    {
      "cell_type": "code",
      "source": [
        "code_dataset = datasets.Dataset.from_list(code_dataset)\n",
        "print(code_dataset)"
      ],
      "metadata": {
        "colab": {
          "base_uri": "https://localhost:8080/"
        },
        "id": "7ZQo_tKDwkhx",
        "outputId": "ed25094b-34d1-4f1f-9d8b-8bf91547151e"
      },
      "execution_count": null,
      "outputs": [
        {
          "output_type": "stream",
          "name": "stdout",
          "text": [
            "Dataset({\n",
            "    features: ['text'],\n",
            "    num_rows: 9\n",
            "})\n"
          ]
        }
      ]
    },
    {
      "cell_type": "markdown",
      "source": [
        "Combine the python code dataset with the pretraining dataset you downloaded above:"
      ],
      "metadata": {
        "id": "6bnvJdjNwnJZ"
      }
    },
    {
      "cell_type": "code",
      "source": [
        "dataset = datasets.concatenate_datasets(\n",
        "    [pretraining_dataset, code_dataset]\n",
        ")\n",
        "print(dataset)"
      ],
      "metadata": {
        "colab": {
          "base_uri": "https://localhost:8080/"
        },
        "id": "yuiTCYk7wn3y",
        "outputId": "dddc2f2b-dd3c-4534-ccd1-1870e21cb9c4"
      },
      "execution_count": null,
      "outputs": [
        {
          "output_type": "stream",
          "name": "stdout",
          "text": [
            "Dataset({\n",
            "    features: ['text'],\n",
            "    num_rows: 60009\n",
            "})\n"
          ]
        }
      ]
    },
    {
      "cell_type": "markdown",
      "source": [
        "**Data cleaning**"
      ],
      "metadata": {
        "id": "lpJCtbLiw1yy"
      }
    },
    {
      "cell_type": "markdown",
      "source": [
        "In the cells below, you'll carry out the following cleaning steps:\n",
        "\n",
        "Filter out samples that are too short\n",
        "\n",
        "Remove repetitions within a single text example\n",
        "\n",
        "Remove duplicated documents\n",
        "\n",
        "Quality filter to remove non-English texts"
      ],
      "metadata": {
        "id": "fGjFbJRlwr9c"
      }
    },
    {
      "cell_type": "code",
      "source": [
        "dataset.num_rows"
      ],
      "metadata": {
        "colab": {
          "base_uri": "https://localhost:8080/"
        },
        "id": "M5xdO-0NxdOv",
        "outputId": "738669d9-21a7-4bc7-fa70-f29d508533c6"
      },
      "execution_count": null,
      "outputs": [
        {
          "output_type": "execute_result",
          "data": {
            "text/plain": [
              "60009"
            ]
          },
          "metadata": {},
          "execution_count": 31
        }
      ]
    },
    {
      "cell_type": "markdown",
      "source": [
        "**Remove examples that are too short**"
      ],
      "metadata": {
        "id": "-IiZf7saxwTF"
      }
    },
    {
      "cell_type": "code",
      "source": [
        "import heapq\n",
        "\n",
        "def paragraph_length_filter(x):\n",
        "    \"\"\"Returns False iff a page has too few lines or lines are too short.\"\"\"\n",
        "    lines = x['text'].split('\\n')\n",
        "    if (\n",
        "        len(lines) < 3\n",
        "        or min(heapq.nlargest(3, [len(line) for line in lines])) < 3\n",
        "    ):\n",
        "        return False\n",
        "    return True"
      ],
      "metadata": {
        "id": "m_pxqjglxggB"
      },
      "execution_count": null,
      "outputs": []
    },
    {
      "cell_type": "code",
      "source": [
        "dataset = dataset.filter(\n",
        "    paragraph_length_filter,\n",
        "    load_from_cache_file=False\n",
        ")"
      ],
      "metadata": {
        "colab": {
          "base_uri": "https://localhost:8080/",
          "height": 49,
          "referenced_widgets": [
            "7d10095a2c2541ceb6a069e03607c72e",
            "b03f773e69154937b5584546b630aacf",
            "e7c922eb58d5444f977b9dfe9e9e33a8",
            "0a77d23a6b9b403887006117a167b5fc",
            "8c6f9756083848c3afdd8ebd9be9451d",
            "6714dfad7e2b47069dff14f5c3308c40",
            "c89447295831478b948f1d4cf23db449",
            "1842d6fd1c1e440a8a14b7d86226abfa",
            "fbcc8959ab434a7da82d5ca6ba0c78e0",
            "b4e1d1fdc22948298a8fc7d84c66a6ae",
            "4dc1e21d75174d27b68c636b280432a1"
          ]
        },
        "id": "wsFLndTux-kF",
        "outputId": "1b39aae0-3224-44bc-ba7f-d5a6848b08c9"
      },
      "execution_count": null,
      "outputs": [
        {
          "output_type": "display_data",
          "data": {
            "text/plain": [
              "Filter:   0%|          | 0/60009 [00:00<?, ? examples/s]"
            ],
            "application/vnd.jupyter.widget-view+json": {
              "version_major": 2,
              "version_minor": 0,
              "model_id": "7d10095a2c2541ceb6a069e03607c72e"
            }
          },
          "metadata": {}
        }
      ]
    },
    {
      "cell_type": "code",
      "source": [
        "dataset.num_rows"
      ],
      "metadata": {
        "colab": {
          "base_uri": "https://localhost:8080/"
        },
        "id": "oZL3mzpKyFbM",
        "outputId": "41645046-1eab-48e4-a15d-fac40bcc89e4"
      },
      "execution_count": null,
      "outputs": [
        {
          "output_type": "execute_result",
          "data": {
            "text/plain": [
              "52356"
            ]
          },
          "metadata": {},
          "execution_count": 36
        }
      ]
    },
    {
      "cell_type": "markdown",
      "source": [
        "**Remove repeated text within training examples**"
      ],
      "metadata": {
        "id": "bW1X2gTTy8Hz"
      }
    },
    {
      "cell_type": "code",
      "source": [
        "def find_duplicates(paragraphs):\n",
        "    \"\"\"\n",
        "    Use this function to find the number of repetitions\n",
        "    in the paragraphs.\n",
        "    \"\"\"\n",
        "    unique_x = set()\n",
        "    duplicate_chars = 0\n",
        "    duplicate_elements = 0\n",
        "    for element in paragraphs:\n",
        "        if element in unique_x:\n",
        "            duplicate_chars += len(element)\n",
        "            duplicate_elements += 1\n",
        "        else:\n",
        "            unique_x.add(element)\n",
        "    return duplicate_elements, duplicate_chars"
      ],
      "metadata": {
        "id": "RnGw82_EzBky"
      },
      "execution_count": null,
      "outputs": []
    },
    {
      "cell_type": "code",
      "source": [
        "import re\n",
        "\n",
        "def paragraph_repetition_filter(x):\n",
        "    \"\"\"\n",
        "    Returns False iff a page has too many repetitions.\n",
        "    \"\"\"\n",
        "    text = x['text']\n",
        "    paragraphs = re.compile(r\"\\n{2,}\").split(text.strip())                # Split by paragraphs (2 or more newlines)\n",
        "    paragraphs_duplicates, char_duplicates = find_duplicates(paragraphs)  # Find number of duplicates in paragraphs\n",
        "    if paragraphs_duplicates / len(paragraphs) > 0.3:\n",
        "        return False\n",
        "    if char_duplicates / len(text) > 0.2:\n",
        "        return False\n",
        "    return True"
      ],
      "metadata": {
        "id": "JhK-LOokzDgL"
      },
      "execution_count": null,
      "outputs": []
    },
    {
      "cell_type": "code",
      "source": [
        "dataset = dataset.filter(\n",
        "    paragraph_repetition_filter,\n",
        "    load_from_cache_file=False\n",
        ")"
      ],
      "metadata": {
        "colab": {
          "base_uri": "https://localhost:8080/",
          "height": 49,
          "referenced_widgets": [
            "d525b77404424280be00b00952070164",
            "b190f3f61f3846098143f7f2bbf758b1",
            "bbd3174f086b4e7e9d0b367276a58c55",
            "828fb151884b449e996ffad16c846d29",
            "c7c85c014aa043539d22a2142fafa38e",
            "fc785155d3004eaaa60999ac9d590b53",
            "c29c6daf7bff4ad8aec0d32a91f49197",
            "bc7be7f3a1724e6da9f75ebd73bf0dde",
            "e5f3b6afc0f9455293d0ef875827d293",
            "5e761589e6ac451a9a01760f316991d2",
            "cb861a56b43b46349a3cc259dc642bac"
          ]
        },
        "id": "v6IZg6NjzF1k",
        "outputId": "8c757fd4-7698-4fce-da90-1b7320519647"
      },
      "execution_count": null,
      "outputs": [
        {
          "output_type": "display_data",
          "data": {
            "text/plain": [
              "Filter:   0%|          | 0/52356 [00:00<?, ? examples/s]"
            ],
            "application/vnd.jupyter.widget-view+json": {
              "version_major": 2,
              "version_minor": 0,
              "model_id": "d525b77404424280be00b00952070164"
            }
          },
          "metadata": {}
        }
      ]
    },
    {
      "cell_type": "code",
      "source": [
        "dataset.num_rows"
      ],
      "metadata": {
        "colab": {
          "base_uri": "https://localhost:8080/"
        },
        "id": "dZs4RCXhzKmo",
        "outputId": "786828be-81f5-48d1-98eb-32020a7e5e9c"
      },
      "execution_count": null,
      "outputs": [
        {
          "output_type": "execute_result",
          "data": {
            "text/plain": [
              "52326"
            ]
          },
          "metadata": {},
          "execution_count": 40
        }
      ]
    },
    {
      "cell_type": "markdown",
      "source": [
        "**Deduplication**"
      ],
      "metadata": {
        "id": "cnunxWLezSnU"
      }
    },
    {
      "cell_type": "code",
      "source": [
        "def deduplication(ds):\n",
        "    def dedup_func(x):\n",
        "        \"\"\"Use this function to remove duplicate entries\"\"\"\n",
        "        if x['text'] in unique_text:\n",
        "            return False\n",
        "        else:\n",
        "            unique_text.add(x['text'])\n",
        "            return True\n",
        "\n",
        "    unique_text = set()\n",
        "\n",
        "    ds = ds.filter(dedup_func, load_from_cache_file=False, num_proc=1)\n",
        "    return ds\n",
        "\n",
        "dataset = deduplication(dataset)"
      ],
      "metadata": {
        "colab": {
          "base_uri": "https://localhost:8080/",
          "height": 49,
          "referenced_widgets": [
            "86f5350a5673494083e58504a6160d00",
            "77ec2a69762c4b4e80e3b87ffeaa00c2",
            "3ff3bf0eaeeb450d9e16db28cafea5a9",
            "262c9211411e400ca676c6ebed23d407",
            "3a94bb825408464b9a0484b37c20ff56",
            "b6533c654d3b41adb8dcdfa2eee0afce",
            "2f4597071a1349bc88428bc889e6f28c",
            "c6e50f952aa74a579df59a4798bbf829",
            "d10ad8b1bbe0490ea1bfcad2518555d0",
            "0aa2a49004b643ecab82f8b53ade50cc",
            "e2a972a0c3954c93a8ee969baef17712"
          ]
        },
        "id": "82VcHYDtzqlS",
        "outputId": "d43adc3b-5f26-4a53-b254-526fd01aec69"
      },
      "execution_count": null,
      "outputs": [
        {
          "output_type": "display_data",
          "data": {
            "text/plain": [
              "Filter:   0%|          | 0/52326 [00:00<?, ? examples/s]"
            ],
            "application/vnd.jupyter.widget-view+json": {
              "version_major": 2,
              "version_minor": 0,
              "model_id": "86f5350a5673494083e58504a6160d00"
            }
          },
          "metadata": {}
        }
      ]
    },
    {
      "cell_type": "code",
      "source": [
        "dataset.num_rows"
      ],
      "metadata": {
        "colab": {
          "base_uri": "https://localhost:8080/"
        },
        "id": "_QVCoR6Uzmdg",
        "outputId": "99b61c3e-2c1e-4a88-c67c-c9e6be4e7da0"
      },
      "execution_count": null,
      "outputs": [
        {
          "output_type": "execute_result",
          "data": {
            "text/plain": [
              "43597"
            ]
          },
          "metadata": {},
          "execution_count": 42
        }
      ]
    },
    {
      "cell_type": "markdown",
      "source": [
        "**Quality filter - Language**"
      ],
      "metadata": {
        "id": "R_Fz3M7-z268"
      }
    },
    {
      "cell_type": "markdown",
      "source": [
        " you'll remove any text examples that are in a language other than English. The code here uses a language detection model called fastText."
      ],
      "metadata": {
        "id": "RH8mIwrH0Wp-"
      }
    },
    {
      "cell_type": "code",
      "source": [
        "!pip install fasttext"
      ],
      "metadata": {
        "colab": {
          "base_uri": "https://localhost:8080/"
        },
        "id": "dTwsGfYJz2cu",
        "outputId": "71f46ea5-efa3-46fa-a4c5-d73035b01825"
      },
      "execution_count": null,
      "outputs": [
        {
          "output_type": "stream",
          "name": "stdout",
          "text": [
            "Requirement already satisfied: fasttext in /usr/local/lib/python3.11/dist-packages (0.9.3)\n",
            "Requirement already satisfied: pybind11>=2.2 in /usr/local/lib/python3.11/dist-packages (from fasttext) (2.13.6)\n",
            "Requirement already satisfied: setuptools>=0.7.0 in /usr/local/lib/python3.11/dist-packages (from fasttext) (75.1.0)\n",
            "Requirement already satisfied: numpy in /usr/local/lib/python3.11/dist-packages (from fasttext) (2.0.2)\n"
          ]
        }
      ]
    },
    {
      "cell_type": "code",
      "source": [
        "pip install numpy==1.23.5"
      ],
      "metadata": {
        "colab": {
          "base_uri": "https://localhost:8080/",
          "height": 550
        },
        "id": "Bps4UOCz_t-V",
        "outputId": "768caeeb-e6f0-4f65-aa0c-044650cbec40"
      },
      "execution_count": null,
      "outputs": [
        {
          "output_type": "stream",
          "name": "stdout",
          "text": [
            "Collecting numpy==1.23.5\n",
            "  Downloading numpy-1.23.5-cp311-cp311-manylinux_2_17_x86_64.manylinux2014_x86_64.whl.metadata (2.3 kB)\n",
            "Downloading numpy-1.23.5-cp311-cp311-manylinux_2_17_x86_64.manylinux2014_x86_64.whl (17.1 MB)\n",
            "\u001b[2K   \u001b[90m━━━━━━━━━━━━━━━━━━━━━━━━━━━━━━━━━━━━━━━━\u001b[0m \u001b[32m17.1/17.1 MB\u001b[0m \u001b[31m23.7 MB/s\u001b[0m eta \u001b[36m0:00:00\u001b[0m\n",
            "\u001b[?25hInstalling collected packages: numpy\n",
            "  Attempting uninstall: numpy\n",
            "    Found existing installation: numpy 2.0.2\n",
            "    Uninstalling numpy-2.0.2:\n",
            "      Successfully uninstalled numpy-2.0.2\n",
            "\u001b[31mERROR: pip's dependency resolver does not currently take into account all the packages that are installed. This behaviour is the source of the following dependency conflicts.\n",
            "albumentations 2.0.5 requires numpy>=1.24.4, but you have numpy 1.23.5 which is incompatible.\n",
            "jax 0.5.2 requires numpy>=1.25, but you have numpy 1.23.5 which is incompatible.\n",
            "xarray 2025.1.2 requires numpy>=1.24, but you have numpy 1.23.5 which is incompatible.\n",
            "tensorflow 2.18.0 requires numpy<2.1.0,>=1.26.0, but you have numpy 1.23.5 which is incompatible.\n",
            "jaxlib 0.5.1 requires numpy>=1.25, but you have numpy 1.23.5 which is incompatible.\n",
            "treescope 0.1.9 requires numpy>=1.25.2, but you have numpy 1.23.5 which is incompatible.\n",
            "albucore 0.0.23 requires numpy>=1.24.4, but you have numpy 1.23.5 which is incompatible.\n",
            "bigframes 1.40.0 requires numpy>=1.24.0, but you have numpy 1.23.5 which is incompatible.\n",
            "blosc2 3.2.0 requires numpy>=1.26, but you have numpy 1.23.5 which is incompatible.\n",
            "chex 0.1.89 requires numpy>=1.24.1, but you have numpy 1.23.5 which is incompatible.\n",
            "imbalanced-learn 0.13.0 requires numpy<3,>=1.24.3, but you have numpy 1.23.5 which is incompatible.\n",
            "pymc 5.21.1 requires numpy>=1.25.0, but you have numpy 1.23.5 which is incompatible.\n",
            "scikit-image 0.25.2 requires numpy>=1.24, but you have numpy 1.23.5 which is incompatible.\u001b[0m\u001b[31m\n",
            "\u001b[0mSuccessfully installed numpy-1.23.5\n"
          ]
        },
        {
          "output_type": "display_data",
          "data": {
            "application/vnd.colab-display-data+json": {
              "pip_warning": {
                "packages": [
                  "numpy"
                ]
              },
              "id": "7d8d8cd843634fccb6717a5c4fe89f4d"
            }
          },
          "metadata": {}
        }
      ]
    },
    {
      "cell_type": "code",
      "source": [
        "from langdetect import detect\n",
        "\n",
        "def english_language_filter(ds):\n",
        "    def is_english(text):\n",
        "        return detect(text) == 'en'\n",
        "\n",
        "    ds = ds.filter(is_english, load_from_cache_file=False, num_proc=1)\n",
        "    return ds\n",
        "\n",
        "dataset = english_language_filter(dataset)\n"
      ],
      "metadata": {
        "id": "4wtca4my_zZV"
      },
      "execution_count": null,
      "outputs": []
    },
    {
      "cell_type": "code",
      "source": [
        "import urllib\n",
        "from fasttext.FastText import _FastText\n",
        "\n",
        "def english_language_filter(ds):\n",
        "    # load language detection model\n",
        "    model = _FastText('./models/upstage/L2_language_model.bin')\n",
        "\n",
        "    def is_english(x):\n",
        "        # Predict language of the text and probability\n",
        "        language, score = model.predict(x['text'].replace(\"\\n\", \"\"))\n",
        "\n",
        "        language = language[0].split(\"__\")[2]\n",
        "        return score > 0.4 and language == \"en\" # change code here if building a model in another language\n",
        "\n",
        "    ds = ds.filter(is_english, load_from_cache_file=False, num_proc=1)\n",
        "    return ds\n",
        "\n",
        "dataset = english_language_filter(dataset)"
      ],
      "metadata": {
        "colab": {
          "base_uri": "https://localhost:8080/",
          "height": 440,
          "referenced_widgets": [
            "c1182945973a4f15aac851ceec80c605",
            "b6f7dec88a604d668cdca3ff01d942ce",
            "44accabd04f24128bb6fc350fff08dc5",
            "0efad5a76f904af6a76a9872f95bc747",
            "c6270c81fbee4143883d2e93f27dc89d",
            "c24e0bbcc38643a6a2084b31ac42e07c",
            "5b0ea7db01e8491dbd5bf6cb2cef4543",
            "fc8d9c44822949a6a533cd310c5df0b4",
            "7244488d3a644755ae66b4ac70300af0",
            "c9ec597224194600b38bbd7e16b40b22",
            "2215c09e574e41299f37ee03e33da89d"
          ]
        },
        "id": "qHuO62PB0v_q",
        "outputId": "7d0feb64-fc58-4078-bdf0-d18b109b9c5c"
      },
      "execution_count": null,
      "outputs": [
        {
          "output_type": "display_data",
          "data": {
            "text/plain": [
              "Filter:   0%|          | 0/4360 [00:00<?, ? examples/s]"
            ],
            "application/vnd.jupyter.widget-view+json": {
              "version_major": 2,
              "version_minor": 0,
              "model_id": "c1182945973a4f15aac851ceec80c605"
            }
          },
          "metadata": {}
        },
        {
          "output_type": "error",
          "ename": "ValueError",
          "evalue": "Unable to avoid copy while creating an array as requested.\nIf using `np.array(obj, copy=False)` replace it with `np.asarray(obj)` to allow a copy when needed (no behavior change in NumPy 1.x).\nFor more details, see https://numpy.org/devdocs/numpy_2_0_migration_guide.html#adapting-to-changes-in-the-copy-keyword.",
          "traceback": [
            "\u001b[0;31m---------------------------------------------------------------------------\u001b[0m",
            "\u001b[0;31mValueError\u001b[0m                                Traceback (most recent call last)",
            "\u001b[0;32m<ipython-input-62-43738a8753f7>\u001b[0m in \u001b[0;36m<cell line: 0>\u001b[0;34m()\u001b[0m\n\u001b[1;32m     16\u001b[0m     \u001b[0;32mreturn\u001b[0m \u001b[0mds\u001b[0m\u001b[0;34m\u001b[0m\u001b[0;34m\u001b[0m\u001b[0m\n\u001b[1;32m     17\u001b[0m \u001b[0;34m\u001b[0m\u001b[0m\n\u001b[0;32m---> 18\u001b[0;31m \u001b[0mdataset\u001b[0m \u001b[0;34m=\u001b[0m \u001b[0menglish_language_filter\u001b[0m\u001b[0;34m(\u001b[0m\u001b[0mdataset\u001b[0m\u001b[0;34m)\u001b[0m\u001b[0;34m\u001b[0m\u001b[0;34m\u001b[0m\u001b[0m\n\u001b[0m",
            "\u001b[0;32m<ipython-input-62-43738a8753f7>\u001b[0m in \u001b[0;36menglish_language_filter\u001b[0;34m(ds)\u001b[0m\n\u001b[1;32m     13\u001b[0m         \u001b[0;32mreturn\u001b[0m \u001b[0mscore\u001b[0m \u001b[0;34m>\u001b[0m \u001b[0;36m0.4\u001b[0m \u001b[0;32mand\u001b[0m \u001b[0mlanguage\u001b[0m \u001b[0;34m==\u001b[0m \u001b[0;34m\"en\"\u001b[0m \u001b[0;31m# change code here if building a model in another language\u001b[0m\u001b[0;34m\u001b[0m\u001b[0;34m\u001b[0m\u001b[0m\n\u001b[1;32m     14\u001b[0m \u001b[0;34m\u001b[0m\u001b[0m\n\u001b[0;32m---> 15\u001b[0;31m     \u001b[0mds\u001b[0m \u001b[0;34m=\u001b[0m \u001b[0mds\u001b[0m\u001b[0;34m.\u001b[0m\u001b[0mfilter\u001b[0m\u001b[0;34m(\u001b[0m\u001b[0mis_english\u001b[0m\u001b[0;34m,\u001b[0m \u001b[0mload_from_cache_file\u001b[0m\u001b[0;34m=\u001b[0m\u001b[0;32mFalse\u001b[0m\u001b[0;34m,\u001b[0m \u001b[0mnum_proc\u001b[0m\u001b[0;34m=\u001b[0m\u001b[0;36m1\u001b[0m\u001b[0;34m)\u001b[0m\u001b[0;34m\u001b[0m\u001b[0;34m\u001b[0m\u001b[0m\n\u001b[0m\u001b[1;32m     16\u001b[0m     \u001b[0;32mreturn\u001b[0m \u001b[0mds\u001b[0m\u001b[0;34m\u001b[0m\u001b[0;34m\u001b[0m\u001b[0m\n\u001b[1;32m     17\u001b[0m \u001b[0;34m\u001b[0m\u001b[0m\n",
            "\u001b[0;32m/usr/local/lib/python3.11/dist-packages/datasets/arrow_dataset.py\u001b[0m in \u001b[0;36mwrapper\u001b[0;34m(*args, **kwargs)\u001b[0m\n\u001b[1;32m    555\u001b[0m         }\n\u001b[1;32m    556\u001b[0m         \u001b[0;31m# apply actual function\u001b[0m\u001b[0;34m\u001b[0m\u001b[0;34m\u001b[0m\u001b[0m\n\u001b[0;32m--> 557\u001b[0;31m         \u001b[0mout\u001b[0m\u001b[0;34m:\u001b[0m \u001b[0mUnion\u001b[0m\u001b[0;34m[\u001b[0m\u001b[0;34m\"Dataset\"\u001b[0m\u001b[0;34m,\u001b[0m \u001b[0;34m\"DatasetDict\"\u001b[0m\u001b[0;34m]\u001b[0m \u001b[0;34m=\u001b[0m \u001b[0mfunc\u001b[0m\u001b[0;34m(\u001b[0m\u001b[0mself\u001b[0m\u001b[0;34m,\u001b[0m \u001b[0;34m*\u001b[0m\u001b[0margs\u001b[0m\u001b[0;34m,\u001b[0m \u001b[0;34m**\u001b[0m\u001b[0mkwargs\u001b[0m\u001b[0;34m)\u001b[0m\u001b[0;34m\u001b[0m\u001b[0;34m\u001b[0m\u001b[0m\n\u001b[0m\u001b[1;32m    558\u001b[0m         \u001b[0mdatasets\u001b[0m\u001b[0;34m:\u001b[0m \u001b[0mlist\u001b[0m\u001b[0;34m[\u001b[0m\u001b[0;34m\"Dataset\"\u001b[0m\u001b[0;34m]\u001b[0m \u001b[0;34m=\u001b[0m \u001b[0mlist\u001b[0m\u001b[0;34m(\u001b[0m\u001b[0mout\u001b[0m\u001b[0;34m.\u001b[0m\u001b[0mvalues\u001b[0m\u001b[0;34m(\u001b[0m\u001b[0;34m)\u001b[0m\u001b[0;34m)\u001b[0m \u001b[0;32mif\u001b[0m \u001b[0misinstance\u001b[0m\u001b[0;34m(\u001b[0m\u001b[0mout\u001b[0m\u001b[0;34m,\u001b[0m \u001b[0mdict\u001b[0m\u001b[0;34m)\u001b[0m \u001b[0;32melse\u001b[0m \u001b[0;34m[\u001b[0m\u001b[0mout\u001b[0m\u001b[0;34m]\u001b[0m\u001b[0;34m\u001b[0m\u001b[0;34m\u001b[0m\u001b[0m\n\u001b[1;32m    559\u001b[0m         \u001b[0;31m# re-apply format to the output\u001b[0m\u001b[0;34m\u001b[0m\u001b[0;34m\u001b[0m\u001b[0m\n",
            "\u001b[0;32m/usr/local/lib/python3.11/dist-packages/datasets/fingerprint.py\u001b[0m in \u001b[0;36mwrapper\u001b[0;34m(*args, **kwargs)\u001b[0m\n\u001b[1;32m    440\u001b[0m             \u001b[0;31m# Call actual function\u001b[0m\u001b[0;34m\u001b[0m\u001b[0;34m\u001b[0m\u001b[0m\n\u001b[1;32m    441\u001b[0m \u001b[0;34m\u001b[0m\u001b[0m\n\u001b[0;32m--> 442\u001b[0;31m             \u001b[0mout\u001b[0m \u001b[0;34m=\u001b[0m \u001b[0mfunc\u001b[0m\u001b[0;34m(\u001b[0m\u001b[0mdataset\u001b[0m\u001b[0;34m,\u001b[0m \u001b[0;34m*\u001b[0m\u001b[0margs\u001b[0m\u001b[0;34m,\u001b[0m \u001b[0;34m**\u001b[0m\u001b[0mkwargs\u001b[0m\u001b[0;34m)\u001b[0m\u001b[0;34m\u001b[0m\u001b[0;34m\u001b[0m\u001b[0m\n\u001b[0m\u001b[1;32m    443\u001b[0m \u001b[0;34m\u001b[0m\u001b[0m\n\u001b[1;32m    444\u001b[0m             \u001b[0;31m# Update fingerprint of in-place transforms + update in-place history of transforms\u001b[0m\u001b[0;34m\u001b[0m\u001b[0;34m\u001b[0m\u001b[0m\n",
            "\u001b[0;32m/usr/local/lib/python3.11/dist-packages/datasets/arrow_dataset.py\u001b[0m in \u001b[0;36mfilter\u001b[0;34m(self, function, with_indices, with_rank, input_columns, batched, batch_size, keep_in_memory, load_from_cache_file, cache_file_name, writer_batch_size, fn_kwargs, num_proc, suffix_template, new_fingerprint, desc)\u001b[0m\n\u001b[1;32m   3735\u001b[0m             \u001b[0mbatch_size\u001b[0m \u001b[0;34m=\u001b[0m \u001b[0;36m1\u001b[0m\u001b[0;34m\u001b[0m\u001b[0;34m\u001b[0m\u001b[0m\n\u001b[1;32m   3736\u001b[0m \u001b[0;34m\u001b[0m\u001b[0m\n\u001b[0;32m-> 3737\u001b[0;31m         indices = self.map(\n\u001b[0m\u001b[1;32m   3738\u001b[0m             function=partial(\n\u001b[1;32m   3739\u001b[0m                 \u001b[0masync_get_indices_from_mask_function\u001b[0m\u001b[0;34m\u001b[0m\u001b[0;34m\u001b[0m\u001b[0m\n",
            "\u001b[0;32m/usr/local/lib/python3.11/dist-packages/datasets/arrow_dataset.py\u001b[0m in \u001b[0;36mwrapper\u001b[0;34m(*args, **kwargs)\u001b[0m\n\u001b[1;32m    555\u001b[0m         }\n\u001b[1;32m    556\u001b[0m         \u001b[0;31m# apply actual function\u001b[0m\u001b[0;34m\u001b[0m\u001b[0;34m\u001b[0m\u001b[0m\n\u001b[0;32m--> 557\u001b[0;31m         \u001b[0mout\u001b[0m\u001b[0;34m:\u001b[0m \u001b[0mUnion\u001b[0m\u001b[0;34m[\u001b[0m\u001b[0;34m\"Dataset\"\u001b[0m\u001b[0;34m,\u001b[0m \u001b[0;34m\"DatasetDict\"\u001b[0m\u001b[0;34m]\u001b[0m \u001b[0;34m=\u001b[0m \u001b[0mfunc\u001b[0m\u001b[0;34m(\u001b[0m\u001b[0mself\u001b[0m\u001b[0;34m,\u001b[0m \u001b[0;34m*\u001b[0m\u001b[0margs\u001b[0m\u001b[0;34m,\u001b[0m \u001b[0;34m**\u001b[0m\u001b[0mkwargs\u001b[0m\u001b[0;34m)\u001b[0m\u001b[0;34m\u001b[0m\u001b[0;34m\u001b[0m\u001b[0m\n\u001b[0m\u001b[1;32m    558\u001b[0m         \u001b[0mdatasets\u001b[0m\u001b[0;34m:\u001b[0m \u001b[0mlist\u001b[0m\u001b[0;34m[\u001b[0m\u001b[0;34m\"Dataset\"\u001b[0m\u001b[0;34m]\u001b[0m \u001b[0;34m=\u001b[0m \u001b[0mlist\u001b[0m\u001b[0;34m(\u001b[0m\u001b[0mout\u001b[0m\u001b[0;34m.\u001b[0m\u001b[0mvalues\u001b[0m\u001b[0;34m(\u001b[0m\u001b[0;34m)\u001b[0m\u001b[0;34m)\u001b[0m \u001b[0;32mif\u001b[0m \u001b[0misinstance\u001b[0m\u001b[0;34m(\u001b[0m\u001b[0mout\u001b[0m\u001b[0;34m,\u001b[0m \u001b[0mdict\u001b[0m\u001b[0;34m)\u001b[0m \u001b[0;32melse\u001b[0m \u001b[0;34m[\u001b[0m\u001b[0mout\u001b[0m\u001b[0;34m]\u001b[0m\u001b[0;34m\u001b[0m\u001b[0;34m\u001b[0m\u001b[0m\n\u001b[1;32m    559\u001b[0m         \u001b[0;31m# re-apply format to the output\u001b[0m\u001b[0;34m\u001b[0m\u001b[0;34m\u001b[0m\u001b[0m\n",
            "\u001b[0;32m/usr/local/lib/python3.11/dist-packages/datasets/arrow_dataset.py\u001b[0m in \u001b[0;36mmap\u001b[0;34m(self, function, with_indices, with_rank, input_columns, batched, batch_size, drop_last_batch, remove_columns, keep_in_memory, load_from_cache_file, cache_file_name, writer_batch_size, features, disable_nullable, fn_kwargs, num_proc, suffix_template, new_fingerprint, desc)\u001b[0m\n\u001b[1;32m   3072\u001b[0m                     \u001b[0mdesc\u001b[0m\u001b[0;34m=\u001b[0m\u001b[0mdesc\u001b[0m \u001b[0;32mor\u001b[0m \u001b[0;34m\"Map\"\u001b[0m\u001b[0;34m,\u001b[0m\u001b[0;34m\u001b[0m\u001b[0;34m\u001b[0m\u001b[0m\n\u001b[1;32m   3073\u001b[0m                 ) as pbar:\n\u001b[0;32m-> 3074\u001b[0;31m                     \u001b[0;32mfor\u001b[0m \u001b[0mrank\u001b[0m\u001b[0;34m,\u001b[0m \u001b[0mdone\u001b[0m\u001b[0;34m,\u001b[0m \u001b[0mcontent\u001b[0m \u001b[0;32min\u001b[0m \u001b[0mDataset\u001b[0m\u001b[0;34m.\u001b[0m\u001b[0m_map_single\u001b[0m\u001b[0;34m(\u001b[0m\u001b[0;34m**\u001b[0m\u001b[0mdataset_kwargs\u001b[0m\u001b[0;34m)\u001b[0m\u001b[0;34m:\u001b[0m\u001b[0;34m\u001b[0m\u001b[0;34m\u001b[0m\u001b[0m\n\u001b[0m\u001b[1;32m   3075\u001b[0m                         \u001b[0;32mif\u001b[0m \u001b[0mdone\u001b[0m\u001b[0;34m:\u001b[0m\u001b[0;34m\u001b[0m\u001b[0;34m\u001b[0m\u001b[0m\n\u001b[1;32m   3076\u001b[0m                             \u001b[0mshards_done\u001b[0m \u001b[0;34m+=\u001b[0m \u001b[0;36m1\u001b[0m\u001b[0;34m\u001b[0m\u001b[0;34m\u001b[0m\u001b[0m\n",
            "\u001b[0;32m/usr/local/lib/python3.11/dist-packages/datasets/arrow_dataset.py\u001b[0m in \u001b[0;36m_map_single\u001b[0;34m(shard, function, with_indices, with_rank, input_columns, batched, batch_size, drop_last_batch, remove_columns, keep_in_memory, cache_file_name, writer_batch_size, features, disable_nullable, fn_kwargs, new_fingerprint, rank, offset)\u001b[0m\n\u001b[1;32m   3514\u001b[0m                 \u001b[0;32melse\u001b[0m\u001b[0;34m:\u001b[0m\u001b[0;34m\u001b[0m\u001b[0;34m\u001b[0m\u001b[0m\n\u001b[1;32m   3515\u001b[0m                     \u001b[0m_time\u001b[0m \u001b[0;34m=\u001b[0m \u001b[0mtime\u001b[0m\u001b[0;34m.\u001b[0m\u001b[0mtime\u001b[0m\u001b[0;34m(\u001b[0m\u001b[0;34m)\u001b[0m\u001b[0;34m\u001b[0m\u001b[0;34m\u001b[0m\u001b[0m\n\u001b[0;32m-> 3516\u001b[0;31m                     \u001b[0;32mfor\u001b[0m \u001b[0mi\u001b[0m\u001b[0;34m,\u001b[0m \u001b[0mbatch\u001b[0m \u001b[0;32min\u001b[0m \u001b[0miter_outputs\u001b[0m\u001b[0;34m(\u001b[0m\u001b[0mshard_iterable\u001b[0m\u001b[0;34m)\u001b[0m\u001b[0;34m:\u001b[0m\u001b[0;34m\u001b[0m\u001b[0;34m\u001b[0m\u001b[0m\n\u001b[0m\u001b[1;32m   3517\u001b[0m                         \u001b[0mnum_examples_in_batch\u001b[0m \u001b[0;34m=\u001b[0m \u001b[0mlen\u001b[0m\u001b[0;34m(\u001b[0m\u001b[0mi\u001b[0m\u001b[0;34m)\u001b[0m\u001b[0;34m\u001b[0m\u001b[0;34m\u001b[0m\u001b[0m\n\u001b[1;32m   3518\u001b[0m                         \u001b[0;32mif\u001b[0m \u001b[0mupdate_data\u001b[0m\u001b[0;34m:\u001b[0m\u001b[0;34m\u001b[0m\u001b[0;34m\u001b[0m\u001b[0m\n",
            "\u001b[0;32m/usr/local/lib/python3.11/dist-packages/datasets/arrow_dataset.py\u001b[0m in \u001b[0;36miter_outputs\u001b[0;34m(shard_iterable)\u001b[0m\n\u001b[1;32m   3464\u001b[0m             \u001b[0;32melse\u001b[0m\u001b[0;34m:\u001b[0m\u001b[0;34m\u001b[0m\u001b[0;34m\u001b[0m\u001b[0m\n\u001b[1;32m   3465\u001b[0m                 \u001b[0;32mfor\u001b[0m \u001b[0mi\u001b[0m\u001b[0;34m,\u001b[0m \u001b[0mexample\u001b[0m \u001b[0;32min\u001b[0m \u001b[0mshard_iterable\u001b[0m\u001b[0;34m:\u001b[0m\u001b[0;34m\u001b[0m\u001b[0;34m\u001b[0m\u001b[0m\n\u001b[0;32m-> 3466\u001b[0;31m                     \u001b[0;32myield\u001b[0m \u001b[0mi\u001b[0m\u001b[0;34m,\u001b[0m \u001b[0mapply_function\u001b[0m\u001b[0;34m(\u001b[0m\u001b[0mexample\u001b[0m\u001b[0;34m,\u001b[0m \u001b[0mi\u001b[0m\u001b[0;34m,\u001b[0m \u001b[0moffset\u001b[0m\u001b[0;34m=\u001b[0m\u001b[0moffset\u001b[0m\u001b[0;34m)\u001b[0m\u001b[0;34m\u001b[0m\u001b[0;34m\u001b[0m\u001b[0m\n\u001b[0m\u001b[1;32m   3467\u001b[0m \u001b[0;34m\u001b[0m\u001b[0m\n\u001b[1;32m   3468\u001b[0m         \u001b[0mnum_examples_progress_update\u001b[0m \u001b[0;34m=\u001b[0m \u001b[0;36m0\u001b[0m\u001b[0;34m\u001b[0m\u001b[0;34m\u001b[0m\u001b[0m\n",
            "\u001b[0;32m/usr/local/lib/python3.11/dist-packages/datasets/arrow_dataset.py\u001b[0m in \u001b[0;36mapply_function\u001b[0;34m(pa_inputs, indices, offset)\u001b[0m\n\u001b[1;32m   3387\u001b[0m             \u001b[0;34m\"\"\"Utility to apply the function on a selection of columns.\"\"\"\u001b[0m\u001b[0;34m\u001b[0m\u001b[0;34m\u001b[0m\u001b[0m\n\u001b[1;32m   3388\u001b[0m             \u001b[0minputs\u001b[0m\u001b[0;34m,\u001b[0m \u001b[0mfn_args\u001b[0m\u001b[0;34m,\u001b[0m \u001b[0madditional_args\u001b[0m\u001b[0;34m,\u001b[0m \u001b[0mfn_kwargs\u001b[0m \u001b[0;34m=\u001b[0m \u001b[0mprepare_inputs\u001b[0m\u001b[0;34m(\u001b[0m\u001b[0mpa_inputs\u001b[0m\u001b[0;34m,\u001b[0m \u001b[0mindices\u001b[0m\u001b[0;34m,\u001b[0m \u001b[0moffset\u001b[0m\u001b[0;34m=\u001b[0m\u001b[0moffset\u001b[0m\u001b[0;34m)\u001b[0m\u001b[0;34m\u001b[0m\u001b[0;34m\u001b[0m\u001b[0m\n\u001b[0;32m-> 3389\u001b[0;31m             \u001b[0mprocessed_inputs\u001b[0m \u001b[0;34m=\u001b[0m \u001b[0mfunction\u001b[0m\u001b[0;34m(\u001b[0m\u001b[0;34m*\u001b[0m\u001b[0mfn_args\u001b[0m\u001b[0;34m,\u001b[0m \u001b[0;34m*\u001b[0m\u001b[0madditional_args\u001b[0m\u001b[0;34m,\u001b[0m \u001b[0;34m**\u001b[0m\u001b[0mfn_kwargs\u001b[0m\u001b[0;34m)\u001b[0m\u001b[0;34m\u001b[0m\u001b[0;34m\u001b[0m\u001b[0m\n\u001b[0m\u001b[1;32m   3390\u001b[0m             \u001b[0;32mreturn\u001b[0m \u001b[0mprepare_outputs\u001b[0m\u001b[0;34m(\u001b[0m\u001b[0mpa_inputs\u001b[0m\u001b[0;34m,\u001b[0m \u001b[0minputs\u001b[0m\u001b[0;34m,\u001b[0m \u001b[0mprocessed_inputs\u001b[0m\u001b[0;34m)\u001b[0m\u001b[0;34m\u001b[0m\u001b[0;34m\u001b[0m\u001b[0m\n\u001b[1;32m   3391\u001b[0m \u001b[0;34m\u001b[0m\u001b[0m\n",
            "\u001b[0;32m/usr/local/lib/python3.11/dist-packages/datasets/arrow_dataset.py\u001b[0m in \u001b[0;36mget_indices_from_mask_function\u001b[0;34m(function, batched, with_indices, with_rank, input_columns, indices_mapping, *args, **fn_kwargs)\u001b[0m\n\u001b[1;32m   6417\u001b[0m                 \u001b[0;32mif\u001b[0m \u001b[0mwith_rank\u001b[0m\u001b[0;34m:\u001b[0m\u001b[0;34m\u001b[0m\u001b[0;34m\u001b[0m\u001b[0m\n\u001b[1;32m   6418\u001b[0m                     \u001b[0madditional_args\u001b[0m \u001b[0;34m+=\u001b[0m \u001b[0;34m(\u001b[0m\u001b[0mrank\u001b[0m\u001b[0;34m,\u001b[0m\u001b[0;34m)\u001b[0m\u001b[0;34m\u001b[0m\u001b[0;34m\u001b[0m\u001b[0m\n\u001b[0;32m-> 6419\u001b[0;31m                 \u001b[0mmask\u001b[0m\u001b[0;34m.\u001b[0m\u001b[0mappend\u001b[0m\u001b[0;34m(\u001b[0m\u001b[0mfunction\u001b[0m\u001b[0;34m(\u001b[0m\u001b[0mexample\u001b[0m\u001b[0;34m,\u001b[0m \u001b[0;34m*\u001b[0m\u001b[0madditional_args\u001b[0m\u001b[0;34m,\u001b[0m \u001b[0;34m**\u001b[0m\u001b[0mfn_kwargs\u001b[0m\u001b[0;34m)\u001b[0m\u001b[0;34m)\u001b[0m\u001b[0;34m\u001b[0m\u001b[0;34m\u001b[0m\u001b[0m\n\u001b[0m\u001b[1;32m   6420\u001b[0m         \u001b[0;32melse\u001b[0m\u001b[0;34m:\u001b[0m\u001b[0;34m\u001b[0m\u001b[0;34m\u001b[0m\u001b[0m\n\u001b[1;32m   6421\u001b[0m             \u001b[0;31m# inputs is a list of columns\u001b[0m\u001b[0;34m\u001b[0m\u001b[0;34m\u001b[0m\u001b[0m\n",
            "\u001b[0;32m<ipython-input-62-43738a8753f7>\u001b[0m in \u001b[0;36mis_english\u001b[0;34m(x)\u001b[0m\n\u001b[1;32m      8\u001b[0m     \u001b[0;32mdef\u001b[0m \u001b[0mis_english\u001b[0m\u001b[0;34m(\u001b[0m\u001b[0mx\u001b[0m\u001b[0;34m)\u001b[0m\u001b[0;34m:\u001b[0m\u001b[0;34m\u001b[0m\u001b[0;34m\u001b[0m\u001b[0m\n\u001b[1;32m      9\u001b[0m         \u001b[0;31m# Predict language of the text and probability\u001b[0m\u001b[0;34m\u001b[0m\u001b[0;34m\u001b[0m\u001b[0m\n\u001b[0;32m---> 10\u001b[0;31m         \u001b[0mlanguage\u001b[0m\u001b[0;34m,\u001b[0m \u001b[0mscore\u001b[0m \u001b[0;34m=\u001b[0m \u001b[0mmodel\u001b[0m\u001b[0;34m.\u001b[0m\u001b[0mpredict\u001b[0m\u001b[0;34m(\u001b[0m\u001b[0mx\u001b[0m\u001b[0;34m[\u001b[0m\u001b[0;34m'text'\u001b[0m\u001b[0;34m]\u001b[0m\u001b[0;34m.\u001b[0m\u001b[0mreplace\u001b[0m\u001b[0;34m(\u001b[0m\u001b[0;34m\"\\n\"\u001b[0m\u001b[0;34m,\u001b[0m \u001b[0;34m\"\"\u001b[0m\u001b[0;34m)\u001b[0m\u001b[0;34m)\u001b[0m\u001b[0;34m\u001b[0m\u001b[0;34m\u001b[0m\u001b[0m\n\u001b[0m\u001b[1;32m     11\u001b[0m \u001b[0;34m\u001b[0m\u001b[0m\n\u001b[1;32m     12\u001b[0m         \u001b[0mlanguage\u001b[0m \u001b[0;34m=\u001b[0m \u001b[0mlanguage\u001b[0m\u001b[0;34m[\u001b[0m\u001b[0;36m0\u001b[0m\u001b[0;34m]\u001b[0m\u001b[0;34m.\u001b[0m\u001b[0msplit\u001b[0m\u001b[0;34m(\u001b[0m\u001b[0;34m\"__\"\u001b[0m\u001b[0;34m)\u001b[0m\u001b[0;34m[\u001b[0m\u001b[0;36m2\u001b[0m\u001b[0;34m]\u001b[0m\u001b[0;34m\u001b[0m\u001b[0;34m\u001b[0m\u001b[0m\n",
            "\u001b[0;32m/usr/local/lib/python3.11/dist-packages/fasttext/FastText.py\u001b[0m in \u001b[0;36mpredict\u001b[0;34m(self, text, k, threshold, on_unicode_error)\u001b[0m\n\u001b[1;32m    237\u001b[0m                 \u001b[0mprobs\u001b[0m\u001b[0;34m,\u001b[0m \u001b[0mlabels\u001b[0m \u001b[0;34m=\u001b[0m \u001b[0;34m(\u001b[0m\u001b[0;34m[\u001b[0m\u001b[0;34m]\u001b[0m\u001b[0;34m,\u001b[0m \u001b[0;34m(\u001b[0m\u001b[0;34m)\u001b[0m\u001b[0;34m)\u001b[0m\u001b[0;34m\u001b[0m\u001b[0;34m\u001b[0m\u001b[0m\n\u001b[1;32m    238\u001b[0m \u001b[0;34m\u001b[0m\u001b[0m\n\u001b[0;32m--> 239\u001b[0;31m             \u001b[0;32mreturn\u001b[0m \u001b[0mlabels\u001b[0m\u001b[0;34m,\u001b[0m \u001b[0mnp\u001b[0m\u001b[0;34m.\u001b[0m\u001b[0marray\u001b[0m\u001b[0;34m(\u001b[0m\u001b[0mprobs\u001b[0m\u001b[0;34m,\u001b[0m \u001b[0mcopy\u001b[0m\u001b[0;34m=\u001b[0m\u001b[0;32mFalse\u001b[0m\u001b[0;34m)\u001b[0m\u001b[0;34m\u001b[0m\u001b[0;34m\u001b[0m\u001b[0m\n\u001b[0m\u001b[1;32m    240\u001b[0m \u001b[0;34m\u001b[0m\u001b[0m\n\u001b[1;32m    241\u001b[0m     \u001b[0;32mdef\u001b[0m \u001b[0mget_input_matrix\u001b[0m\u001b[0;34m(\u001b[0m\u001b[0mself\u001b[0m\u001b[0;34m)\u001b[0m\u001b[0;34m:\u001b[0m\u001b[0;34m\u001b[0m\u001b[0;34m\u001b[0m\u001b[0m\n",
            "\u001b[0;31mValueError\u001b[0m: Unable to avoid copy while creating an array as requested.\nIf using `np.array(obj, copy=False)` replace it with `np.asarray(obj)` to allow a copy when needed (no behavior change in NumPy 1.x).\nFor more details, see https://numpy.org/devdocs/numpy_2_0_migration_guide.html#adapting-to-changes-in-the-copy-keyword."
          ]
        }
      ]
    },
    {
      "cell_type": "code",
      "source": [
        "dataset.num_rows"
      ],
      "metadata": {
        "colab": {
          "base_uri": "https://localhost:8080/"
        },
        "id": "ezci_XDO0z8M",
        "outputId": "13354739-892f-4333-9508-48f2abd23822"
      },
      "execution_count": null,
      "outputs": [
        {
          "output_type": "execute_result",
          "data": {
            "text/plain": [
              "4360"
            ]
          },
          "metadata": {},
          "execution_count": 55
        }
      ]
    },
    {
      "cell_type": "markdown",
      "source": [
        "**Save the dataset to disk**"
      ],
      "metadata": {
        "id": "6cyH0fyz04-b"
      }
    },
    {
      "cell_type": "code",
      "source": [
        "file_path = \"./data/preprocessed_dataset.parquet\"\n",
        "dataset.to_parquet(file_path)"
      ],
      "metadata": {
        "id": "_eAU4asN0-AA"
      },
      "execution_count": null,
      "outputs": []
    },
    {
      "cell_type": "markdown",
      "source": [
        "# **Data Packaging**"
      ],
      "metadata": {
        "id": "v6hs8Hh45j27"
      }
    },
    {
      "cell_type": "markdown",
      "source": [
        "**Tokenizing and creating input_ids**"
      ],
      "metadata": {
        "id": "CwdJn_Z355Gd"
      }
    },
    {
      "cell_type": "markdown",
      "source": [
        "we load the dataset from the previous lesson"
      ],
      "metadata": {
        "id": "W0w0a9pM5-sh"
      }
    },
    {
      "cell_type": "code",
      "source": [
        "import datasets\n",
        "\n",
        "dataset = datasets.load_dataset(\n",
        "    \"parquet\",\n",
        "    data_files=\"./data/preprocessed_dataset.parquet\",\n",
        "    split=\"train\"\n",
        ")\n",
        "print(dataset)"
      ],
      "metadata": {
        "id": "RBEH1rlF6DIX"
      },
      "execution_count": null,
      "outputs": []
    },
    {
      "cell_type": "markdown",
      "source": [
        "Use the shard method of the Hugging Face Dataset object to split the dataset into 10 smaller pieces, or shards (think shards of broken glass)."
      ],
      "metadata": {
        "id": "WpX3R3NQ7y0V"
      }
    },
    {
      "cell_type": "code",
      "source": [
        "dataset = dataset.shard(num_shards=10, index=0)\n",
        "print(dataset)"
      ],
      "metadata": {
        "colab": {
          "base_uri": "https://localhost:8080/"
        },
        "id": "Gsjot9GS7zp2",
        "outputId": "137699bc-f1ef-4b33-ae6e-5a56e77a67f4"
      },
      "execution_count": null,
      "outputs": [
        {
          "output_type": "stream",
          "name": "stdout",
          "text": [
            "Dataset({\n",
            "    features: ['text'],\n",
            "    num_rows: 4360\n",
            "})\n"
          ]
        }
      ]
    },
    {
      "cell_type": "markdown",
      "source": [
        "Load the tokenizer and try it out:"
      ],
      "metadata": {
        "id": "DiF-uP6u9B1W"
      }
    },
    {
      "cell_type": "code",
      "source": [
        "from transformers import AutoTokenizer\n",
        "model_path_or_name = \"./models/SOLAR-10.7B-v1.0\"\n",
        "tokenizer = AutoTokenizer.from_pretrained(\n",
        "    model_path_or_name,\n",
        "    use_fast=False\n",
        ")"
      ],
      "metadata": {
        "id": "qm2oiYB49C0O"
      },
      "execution_count": null,
      "outputs": []
    },
    {
      "cell_type": "code",
      "source": [
        "tokenizer.tokenize(\"I'm a short sentence\")"
      ],
      "metadata": {
        "id": "_DAlEnhi9F9b"
      },
      "execution_count": null,
      "outputs": []
    },
    {
      "cell_type": "markdown",
      "source": [
        "Create a helper function:"
      ],
      "metadata": {
        "id": "yS3S2MpB9GuX"
      }
    },
    {
      "cell_type": "code",
      "source": [
        "def tokenization(example):\n",
        "    # Tokenize\n",
        "    tokens = tokenizer.tokenize(example[\"text\"])\n",
        "\n",
        "    # Convert tokens to ids\n",
        "    token_ids = tokenizer.convert_tokens_to_ids(tokens)\n",
        "\n",
        "    # Add <bos>, <eos> tokens to the front and back of tokens_ids\n",
        "    # bos: begin of sequence, eos: end of sequence\n",
        "    token_ids = [\n",
        "        tokenizer.bos_token_id] \\\n",
        "        + token_ids \\\n",
        "        + [tokenizer.eos_token_id\n",
        "    ]\n",
        "    example[\"input_ids\"] = token_ids\n",
        "\n",
        "    # We will be using this column to count the total number of tokens\n",
        "    # in the final dataset\n",
        "    example[\"num_tokens\"] = len(token_ids)\n",
        "    return example"
      ],
      "metadata": {
        "id": "gclEIzbH9JLP"
      },
      "execution_count": null,
      "outputs": []
    },
    {
      "cell_type": "markdown",
      "source": [
        "Tokenize all the examples in the pretraining dataset:"
      ],
      "metadata": {
        "id": "QwvWnZoH9UYP"
      }
    },
    {
      "cell_type": "code",
      "source": [
        "dataset = dataset.map(tokenization, load_from_cache_file=False)\n",
        "print(dataset)"
      ],
      "metadata": {
        "id": "bzbM876x9U98"
      },
      "execution_count": null,
      "outputs": []
    },
    {
      "cell_type": "code",
      "source": [
        "sample = dataset[3]\n",
        "\n",
        "print(\"text\", sample[\"text\"][:30]) #\n",
        "print(\"\\ninput_ids\", sample[\"input_ids\"][:30])\n",
        "print(\"\\nnum_tokens\", sample[\"num_tokens\"])"
      ],
      "metadata": {
        "id": "3r6sTV6j9Wkl"
      },
      "execution_count": null,
      "outputs": []
    },
    {
      "cell_type": "markdown",
      "source": [
        "Check the total number of tokens in the dataset:"
      ],
      "metadata": {
        "id": "2tHXdWtO9Zfi"
      }
    },
    {
      "cell_type": "code",
      "source": [
        "import numpy as np\n",
        "np.sum(dataset[\"num_tokens\"])"
      ],
      "metadata": {
        "id": "YByv09eq9Z-7"
      },
      "execution_count": null,
      "outputs": []
    },
    {
      "cell_type": "markdown",
      "source": [
        "**Packing the data**"
      ],
      "metadata": {
        "id": "ioHuPp3h9d7K"
      }
    },
    {
      "cell_type": "markdown",
      "source": [
        "![image.png](data:image/png;base64,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)"
      ],
      "metadata": {
        "id": "ukGcl_Yd9nb2"
      }
    },
    {
      "cell_type": "markdown",
      "source": [
        "Concatenate input_ids for all examples into a single list:"
      ],
      "metadata": {
        "id": "aWtAz--O9u7V"
      }
    },
    {
      "cell_type": "code",
      "source": [
        "input_ids = np.concatenate(dataset[\"input_ids\"])\n",
        "print(len(input_ids))"
      ],
      "metadata": {
        "id": "d15Jm2S49vws"
      },
      "execution_count": null,
      "outputs": []
    },
    {
      "cell_type": "code",
      "source": [
        "max_seq_length = 32"
      ],
      "metadata": {
        "id": "_ENTKssf9xEy"
      },
      "execution_count": null,
      "outputs": []
    },
    {
      "cell_type": "code",
      "source": [
        "total_length = len(input_ids) - len(input_ids) % max_seq_length\n",
        "print(total_length)"
      ],
      "metadata": {
        "id": "BRU3-cqZ9yWi"
      },
      "execution_count": null,
      "outputs": []
    },
    {
      "cell_type": "markdown",
      "source": [
        "Discard extra tokens from end of the list so number of tokens is exactly divisible by max_seq_length:"
      ],
      "metadata": {
        "id": "FYwtmFOi97Xo"
      }
    },
    {
      "cell_type": "code",
      "source": [
        "input_ids = input_ids[:total_length]\n",
        "print(input_ids.shape)"
      ],
      "metadata": {
        "id": "5IB3mNZP98FO"
      },
      "execution_count": null,
      "outputs": []
    },
    {
      "cell_type": "code",
      "source": [
        "input_ids_reshaped = input_ids.reshape(-1, max_seq_length).astype(np.int32)\n",
        "input_ids_reshaped.shape"
      ],
      "metadata": {
        "id": "b-rO7mvcCA-5"
      },
      "execution_count": null,
      "outputs": []
    },
    {
      "cell_type": "code",
      "source": [
        "type(input_ids_reshaped)"
      ],
      "metadata": {
        "id": "KB976csdCFx0"
      },
      "execution_count": null,
      "outputs": []
    },
    {
      "cell_type": "markdown",
      "source": [
        "Convert to Hugging Face dataset:"
      ],
      "metadata": {
        "id": "GD9cirG7CJoX"
      }
    },
    {
      "cell_type": "code",
      "source": [
        "input_ids_list = input_ids_reshaped.tolist()\n",
        "packaged_pretrain_dataset = datasets.Dataset.from_dict(\n",
        "    {\"input_ids\": input_ids_list}\n",
        ")\n",
        "print(packaged_pretrain_dataset)"
      ],
      "metadata": {
        "id": "xT9krb-JCKH2"
      },
      "execution_count": null,
      "outputs": []
    },
    {
      "cell_type": "markdown",
      "source": [
        "Save the packed dataset to disk"
      ],
      "metadata": {
        "id": "UkeVOnWICNTg"
      }
    },
    {
      "cell_type": "code",
      "source": [
        "packaged_pretrain_dataset.to_parquet(\"./data/packaged_pretrain_dataset.parquet\")"
      ],
      "metadata": {
        "id": "_dqc2gRmCODW"
      },
      "execution_count": null,
      "outputs": []
    },
    {
      "cell_type": "markdown",
      "source": [
        "# **Preparing the model for training**"
      ],
      "metadata": {
        "id": "9PQGpOZXDC6a"
      }
    },
    {
      "cell_type": "code",
      "source": [
        "# Ignore insignificant warnings (ex: deprecation warnings)\n",
        "import warnings\n",
        "warnings.filterwarnings('ignore')\n",
        "\n",
        "# Set a seed value for reproducibility\n",
        "import torch\n",
        "\n",
        "def fix_torch_seed(seed=42):\n",
        "    torch.manual_seed(seed)\n",
        "    torch.cuda.manual_seed(seed)\n",
        "    torch.backends.cudnn.deterministic = True\n",
        "    torch.backends.cudnn.benchmark = False\n",
        "\n",
        "fix_torch_seed()"
      ],
      "metadata": {
        "id": "8cpCCIMHDKVI"
      },
      "execution_count": null,
      "outputs": []
    },
    {
      "cell_type": "markdown",
      "source": [
        "**Model configuration**"
      ],
      "metadata": {
        "id": "epIMoIz3DHfG"
      }
    },
    {
      "cell_type": "markdown",
      "source": [
        "You'll configure models based on Meta's Llama family of models. The transformers library has several tools for working with these models, which you can read about here.\n",
        "\n",
        "Start by creating a LlamaConfig object to configure the architecture of the model:"
      ],
      "metadata": {
        "id": "rspzp9zfFNZl"
      }
    },
    {
      "cell_type": "code",
      "source": [
        "from transformers import LlamaConfig\n",
        "config = LlamaConfig()\n",
        "print(config)"
      ],
      "metadata": {
        "id": "YZ1Rrx09DPUe"
      },
      "execution_count": null,
      "outputs": []
    },
    {
      "cell_type": "markdown",
      "source": [
        "Next, update parameters to change the model architecture:"
      ],
      "metadata": {
        "id": "STsq1vluDUSI"
      }
    },
    {
      "cell_type": "code",
      "source": [
        "config.num_hidden_layers = 12      # reduced from 32 to 12\n",
        "config.hidden_size = 1024          # reduced 1/4 from 4096 to 1024\n",
        "config.intermediate_size = 4096    # reduced 1/3 from 11008 to 4096 (dimension of MLP representations)\n",
        "config.num_key_value_heads = 8     # reduced 1/4 from 32 to 8 (defaults to num_attention_heads=32)\n",
        "config.torch_dtype = \"bfloat16\"    # for half-precision training\n",
        "config.use_cache = False           # `True` is incompatible w/ gradient checkpointing\n",
        "print(config)"
      ],
      "metadata": {
        "id": "INmqzJJ7DU18"
      },
      "execution_count": null,
      "outputs": []
    },
    {
      "cell_type": "markdown",
      "source": [
        "**Weight initialization**"
      ],
      "metadata": {
        "id": "Dqp5tNFDDX8P"
      }
    },
    {
      "cell_type": "markdown",
      "source": [
        "you'll explore four different ways to initialize the weights of a model for training:\n",
        "\n",
        "Random weight initialization\n",
        "\n",
        "Using an existing model for continued pre-training\n",
        "\n",
        "Downscaling an existing model\n",
        "\n",
        "Upscaling an existing model"
      ],
      "metadata": {
        "id": "8Pl1oqGfDdSm"
      }
    },
    {
      "cell_type": "markdown",
      "source": [
        "**Random weight initialization**"
      ],
      "metadata": {
        "id": "cnAneC73DggK"
      }
    },
    {
      "cell_type": "markdown",
      "source": [
        "Randomly initializing model weights sets all weights to values from a truncated normal distribution with mean 0 and standard deviation of 0.02. Values beyond 2-sigma from the mean are set to 0."
      ],
      "metadata": {
        "id": "AJQ24PpNDic5"
      }
    },
    {
      "cell_type": "code",
      "source": [
        "from transformers import LlamaForCausalLM\n",
        "model = LlamaForCausalLM(config)\n",
        "print(model)"
      ],
      "metadata": {
        "id": "mhBTrv26DYyY"
      },
      "execution_count": null,
      "outputs": []
    },
    {
      "cell_type": "code",
      "source": [
        "def print_nparams(model):\n",
        "    \"\"\"Calculate the total number of model parameters\"\"\"\n",
        "    nparams = sum(p.numel() for p in model.parameters())\n",
        "    print(f\"The total number of parameters is: {nparams}\")\n",
        "\n",
        "print_nparams(model)  # 248013824 => 248M"
      ],
      "metadata": {
        "id": "cJ-au5EkDlgv"
      },
      "execution_count": null,
      "outputs": []
    },
    {
      "cell_type": "markdown",
      "source": [
        "Take a look at a sample of the weights in a single layer:"
      ],
      "metadata": {
        "id": "36TiAyx5DnZe"
      }
    },
    {
      "cell_type": "code",
      "source": [
        "layer_name = \"model.layers.0.self_attn.q_proj.weight\"\n",
        "\n",
        "for name, param in model.named_parameters():\n",
        "    if name == layer_name:\n",
        "        print(f\"First 30 weights of layer '{layer_name}':\")\n",
        "        print(param.data.view(-1)[:30])\n",
        "        break"
      ],
      "metadata": {
        "id": "ea0sXpZIDn_U"
      },
      "execution_count": null,
      "outputs": []
    },
    {
      "cell_type": "markdown",
      "source": [
        "Try using the model for inference:"
      ],
      "metadata": {
        "id": "n0oUBvViDqjQ"
      }
    },
    {
      "cell_type": "code",
      "source": [
        "# Load a tokenizer from Upstage Solar,\n",
        "# which is compatible with the Llama-2 tokenizer\n",
        "from transformers import LlamaTokenizer\n",
        "model_dir = \"./models/SOLAR-10.7B-v1.0\"\n",
        "tokenizer = LlamaTokenizer.from_pretrained(model_dir)\n",
        "\n",
        "# Run simple inference with prompt\n",
        "from transformers import TextStreamer\n",
        "\n",
        "prompt = \"I am an engineer. I love\"\n",
        "\n",
        "inputs = tokenizer(prompt, return_tensors=\"pt\").to(model.device)\n",
        "\n",
        "streamer = TextStreamer(\n",
        "    tokenizer,\n",
        "    skip_prompt=True,\n",
        "    skip_special_tokens=True\n",
        ")\n",
        "\n",
        "outputs = model.generate(\n",
        "    **inputs,\n",
        "    streamer=streamer,\n",
        "    use_cache=True,\n",
        "    max_new_tokens=128,\n",
        "    do_sample=False\n",
        ")"
      ],
      "metadata": {
        "id": "JkLWGPalDrdD"
      },
      "execution_count": null,
      "outputs": []
    },
    {
      "cell_type": "markdown",
      "source": [
        "Remove the model from memory to avoid crashing the kernel"
      ],
      "metadata": {
        "id": "75PBRoYsDt5u"
      }
    },
    {
      "cell_type": "code",
      "source": [
        "# NOTE: We're running large models in a limited environment. Run me if you encounter any memory issues.\n",
        "import gc\n",
        "del model\n",
        "del streamer\n",
        "del outputs\n",
        "gc.collect()"
      ],
      "metadata": {
        "id": "8Iutb_z8Duge"
      },
      "execution_count": null,
      "outputs": []
    },
    {
      "cell_type": "markdown",
      "source": [
        "**Reuse general pretrained model weights**"
      ],
      "metadata": {
        "id": "V9rym1WFDv20"
      }
    },
    {
      "cell_type": "markdown",
      "source": [
        "If you load an existing model, you can use it as is to continue pretraining on new data."
      ],
      "metadata": {
        "id": "60HQP6ADD0x6"
      }
    },
    {
      "cell_type": "code",
      "source": [
        "from transformers import AutoModelForCausalLM\n",
        "\n",
        "model_name_or_path = \"./models/TinySolar-248m-4k\"\n",
        "model = AutoModelForCausalLM.from_pretrained(\n",
        "    model_name_or_path,\n",
        "    device_map=\"cpu\",\n",
        "    torch_dtype=torch.bfloat16,\n",
        ")"
      ],
      "metadata": {
        "id": "y3P0CNy4D2E3"
      },
      "execution_count": null,
      "outputs": []
    },
    {
      "cell_type": "markdown",
      "source": [
        "Remove the model from memory to avoid crashing the kernel:"
      ],
      "metadata": {
        "id": "3w35Ru3_EDYD"
      }
    },
    {
      "cell_type": "code",
      "source": [
        "# NOTE: We're running large models in a limited environment. Run me if you encounter any memory issues.\n",
        "del model\n",
        "gc.collect()"
      ],
      "metadata": {
        "id": "QApRmQDZEJmx"
      },
      "execution_count": null,
      "outputs": []
    },
    {
      "cell_type": "markdown",
      "source": [
        "**Downscaling from a general pretrained model**"
      ],
      "metadata": {
        "id": "Cvuj40jbEMb3"
      }
    },
    {
      "cell_type": "markdown",
      "source": [
        "Here you'll downscale the tinySolar-248m-4k model from a 12 layer model to a 10 layer model."
      ],
      "metadata": {
        "id": "LMCcOf4_EOi9"
      }
    },
    {
      "cell_type": "code",
      "source": [
        "from transformers import AutoTokenizer, AutoConfig\n",
        "\n",
        "model_name_or_path = \"./models/TinySolar-248m-4k\"\n",
        "model = AutoModelForCausalLM.from_pretrained(\n",
        "    model_name_or_path,\n",
        "    device_map=\"cpu\",\n",
        "    torch_dtype=torch.bfloat16,\n",
        ")\n",
        "tokenizer = AutoTokenizer.from_pretrained(model_name_or_path)"
      ],
      "metadata": {
        "id": "8F9ZZeY3EQWO"
      },
      "execution_count": null,
      "outputs": []
    },
    {
      "cell_type": "code",
      "source": [
        "print(model)"
      ],
      "metadata": {
        "id": "6i3c9hPmESjm"
      },
      "execution_count": null,
      "outputs": []
    },
    {
      "cell_type": "code",
      "source": [
        "print_nparams(model)  # 248013824 => 248M"
      ],
      "metadata": {
        "id": "aq2pwiBfETC3"
      },
      "execution_count": null,
      "outputs": []
    },
    {
      "cell_type": "markdown",
      "source": [
        "Remove the middle two layers (layers 5 and 6) and update the configuration:"
      ],
      "metadata": {
        "id": "yONmeiT9EWJg"
      }
    },
    {
      "cell_type": "code",
      "source": [
        "layers = model.model.layers\n",
        "model.model.layers = layers[:5] + layers[-5:]\n",
        "\n",
        "config = AutoConfig.from_pretrained(\n",
        "    model_name_or_path,\n",
        "    num_hidden_layers=len(model.model.layers),\n",
        ")\n",
        "model.config = config\n",
        "\n",
        "print_nparams(model)  # 217601024 => 217M"
      ],
      "metadata": {
        "id": "hNoi6hwiEXDK"
      },
      "execution_count": null,
      "outputs": []
    },
    {
      "cell_type": "markdown",
      "source": [
        "Clear the memory to avoid crashing the kernel:"
      ],
      "metadata": {
        "id": "EmX_w7nREY-3"
      }
    },
    {
      "cell_type": "code",
      "source": [
        "# NOTE: We're running large models in a limited environment. Run me if you encounter any memory issues.\n",
        "import gc\n",
        "del model\n",
        "gc.collect()"
      ],
      "metadata": {
        "id": "LfeySsJ6Ebed"
      },
      "execution_count": null,
      "outputs": []
    },
    {
      "cell_type": "markdown",
      "source": [
        "**Depth Upscaling from a general pretrained model**"
      ],
      "metadata": {
        "id": "uP3o6N5_EcMD"
      }
    },
    {
      "cell_type": "markdown",
      "source": [
        "you are going to upscale the tinySolar-248m-4k model from 12 layers to 16 layers. Here are the steps you'll take:\n",
        "\n",
        "Configure a 16 layer model and initialize it with random weights\n",
        "\n",
        "Load the 12 layer tinySolar-248m-4k model into memory\n",
        "\n",
        "Copy the bottom 8 and top 8 layers from the 12 layer model and use them to overwrite the random weights of the 16 layer model\n",
        "\n",
        "Copy over the embedding and classifying layers to replace the randomly initialized counterparts in the 16 layer model"
      ],
      "metadata": {
        "id": "0W5gdN7VEffM"
      }
    },
    {
      "cell_type": "code",
      "source": [
        "config = LlamaConfig(\n",
        "    num_hidden_layers=16,  # We want our model to have 16 final layers\n",
        "    hidden_size=1024,\n",
        "    intermediate_size=4096,\n",
        "    num_attention_heads=32,\n",
        "    num_key_value_heads=8,\n",
        "    torch_dtype=\"bfloat16\",\n",
        "    use_cache=False\n",
        ")\n",
        "print(config)"
      ],
      "metadata": {
        "id": "jYS2XbpKEoYC"
      },
      "execution_count": null,
      "outputs": []
    },
    {
      "cell_type": "code",
      "source": [
        "model = LlamaForCausalLM(config)\n",
        "model = model.to(dtype=torch.bfloat16)  # convert to bfloat16\n",
        "print_nparams(model)  # 308839424 => 308M"
      ],
      "metadata": {
        "id": "YSdEe2HPEqCw"
      },
      "execution_count": null,
      "outputs": []
    },
    {
      "cell_type": "code",
      "source": [
        "model_name_or_path = \"upstage/TinySolar-248m-4k\"\n",
        "pretrained_model = AutoModelForCausalLM.from_pretrained(\n",
        "    model_name_or_path,\n",
        "    device_map=\"cpu\",\n",
        "    torch_dtype=torch.bfloat16,\n",
        ")\n",
        "tokenizer = AutoTokenizer.from_pretrained(model_name_or_path)\n",
        "\n",
        "print_nparams(pretrained_model) #  248013824 => 248M"
      ],
      "metadata": {
        "id": "qZtPpSedErAd"
      },
      "execution_count": null,
      "outputs": []
    },
    {
      "cell_type": "code",
      "source": [
        "from copy import deepcopy\n",
        "\n",
        "model.model.layers = deepcopy(pretrained_model.model.layers[:-4]) \\\n",
        "    + deepcopy(pretrained_model.model.layers[4:])\n",
        "\n",
        "model.model.embed_tokens = deepcopy(pretrained_model.model.embed_tokens)\n",
        "\n",
        "model.lm_head = deepcopy(pretrained_model.lm_head)\n",
        "\n",
        "print(model.config)"
      ],
      "metadata": {
        "id": "297kws2fEs0-"
      },
      "execution_count": null,
      "outputs": []
    },
    {
      "cell_type": "markdown",
      "source": [
        "Check the number of parameters is still 308 million:"
      ],
      "metadata": {
        "id": "v7AsnADMExEC"
      }
    },
    {
      "cell_type": "code",
      "source": [
        "print_nparams(model)  # 308839424 => 308M"
      ],
      "metadata": {
        "id": "Of78UgQFEyks"
      },
      "execution_count": null,
      "outputs": []
    },
    {
      "cell_type": "markdown",
      "source": [
        "Try using the model for inference:"
      ],
      "metadata": {
        "id": "j1wKW8WXE0Kj"
      }
    },
    {
      "cell_type": "code",
      "source": [
        "# Run simple inference to show no trained model\n",
        "prompt = \"I am an engineer. I love\"\n",
        "\n",
        "inputs = tokenizer(prompt, return_tensors=\"pt\").to(model.device)\n",
        "\n",
        "streamer = TextStreamer(\n",
        "    tokenizer,\n",
        "    skip_prompt=True,\n",
        "    skip_special_tokens=True\n",
        ")\n",
        "\n",
        "outputs = model.generate(\n",
        "    **inputs,\n",
        "    streamer=streamer,\n",
        "    use_cache=True,\n",
        "    max_new_tokens=128,\n",
        "    do_sample=False\n",
        ")"
      ],
      "metadata": {
        "id": "IvfM_sCeE0oy"
      },
      "execution_count": null,
      "outputs": []
    },
    {
      "cell_type": "markdown",
      "source": [
        "**Save the model to disk**"
      ],
      "metadata": {
        "id": "pT4YCmw1E5DF"
      }
    },
    {
      "cell_type": "markdown",
      "source": [
        "Note the new model name here which reflects the 308 million parameters of the new, upscaled model."
      ],
      "metadata": {
        "id": "-kpJihRzE7kY"
      }
    },
    {
      "cell_type": "code",
      "source": [
        "model.save_pretrained('./data/TinySolar-308m-4k-init')"
      ],
      "metadata": {
        "id": "urt5BR87E8CN"
      },
      "execution_count": null,
      "outputs": []
    },
    {
      "cell_type": "markdown",
      "source": [
        "# **Model training**"
      ],
      "metadata": {
        "id": "psYuChXGGZoM"
      }
    },
    {
      "cell_type": "code",
      "source": [
        "import warnings\n",
        "warnings.filterwarnings('ignore')"
      ],
      "metadata": {
        "id": "t0I_fRYOGiMb"
      },
      "execution_count": null,
      "outputs": []
    },
    {
      "cell_type": "markdown",
      "source": [
        "**Load the model to be trained**"
      ],
      "metadata": {
        "id": "8GO1YbaWGmBG"
      }
    },
    {
      "cell_type": "markdown",
      "source": [
        "Load the upscaled model from the previous lesson:"
      ],
      "metadata": {
        "id": "8cXrMp5FGoxm"
      }
    },
    {
      "cell_type": "code",
      "source": [
        "import torch\n",
        "from transformers import AutoModelForCausalLM\n",
        "\n",
        "pretrained_model = AutoModelForCausalLM.from_pretrained(\n",
        "    \"./models/TinySolar-308m-4k-init\",\n",
        "    device_map=\"cpu\",\n",
        "    torch_dtype=torch.bfloat16,\n",
        "    use_cache=False,\n",
        ")"
      ],
      "metadata": {
        "id": "VLEpSf-_GpYh"
      },
      "execution_count": null,
      "outputs": []
    },
    {
      "cell_type": "code",
      "source": [
        "pretrained_model"
      ],
      "metadata": {
        "id": "Fx9ABo53GsTV"
      },
      "execution_count": null,
      "outputs": []
    },
    {
      "cell_type": "markdown",
      "source": [
        "**Load dataset**"
      ],
      "metadata": {
        "id": "zarZ1AJDGwkh"
      }
    },
    {
      "cell_type": "markdown",
      "source": [
        "you'll update two methods on the Dataset object to allow it to interface with the trainer. These will be applied when you specify the dataset you created in Lesson 3 as the training data in the next section.\n",
        "\n",
        "Note that the code has additional comment strings that don't appear in the video. These are to help you understand what each part of the code is doing."
      ],
      "metadata": {
        "id": "pcNXGPB_G1R4"
      }
    },
    {
      "cell_type": "code",
      "source": [
        "import datasets\n",
        "from torch.utils.data import Dataset\n",
        "\n",
        "class CustomDataset(Dataset):\n",
        "    def __init__(self, args, split=\"train\"):\n",
        "        \"\"\"Initializes the custom dataset object.\"\"\"\n",
        "        self.args = args\n",
        "        self.dataset = datasets.load_dataset(\n",
        "            \"parquet\",\n",
        "            data_files=args.dataset_name,\n",
        "            split=split\n",
        "        )\n",
        "\n",
        "    def __len__(self):\n",
        "        \"\"\"Returns the number of samples in the dataset.\"\"\"\n",
        "        return len(self.dataset)\n",
        "\n",
        "    def __getitem__(self, idx):\n",
        "        \"\"\"\n",
        "        Retrieves a single data sample from the dataset\n",
        "        at the specified index\n",
        "        \"\"\"\n",
        "        # Convert the lists to a LongTensor for PyTorch\n",
        "        input_ids = torch.LongTensor(self.dataset[idx][\"input_ids\"])\n",
        "        labels = torch.LongTensor(self.dataset[idx][\"input_ids\"])\n",
        "\n",
        "        # Return the sample as a dictionary\n",
        "        return {\"input_ids\": input_ids, \"labels\": labels}"
      ],
      "metadata": {
        "id": "VCEhdZ9WHB0v"
      },
      "execution_count": null,
      "outputs": []
    },
    {
      "cell_type": "markdown",
      "source": [
        "**Configure Training Arguments**"
      ],
      "metadata": {
        "id": "tb1-kiUkHHUH"
      }
    },
    {
      "cell_type": "markdown",
      "source": [
        " you set up the training run. The training dataset you created in Lesson 3 is specified in the Dataset configuration section.\n",
        "\n",
        "Note: there are comment strings in the cell below that don't appear in the video. These have been included to help you understand what each parameter does."
      ],
      "metadata": {
        "id": "_e34ZNdkHIj0"
      }
    },
    {
      "cell_type": "code",
      "source": [
        "from dataclasses import dataclass, field\n",
        "import transformers\n",
        "\n",
        "@dataclass\n",
        "class CustomArguments(transformers.TrainingArguments):\n",
        "    dataset_name: str = field(                           # Dataset configuration\n",
        "        default=\"./parquet/packaged_pretrain_dataset.parquet\")\n",
        "    num_proc: int = field(default=1)                     # Number of subprocesses for data preprocessing\n",
        "    max_seq_length: int = field(default=32)              # Maximum sequence length\n",
        "\n",
        "    # Core training configurations\n",
        "    seed: int = field(default=0)                         # Random seed for initialization, ensuring reproducibility\n",
        "    optim: str = field(default=\"adamw_torch\")            # Optimizer, here it's AdamW implemented in PyTorch\n",
        "    max_steps: int = field(default=30)                   # Number of maximum training steps\n",
        "    per_device_train_batch_size: int = field(default=2)  # Batch size per device during training\n",
        "\n",
        "    # Other training configurations\n",
        "    learning_rate: float = field(default=5e-5)           # Initial learning rate for the optimizer\n",
        "    weight_decay: float = field(default=0)               # Weight decay\n",
        "    warmup_steps: int = field(default=10)                # Number of steps for the learning rate warmup phase\n",
        "    lr_scheduler_type: str = field(default=\"linear\")     # Type of learning rate scheduler\n",
        "    gradient_checkpointing: bool = field(default=True)   # Enable gradient checkpointing to save memory\n",
        "    dataloader_num_workers: int = field(default=2)       # Number of subprocesses for data loading\n",
        "    bf16: bool = field(default=True)                     # Use bfloat16 precision for training on supported hardware\n",
        "    gradient_accumulation_steps: int = field(default=1)  # Number of steps to accumulate gradients before updating model weights\n",
        "\n",
        "    # Logging configuration\n",
        "    logging_steps: int = field(default=3)                # Frequency of logging training information\n",
        "    report_to: str = field(default=\"none\")               # Destination for logging (e.g., WandB, TensorBoard)\n",
        "\n",
        "    # Saving configuration\n",
        "    # save_strategy: str = field(default=\"steps\")          # Can be replaced with \"epoch\"\n",
        "    # save_steps: int = field(default=3)                   # Frequency of saving training checkpoint\n",
        "    # save_total_limit: int = field(default=2)             # The total number of checkpoints to be saved"
      ],
      "metadata": {
        "id": "xbXbJ5J7HUx9"
      },
      "execution_count": null,
      "outputs": []
    },
    {
      "cell_type": "markdown",
      "source": [
        "Parse the custom arguments and set the output directory where the model will be saved:"
      ],
      "metadata": {
        "id": "UqSkZTeQHPKR"
      }
    },
    {
      "cell_type": "code",
      "source": [
        "parser = transformers.HfArgumentParser(CustomArguments)\n",
        "args, = parser.parse_args_into_dataclasses(\n",
        "    args=[\"--output_dir\", \"output\"]\n",
        ")"
      ],
      "metadata": {
        "id": "nhvM_rtpHXIr"
      },
      "execution_count": null,
      "outputs": []
    },
    {
      "cell_type": "markdown",
      "source": [
        "Setup the training dataset:"
      ],
      "metadata": {
        "id": "UorcTxL2HYzA"
      }
    },
    {
      "cell_type": "code",
      "source": [
        "train_dataset = CustomDataset(args=args)"
      ],
      "metadata": {
        "id": "9i7kECVcHZcd"
      },
      "execution_count": null,
      "outputs": []
    },
    {
      "cell_type": "markdown",
      "source": [
        "Check the shape of the dataset:"
      ],
      "metadata": {
        "id": "fkcl3QjgHa2G"
      }
    },
    {
      "cell_type": "code",
      "source": [
        "print(\"Input shape: \", train_dataset[0]['input_ids'].shape)"
      ],
      "metadata": {
        "id": "wx-LmJyZHdRB"
      },
      "execution_count": null,
      "outputs": []
    },
    {
      "cell_type": "markdown",
      "source": [
        "**Run the trainer and monitor the loss**"
      ],
      "metadata": {
        "id": "g0tXZXWfHhaT"
      }
    },
    {
      "cell_type": "markdown",
      "source": [
        "First, set up a callback to log the loss values during training (note this cell is not shown in the video):"
      ],
      "metadata": {
        "id": "MMIgLqwKHi-W"
      }
    },
    {
      "cell_type": "code",
      "source": [
        "from transformers import Trainer, TrainingArguments, TrainerCallback\n",
        "\n",
        "# Define a custom callback to log the loss values\n",
        "class LossLoggingCallback(TrainerCallback):\n",
        "    def on_log(self, args, state, control, logs=None, **kwargs):\n",
        "        if logs is not None:\n",
        "            self.logs.append(logs)\n",
        "\n",
        "    def __init__(self):\n",
        "        self.logs = []\n",
        "\n",
        "# Initialize the callback\n",
        "loss_logging_callback = LossLoggingCallback()"
      ],
      "metadata": {
        "id": "Y7g5WEq9Hlfz"
      },
      "execution_count": null,
      "outputs": []
    },
    {
      "cell_type": "markdown",
      "source": [
        "Then, create an instance of the Hugging Face Trainer object from the transformers library. Call the train() method of the trainder to initialize the training run:"
      ],
      "metadata": {
        "id": "MHP5Am73HoOk"
      }
    },
    {
      "cell_type": "code",
      "source": [
        "from transformers import Trainer\n",
        "\n",
        "trainer = Trainer(\n",
        "    model=pretrained_model,\n",
        "    args=args,\n",
        "    train_dataset=train_dataset,\n",
        "    eval_dataset=None,\n",
        "    callbacks=[loss_logging_callback]\n",
        ")\n",
        "\n",
        "trainer.train()"
      ],
      "metadata": {
        "id": "c-UYwAUfHp5A"
      },
      "execution_count": null,
      "outputs": []
    },
    {
      "cell_type": "markdown",
      "source": [
        "You can use the code below to save intermediate model checkpoints in your own training run:"
      ],
      "metadata": {
        "id": "dg3dJW8FHrXg"
      }
    },
    {
      "cell_type": "code",
      "source": [
        "# Saving configuration\n",
        "    # save_strategy: str = field(default=\"steps\")          # Can be replaced with \"epoch\"\n",
        "    # save_steps: int = field(default=3)                   # Frequency of saving training checkpoint\n",
        "    # save_total_limit: int = field(default=2)             # The total number of checkpoints to be saved"
      ],
      "metadata": {
        "id": "1EtOXmAtHtbk"
      },
      "execution_count": null,
      "outputs": []
    },
    {
      "cell_type": "markdown",
      "source": [
        "**Checking the performance of an intermediate checkpoint**"
      ],
      "metadata": {
        "id": "7-ikRSLBHv7q"
      }
    },
    {
      "cell_type": "markdown",
      "source": [
        "Below, you can try generating text using an intermediate checkpoint of the model. This checkpoint was saved after 10,000 training steps. As you did in previous lessons, you'll use the Solar tokenizer and then set up a TextStreater object to display the text as it is generated:"
      ],
      "metadata": {
        "id": "izCK9LchHxj_"
      }
    },
    {
      "cell_type": "code",
      "source": [
        "from transformers import AutoTokenizer, TextStreamer\n",
        "model_name_or_path = \"./models/TinySolar-248m-4k\"\n",
        "tokenizer = AutoTokenizer.from_pretrained(model_name_or_path)"
      ],
      "metadata": {
        "id": "2y5xYneOH1_-"
      },
      "execution_count": null,
      "outputs": []
    },
    {
      "cell_type": "code",
      "source": [
        "from transformers import AutoTokenizer, TextStreamer, AutoModelForCausalLM\n",
        "import torch\n",
        "\n",
        "model_name_or_path = \"./models/upstage/output/checkpoint-10000\"\n",
        "model2 = AutoModelForCausalLM.from_pretrained(\n",
        "    model_name_or_path,\n",
        "    device_map=\"auto\",\n",
        "    torch_dtype=torch.bfloat16,\n",
        ")\n"
      ],
      "metadata": {
        "id": "LEp4nHAOH2cH"
      },
      "execution_count": null,
      "outputs": []
    },
    {
      "cell_type": "code",
      "source": [
        "prompt = \"I am an engineer. I love\"\n",
        "\n",
        "inputs = tokenizer(prompt, return_tensors=\"pt\").to(model2.device)\n",
        "\n",
        "streamer = TextStreamer(\n",
        "    tokenizer,\n",
        "    skip_prompt=True,\n",
        "    skip_special_tokens=True\n",
        ")\n",
        "\n",
        "outputs = model2.generate(\n",
        "    **inputs,\n",
        "    streamer=streamer,\n",
        "    use_cache=True,\n",
        "    max_new_tokens=64,\n",
        "    do_sample=True,\n",
        "    temperature=1.0,\n",
        ")"
      ],
      "metadata": {
        "id": "fJSlouwiH4IG"
      },
      "execution_count": null,
      "outputs": []
    },
    {
      "cell_type": "markdown",
      "source": [
        "**Model evaluation**"
      ],
      "metadata": {
        "id": "IUDZ1AiaKK5p"
      }
    },
    {
      "cell_type": "markdown",
      "source": [
        "\n",
        "\n",
        "The model comparison tool that Sung described in the video can be found at this link: https://console.upstage.ai/ (note that you need to create a free account to try it out.)\n",
        "\n",
        "A useful tool for evaluating LLMs is the **LM Evaluation Harness** built by EleutherAI. Information about the harness can be found at this [github repo](https://github.com/EleutherAI/lm-evaluation-harness):\n",
        "\n",
        "You can run the commented code below to install the evaluation harness in your own environment:"
      ],
      "metadata": {
        "id": "12nHq0-gKT7N"
      }
    },
    {
      "cell_type": "code",
      "source": [
        "#!pip install -U git+https://github.com/EleutherAI/lm-evaluation-harness"
      ],
      "metadata": {
        "id": "OPw44UfPKXOu"
      },
      "execution_count": null,
      "outputs": []
    },
    {
      "cell_type": "markdown",
      "source": [
        "You will evaluate TinySolar-248m-4k on 5 questions from the TruthfulQA MC2 task. This is a multiple-choice question answering task that tests the model's ability to identify true statements. You can read more about the TruthfulQA benchmark in this paper, and you can checkout the code for implementing the tasks at this github repo.\n",
        "\n",
        "The code below runs only the TruthfulQA MC2 task using the LM Evaluation Harness:"
      ],
      "metadata": {
        "id": "2Vg67iI4KZzN"
      }
    },
    {
      "cell_type": "code",
      "source": [
        "!lm_eval --model hf \\\n",
        "    --model_args pretrained=./models/TinySolar-248m-4k \\\n",
        "    --tasks truthfulqa_mc2 \\\n",
        "    --device cpu \\\n",
        "    --limit 5"
      ],
      "metadata": {
        "id": "UgEkTMJOKfbE"
      },
      "execution_count": null,
      "outputs": []
    },
    {
      "cell_type": "markdown",
      "source": [
        "**Evaluation for the Hugging Face Leaderboard**"
      ],
      "metadata": {
        "id": "jBeHasIYKhS0"
      }
    },
    {
      "cell_type": "markdown",
      "source": [
        "You can use the code below to test your own model against the evaluations required for the [Hugging Face leaderboard](https://huggingface.co/open-llm-leaderboard).\n",
        "\n",
        "If you decide to run this evaluation on your own model, don't change the few-shot numbers below - they are set by the rules of the leaderboard."
      ],
      "metadata": {
        "id": "gJ2Qg6YIKisq"
      }
    },
    {
      "cell_type": "code",
      "source": [
        "import os\n",
        "\n",
        "def h6_open_llm_leaderboard(model_name):\n",
        "  task_and_shot = [\n",
        "      ('arc_challenge', 25),\n",
        "      ('hellaswag', 10),\n",
        "      ('mmlu', 5),\n",
        "      ('truthfulqa_mc2', 0),\n",
        "      ('winogrande', 5),\n",
        "      ('gsm8k', 5)\n",
        "  ]\n",
        "\n",
        "  for task, fewshot in task_and_shot:\n",
        "    eval_cmd = f\"\"\"\n",
        "    lm_eval --model hf \\\n",
        "        --model_args pretrained={model_name} \\\n",
        "        --tasks {task} \\\n",
        "        --device cpu \\\n",
        "        --num_fewshot {fewshot}\n",
        "    \"\"\"\n",
        "    os.system(eval_cmd)\n",
        "\n",
        "h6_open_llm_leaderboard(model_name=\"YOUR_MODEL\")"
      ],
      "metadata": {
        "id": "oT7Ty0DFKlwV"
      },
      "execution_count": null,
      "outputs": []
    }
  ]
}